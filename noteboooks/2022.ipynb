{
 "cells": [
  {
   "cell_type": "code",
   "execution_count": 1,
   "metadata": {},
   "outputs": [
    {
     "name": "stdout",
     "output_type": "stream",
     "text": [
      "/home/prog3/notebooks/petrol\n"
     ]
    },
    {
     "name": "stderr",
     "output_type": "stream",
     "text": [
      "/home/prog3/.cache/pypoetry/virtualenvs/petrol-j8nzVRxz-py3.10/lib/python3.10/site-packages/IPython/core/magics/osm.py:393: UserWarning: This is now an optional IPython functionality, using bookmarks requires you to install the `pickleshare` library.\n",
      "  bkms = self.shell.db.get('bookmarks', {})\n",
      "/home/prog3/.cache/pypoetry/virtualenvs/petrol-j8nzVRxz-py3.10/lib/python3.10/site-packages/IPython/core/magics/osm.py:417: UserWarning: This is now an optional IPython functionality, setting dhist requires you to install the `pickleshare` library.\n",
      "  self.shell.db['dhist'] = compress_dhist(dhist)[-100:]\n"
     ]
    }
   ],
   "source": [
    "import pandas as pd\n",
    "from os.path import join \n",
    "from core.data import Dataset\n",
    "from core.configs import *\n",
    "from core.train import Train\n",
    "import optuna\n",
    "import plotly.express as px\n",
    "import mlflow\n",
    "%cd ~/notebooks/petrol/\n",
    "mlflow.set_tracking_uri('mlruns')"
   ]
  },
  {
   "cell_type": "markdown",
   "metadata": {},
   "source": [
    "# 2022 - 1250"
   ]
  },
  {
   "cell_type": "markdown",
   "metadata": {},
   "source": [
    "## Объединение с влагомером и водой"
   ]
  },
  {
   "cell_type": "code",
   "execution_count": null,
   "metadata": {},
   "outputs": [],
   "source": [
    "df = Dataset(verbose=True)\n",
    "df.load(join(DATA, 'raw', '2022', 'Режимный лист МУИС 2022.xlsx1250_clear.csv'), parse_dates=['Дата'])\n",
    "df.drop(['Unnamed: 0'])\n",
    "\n",
    "df.df.columns = [\n",
    " \"Date\",\"BlockP\",\"BlockT\",\n",
    " \"C1P\",\"C1T\",\"C1L\",\n",
    " \"C2P\",\"C2T\",\"C2interfacial_L\",\"С2petrol_L\",\n",
    "\n",
    " \"OH1T\",\"OH1interfacial_L\",\"OH1P\",\n",
    " \n",
    " \"C3T\",\"C3L\",\n",
    " \"P1Tinput\",\"P1Toutput\",\"P1Pinput\",\"P1Poutput\",\"P1Тcoolant\",\"P1Tgases\",\"P1Рburner\",\n",
    " \"P2Tinput\",\"P2Toutput\",\"P2Pinput\",\"P2Poutput\",\"P2Tcoolant\",\"P2Tgases\",\"P2Pburner\",\n",
    " \"BEV1L\",\"BEV1V_water\",\"BEV1V_petrol\",\"BEV1T_water\"\n",
    "]\n",
    "\n",
    "\n",
    "vlagomer = pd.read_csv(join(DATA, 'raw', '2022', '1250_2022_vlagomer.csv'), parse_dates=['Дата']).drop(columns='Unnamed: 0')\n",
    "vlagomer.columns = ['Date', 'Water_2hours', 'Vlagomer']\n",
    "\n",
    "df.df = df.df.merge(vlagomer)\n",
    "df.save(join(DATA, 'raw', '2022','2022_1250_joined_vlagomer.csv'))\n",
    "df.df"
   ]
  },
  {
   "cell_type": "markdown",
   "metadata": {},
   "source": [
    "## Подготовка к train"
   ]
  },
  {
   "cell_type": "code",
   "execution_count": null,
   "metadata": {},
   "outputs": [],
   "source": [
    "cols_to_drop = ['BEV1L','BEV1V_water', 'BEV1V_petrol', 'BEV1T_water']\n",
    "df_2022 = Dataset(verbose=False)\n",
    "df_2022.load(join(DATA, 'preprocessed', '2022_1250_joined_vlagomer.csv'), parse_dates=['Date'])\n",
    "df_2022.drop(cols_to_drop)\n",
    "df_2022.astype(df_2022.cols[1:], 'float32')\n",
    "df_2022.corr_matrix(df_2022.cols[1:], target='Vlagomer', show=True, height=400, width=1800, title='До скалирования/замены выбросов/minmax скалирования')\n",
    "df_2022.scale(df_2022.cols[1:], method='standard')\n",
    "df_2022.recovery_outliers(df_2022.cols[1:-1], save_interval=[-6,10], insert=False)\n",
    "df_2022.scale(df_2022.cols[1:], method='minmax')\n",
    "\n",
    "\n",
    "df_2022.corr_matrix(df_2022.cols[1:], target='Vlagomer', show=True, height=400, width=1800, title='До скалирования/замены выбросов/minmax скалирования')\n",
    "# df_2022.time_series(df_2022.cols[1:], time_axis='Date', show=True, height=500, width=1750)\n",
    "df_2022.save(join(DATA, 'preprocessed', '2022_1250_scaled.csv'))"
   ]
  },
  {
   "cell_type": "markdown",
   "metadata": {},
   "source": [
    "### LightGBM"
   ]
  },
  {
   "cell_type": "markdown",
   "metadata": {},
   "source": [
    "#### Все признаки:\n",
    "    'BlockP', 'BlockT', 'C1P', 'C1T', 'C1L', 'C2P', 'C2T',\n",
    "    'C2interfacial_L', 'С2petrol_L', 'OH1T', 'OH1interfacial_L', 'OH1P',\n",
    "    'C3T', 'C3L', 'P1Tinput', 'P1Toutput', 'P1Pinput', 'P1Poutput',\n",
    "    'P1Тcoolant', 'P1Tgases', 'P1Рburner', 'P2Tinput', 'P2Toutput',\n",
    "    'P2Pinput', 'P2Poutput', 'P2Tcoolant', 'P2Tgases', 'P2Pburner', 'Water'"
   ]
  },
  {
   "cell_type": "code",
   "execution_count": 2,
   "metadata": {},
   "outputs": [
    {
     "name": "stderr",
     "output_type": "stream",
     "text": [
      "[I 2024-04-25 10:53:21,412] A new study created in RDB with name: lightgbm_2022_1250_scaled\n",
      "/home/prog3/notebooks/petrol/core/train.py:126: ExperimentalWarning: set_metric_names is experimental (supported from v3.2.0). The interface can change in the future.\n",
      "  study.set_metric_names(self.metrics_list)\n",
      "[I 2024-04-25 10:53:22,556] Trial 0 finished with values: {'r2': 0.7118425774276733, 'mae': 0.06894150111832563, 'mse': 0.008224453108799885, 'rmse': 0.09068877057717722} and parameters: {'n_estimators': 100, 'learning_rate': 0.0160335917944502, 'num_leaves': 186, 'subsample': 0.1792219207921174, 'colsample_bytree': 0.5681536889877916, 'min_data_in_leaf': 13}. \n",
      "[I 2024-04-25 10:53:25,256] Trial 1 finished with values: {'r2': 0.7761216299624762, 'mae': 0.05843710568892213, 'mse': 0.006389830739085017, 'rmse': 0.07993641685167667} and parameters: {'n_estimators': 100, 'learning_rate': 0.16910220494880127, 'num_leaves': 940, 'subsample': 0.7796302842724114, 'colsample_bytree': 0.5948923393780449, 'min_data_in_leaf': 7}. \n",
      "[I 2024-04-25 10:53:25,664] Trial 2 finished with values: {'r2': 0.7681294726363143, 'mae': 0.05892516571366982, 'mse': 0.00661793912019282, 'rmse': 0.08135071677737585} and parameters: {'n_estimators': 100, 'learning_rate': 0.12211972731452107, 'num_leaves': 1010, 'subsample': 0.9414554079744084, 'colsample_bytree': 0.681180029927823, 'min_data_in_leaf': 98}. \n",
      "[I 2024-04-25 10:53:29,964] Trial 3 finished with values: {'r2': 0.7705622734938758, 'mae': 0.06036413555814435, 'mse': 0.0065485032667018635, 'rmse': 0.08092282290368931} and parameters: {'n_estimators': 100, 'learning_rate': 0.015554400613258754, 'num_leaves': 544, 'subsample': 0.5901545045241351, 'colsample_bytree': 0.9544162362153236, 'min_data_in_leaf': 3}. \n",
      "[I 2024-04-25 10:53:30,411] Trial 4 finished with values: {'r2': 0.7225474552478263, 'mae': 0.06717516285918622, 'mse': 0.007918919540095156, 'rmse': 0.08898831125544049} and parameters: {'n_estimators': 100, 'learning_rate': 0.016102401352446515, 'num_leaves': 139, 'subsample': 0.6064776172689403, 'colsample_bytree': 0.5498415220326934, 'min_data_in_leaf': 44}. \n",
      "[I 2024-04-25 10:53:34,040] Trial 5 finished with values: {'r2': 0.7897089436495486, 'mae': 0.05593618961057752, 'mse': 0.006002028046736072, 'rmse': 0.07747275680351172} and parameters: {'n_estimators': 100, 'learning_rate': 0.026956697523389854, 'num_leaves': 644, 'subsample': 0.4558581619783748, 'colsample_bytree': 0.5808655171177446, 'min_data_in_leaf': 3}. \n",
      "[I 2024-04-25 10:53:34,780] Trial 6 finished with values: {'r2': 0.7699776446305013, 'mae': 0.05880866652384181, 'mse': 0.006565189467702528, 'rmse': 0.0810258567847482} and parameters: {'n_estimators': 100, 'learning_rate': 0.06520793971225772, 'num_leaves': 128, 'subsample': 0.4352366226373114, 'colsample_bytree': 0.5889582855058745, 'min_data_in_leaf': 39}. \n",
      "[I 2024-04-25 10:53:36,913] Trial 7 finished with values: {'r2': 0.779414181190971, 'mae': 0.057947898354724844, 'mse': 0.006295856296416343, 'rmse': 0.07934643215933747} and parameters: {'n_estimators': 100, 'learning_rate': 0.08461188305460164, 'num_leaves': 547, 'subsample': 0.4868430880695877, 'colsample_bytree': 0.0870514177019597, 'min_data_in_leaf': 3}. \n",
      "[I 2024-04-25 10:53:37,525] Trial 8 finished with values: {'r2': 0.7445624630525973, 'mae': 0.06289182687061579, 'mse': 0.007290577581162077, 'rmse': 0.08538487911311977} and parameters: {'n_estimators': 100, 'learning_rate': 0.04677684697694315, 'num_leaves': 696, 'subsample': 0.4528395994519141, 'colsample_bytree': 0.3928884805810553, 'min_data_in_leaf': 82}. \n",
      "[I 2024-04-25 10:53:38,318] Trial 9 finished with values: {'r2': 0.7798692001921304, 'mae': 0.05710768520617918, 'mse': 0.006282869358910995, 'rmse': 0.07926455297868647} and parameters: {'n_estimators': 100, 'learning_rate': 0.09405080985210469, 'num_leaves': 505, 'subsample': 0.9943331306315244, 'colsample_bytree': 0.5061240169441892, 'min_data_in_leaf': 34}. \n",
      "[I 2024-04-25 10:53:38,722] Trial 10 finished with values: {'r2': 0.7665485992955576, 'mae': 0.05903392610655255, 'mse': 0.006663059660715217, 'rmse': 0.0816275667940385} and parameters: {'n_estimators': 100, 'learning_rate': 0.055619621934106724, 'num_leaves': 606, 'subsample': 0.6168440736715881, 'colsample_bytree': 0.7928561839741856, 'min_data_in_leaf': 59}. \n",
      "[I 2024-04-25 10:53:39,475] Trial 11 finished with values: {'r2': 0.7812273518834724, 'mae': 0.05705539347757437, 'mse': 0.006244105634553779, 'rmse': 0.0790196534702208} and parameters: {'n_estimators': 100, 'learning_rate': 0.04653951694252472, 'num_leaves': 897, 'subsample': 0.5077890544318269, 'colsample_bytree': 0.5569777978169208, 'min_data_in_leaf': 19}. \n",
      "[I 2024-04-25 10:53:39,941] Trial 12 finished with values: {'r2': 0.7651114876342789, 'mae': 0.05965364061085085, 'mse': 0.00670407702325541, 'rmse': 0.08187842831451646} and parameters: {'n_estimators': 100, 'learning_rate': 0.1792591685088688, 'num_leaves': 324, 'subsample': 0.574696063943268, 'colsample_bytree': 0.34973008755628343, 'min_data_in_leaf': 41}. \n",
      "[I 2024-04-25 10:53:40,457] Trial 13 finished with values: {'r2': 0.722967124890477, 'mae': 0.06630641523517644, 'mse': 0.007906941527291059, 'rmse': 0.08892098474089824} and parameters: {'n_estimators': 100, 'learning_rate': 0.16697480798232756, 'num_leaves': 573, 'subsample': 0.11341622279018285, 'colsample_bytree': 0.1540533886832623, 'min_data_in_leaf': 45}. \n",
      "[I 2024-04-25 10:53:40,779] Trial 14 finished with values: {'r2': 0.7597486268010947, 'mae': 0.060052630722622784, 'mse': 0.006857141265216669, 'rmse': 0.08280785750891438} and parameters: {'n_estimators': 100, 'learning_rate': 0.0806903037455255, 'num_leaves': 299, 'subsample': 0.6318215945440824, 'colsample_bytree': 0.9981893862371333, 'min_data_in_leaf': 91}. \n",
      "[I 2024-04-25 10:53:41,326] Trial 15 finished with values: {'r2': 0.7442367328832135, 'mae': 0.06367883924684509, 'mse': 0.0072998744178713465, 'rmse': 0.08543930253619435} and parameters: {'n_estimators': 100, 'learning_rate': 0.06514933349504208, 'num_leaves': 88, 'subsample': 0.2425816161764935, 'colsample_bytree': 0.2541692708297332, 'min_data_in_leaf': 60}. \n",
      "[I 2024-04-25 10:53:41,942] Trial 16 finished with values: {'r2': 0.7499091477315155, 'mae': 0.06253755912966619, 'mse': 0.007137975031358716, 'rmse': 0.08448653757468533} and parameters: {'n_estimators': 100, 'learning_rate': 0.039171969328370325, 'num_leaves': 1016, 'subsample': 0.15718087798904734, 'colsample_bytree': 0.6811440693030555, 'min_data_in_leaf': 25}. \n",
      "[I 2024-04-25 10:53:42,502] Trial 17 finished with values: {'r2': 0.6752056983523, 'mae': 0.07413534834798488, 'mse': 0.00927012561419075, 'rmse': 0.09628149154531596} and parameters: {'n_estimators': 100, 'learning_rate': 0.020220862695025897, 'num_leaves': 497, 'subsample': 0.8304670719730356, 'colsample_bytree': 0.11498029436162646, 'min_data_in_leaf': 30}. \n",
      "[I 2024-04-25 10:53:45,112] Trial 18 finished with values: {'r2': 0.7946143864960384, 'mae': 0.05525463052527831, 'mse': 0.005862019212992675, 'rmse': 0.07656382444074143} and parameters: {'n_estimators': 100, 'learning_rate': 0.04788916161375526, 'num_leaves': 1017, 'subsample': 0.997388846977454, 'colsample_bytree': 0.7560032475127904, 'min_data_in_leaf': 9}. \n",
      "[I 2024-04-25 10:53:45,537] Trial 19 finished with values: {'r2': 0.7569410298057184, 'mae': 0.060787790025240394, 'mse': 0.006937274373122588, 'rmse': 0.0832903017951225} and parameters: {'n_estimators': 100, 'learning_rate': 0.028644780138666448, 'num_leaves': 330, 'subsample': 0.9492093380673708, 'colsample_bytree': 0.5024144244600658, 'min_data_in_leaf': 79}. \n",
      "[I 2024-04-25 10:53:46,115] Trial 20 finished with values: {'r2': 0.6568370924257041, 'mae': 0.07726020490306369, 'mse': 0.009794393692273638, 'rmse': 0.09896662918516341} and parameters: {'n_estimators': 100, 'learning_rate': 0.01278701595638966, 'num_leaves': 454, 'subsample': 0.16466010176928547, 'colsample_bytree': 0.7608235752446009, 'min_data_in_leaf': 31}. \n",
      "[I 2024-04-25 10:53:47,457] Trial 21 finished with values: {'r2': 0.7913028828006672, 'mae': 0.05657457747410615, 'mse': 0.0059565345880230125, 'rmse': 0.077178588922207} and parameters: {'n_estimators': 100, 'learning_rate': 0.08053489410000754, 'num_leaves': 700, 'subsample': 0.5819116034341829, 'colsample_bytree': 0.9699144433507976, 'min_data_in_leaf': 11}. \n",
      "[I 2024-04-25 10:53:47,779] Trial 22 finished with values: {'r2': 0.6572975919756237, 'mae': 0.07735787478343469, 'mse': 0.009781250331533082, 'rmse': 0.09890020390036151} and parameters: {'n_estimators': 100, 'learning_rate': 0.012829718219108202, 'num_leaves': 103, 'subsample': 0.584826981565011, 'colsample_bytree': 0.442231046843436, 'min_data_in_leaf': 89}. \n",
      "[I 2024-04-25 10:53:48,565] Trial 23 finished with values: {'r2': 0.7645839839864352, 'mae': 0.05943005589710169, 'mse': 0.006719132783324623, 'rmse': 0.08197031647690903} and parameters: {'n_estimators': 100, 'learning_rate': 0.09261168066710515, 'num_leaves': 47, 'subsample': 0.3135993460470819, 'colsample_bytree': 0.6591688096719421, 'min_data_in_leaf': 22}. \n",
      "[I 2024-04-25 10:53:49,130] Trial 24 finished with values: {'r2': 0.7647078580382322, 'mae': 0.05951636357646713, 'mse': 0.006715597228622242, 'rmse': 0.08194874757201749} and parameters: {'n_estimators': 100, 'learning_rate': 0.0297407444395147, 'num_leaves': 1000, 'subsample': 0.8456125820741597, 'colsample_bytree': 0.3861059245063095, 'min_data_in_leaf': 46}. \n",
      "[I 2024-04-25 10:53:49,906] Trial 25 finished with values: {'r2': 0.756278281416951, 'mae': 0.061577580129204196, 'mse': 0.006956190224734852, 'rmse': 0.08340377824016638} and parameters: {'n_estimators': 100, 'learning_rate': 0.018614836701834607, 'num_leaves': 913, 'subsample': 0.699460011510806, 'colsample_bytree': 0.9447914983958864, 'min_data_in_leaf': 27}. \n",
      "[I 2024-04-25 10:53:50,325] Trial 26 finished with values: {'r2': 0.7642850054729008, 'mae': 0.059512475884724456, 'mse': 0.006727666086902758, 'rmse': 0.0820223511422512} and parameters: {'n_estimators': 100, 'learning_rate': 0.10414783700763298, 'num_leaves': 60, 'subsample': 0.9769951067437113, 'colsample_bytree': 0.18248013162596138, 'min_data_in_leaf': 83}. \n",
      "[I 2024-04-25 10:53:50,966] Trial 27 finished with values: {'r2': 0.7478395529665836, 'mae': 0.06200559173451634, 'mse': 0.007197044428032435, 'rmse': 0.08483539607989365} and parameters: {'n_estimators': 100, 'learning_rate': 0.1647133362889938, 'num_leaves': 469, 'subsample': 0.48079757088035624, 'colsample_bytree': 0.10266342384418436, 'min_data_in_leaf': 59}. \n",
      "[I 2024-04-25 10:53:51,493] Trial 28 finished with values: {'r2': 0.7014275834910657, 'mae': 0.07062601208768592, 'mse': 0.00852171294856183, 'rmse': 0.0923131244653859} and parameters: {'n_estimators': 100, 'learning_rate': 0.03170425780073675, 'num_leaves': 725, 'subsample': 0.1068692230165536, 'colsample_bytree': 0.6040236564451293, 'min_data_in_leaf': 39}. \n",
      "[I 2024-04-25 10:53:51,961] Trial 29 finished with values: {'r2': 0.45164920331806213, 'mae': 0.09937271746382106, 'mse': 0.01565076954889715, 'rmse': 0.12510303573014184} and parameters: {'n_estimators': 100, 'learning_rate': 0.18684422844620036, 'num_leaves': 362, 'subsample': 0.07350974026759886, 'colsample_bytree': 0.0794985782421404, 'min_data_in_leaf': 87}. \n",
      "[I 2024-04-25 10:53:52,645] Trial 30 finished with values: {'r2': 0.7806132050481651, 'mae': 0.05797135870479172, 'mse': 0.006261634323573177, 'rmse': 0.0791304892160612} and parameters: {'n_estimators': 100, 'learning_rate': 0.18067484155488736, 'num_leaves': 136, 'subsample': 0.9611457704309357, 'colsample_bytree': 0.47477156925487535, 'min_data_in_leaf': 40}. \n",
      "[I 2024-04-25 10:53:52,999] Trial 31 finished with values: {'r2': 0.7739824495852052, 'mae': 0.05834201687362808, 'mse': 0.006450886215453021, 'rmse': 0.08031740916795699} and parameters: {'n_estimators': 100, 'learning_rate': 0.1857403078372949, 'num_leaves': 72, 'subsample': 0.8238696464851231, 'colsample_bytree': 0.8294359353083569, 'min_data_in_leaf': 100}. \n",
      "[I 2024-04-25 10:53:53,933] Trial 32 finished with values: {'r2': 0.7696502970303984, 'mae': 0.05915492479798557, 'mse': 0.006574532468355751, 'rmse': 0.0810834907262616} and parameters: {'n_estimators': 100, 'learning_rate': 0.028334272700148082, 'num_leaves': 683, 'subsample': 0.2861293101026931, 'colsample_bytree': 0.7410255489989338, 'min_data_in_leaf': 13}. \n",
      "[I 2024-04-25 10:53:57,313] Trial 33 finished with values: {'r2': 0.754138566767355, 'mae': 0.062454081553335296, 'mse': 0.007017260950051311, 'rmse': 0.08376909304780202} and parameters: {'n_estimators': 100, 'learning_rate': 0.02195155884232619, 'num_leaves': 727, 'subsample': 0.7749123204235813, 'colsample_bytree': 0.12297002960632178, 'min_data_in_leaf': 3}. \n",
      "[I 2024-04-25 10:53:57,635] Trial 34 finished with values: {'r2': 0.7513028099794203, 'mae': 0.06189880569235923, 'mse': 0.007098197781461498, 'rmse': 0.0842508028535129} and parameters: {'n_estimators': 100, 'learning_rate': 0.12691383354704647, 'num_leaves': 814, 'subsample': 0.7894373568825869, 'colsample_bytree': 0.11670087090396859, 'min_data_in_leaf': 100}. \n",
      "[I 2024-04-25 10:53:58,178] Trial 35 finished with values: {'r2': 0.6983977954599065, 'mae': 0.07089741668411105, 'mse': 0.00860818772810917, 'rmse': 0.0927803197241159} and parameters: {'n_estimators': 100, 'learning_rate': 0.018179732455561145, 'num_leaves': 988, 'subsample': 0.9665209001200986, 'colsample_bytree': 0.17421477261939852, 'min_data_in_leaf': 49}. \n",
      "[I 2024-04-25 10:53:58,809] Trial 36 finished with values: {'r2': 0.7392540844061409, 'mae': 0.06431933534503124, 'mse': 0.00744208681827214, 'rmse': 0.08626753049828273} and parameters: {'n_estimators': 100, 'learning_rate': 0.017294866012039427, 'num_leaves': 778, 'subsample': 0.683919931652231, 'colsample_bytree': 0.5198256584560824, 'min_data_in_leaf': 31}. \n",
      "[I 2024-04-25 10:53:59,140] Trial 37 finished with values: {'r2': 0.6516879046050781, 'mae': 0.0780869147414879, 'mse': 0.009941359379990786, 'rmse': 0.09970636579472138} and parameters: {'n_estimators': 100, 'learning_rate': 0.012064636668550418, 'num_leaves': 267, 'subsample': 0.5633721662960213, 'colsample_bytree': 0.45766152532665727, 'min_data_in_leaf': 75}. \n",
      "[I 2024-04-25 10:53:59,610] Trial 38 finished with values: {'r2': 0.7655956210761078, 'mae': 0.059482727941255205, 'mse': 0.0066902591151301255, 'rmse': 0.08179400415146654} and parameters: {'n_estimators': 100, 'learning_rate': 0.058690612742180306, 'num_leaves': 957, 'subsample': 0.5898298416036937, 'colsample_bytree': 0.2552098817016957, 'min_data_in_leaf': 40}. \n",
      "[I 2024-04-25 10:54:00,195] Trial 39 finished with values: {'r2': 0.7304100166627853, 'mae': 0.06606096891593935, 'mse': 0.007694510024299467, 'rmse': 0.08771835625625612} and parameters: {'n_estimators': 100, 'learning_rate': 0.03151494245696156, 'num_leaves': 764, 'subsample': 0.13784279204292627, 'colsample_bytree': 0.37446495933724483, 'min_data_in_leaf': 24}. \n",
      "[I 2024-04-25 10:54:00,597] Trial 40 finished with values: {'r2': 0.767730836736322, 'mae': 0.0591461130392574, 'mse': 0.0066293167978445115, 'rmse': 0.08142061654055753} and parameters: {'n_estimators': 100, 'learning_rate': 0.1801538775217415, 'num_leaves': 991, 'subsample': 0.8210144901047842, 'colsample_bytree': 0.32394999169170896, 'min_data_in_leaf': 80}. \n",
      "[I 2024-04-25 10:54:01,083] Trial 41 finished with values: {'r2': 0.4564867466256166, 'mae': 0.10105831950168344, 'mse': 0.015512698671736994, 'rmse': 0.12454998463162087} and parameters: {'n_estimators': 100, 'learning_rate': 0.021865126732940245, 'num_leaves': 481, 'subsample': 0.11771147571460229, 'colsample_bytree': 0.6840813803980481, 'min_data_in_leaf': 100}. \n",
      "[I 2024-04-25 10:54:01,400] Trial 42 finished with values: {'r2': 0.7607700786504671, 'mae': 0.059976087550842494, 'mse': 0.006827987468784609, 'rmse': 0.08263163721471703} and parameters: {'n_estimators': 100, 'learning_rate': 0.1347824388035662, 'num_leaves': 157, 'subsample': 0.5591671376445033, 'colsample_bytree': 0.4873585806883662, 'min_data_in_leaf': 93}. \n",
      "[I 2024-04-25 10:54:01,938] Trial 43 finished with values: {'r2': 0.7374963054542101, 'mae': 0.06444613891660003, 'mse': 0.007492256515227148, 'rmse': 0.08655782180269526} and parameters: {'n_estimators': 100, 'learning_rate': 0.05800245711427428, 'num_leaves': 8, 'subsample': 0.21595301913695641, 'colsample_bytree': 0.41239280159360153, 'min_data_in_leaf': 38}. \n",
      "[I 2024-04-25 10:54:03,817] Trial 44 finished with values: {'r2': 0.7392241061496991, 'mae': 0.06315972400979263, 'mse': 0.007442942443514025, 'rmse': 0.08627248949412568} and parameters: {'n_estimators': 100, 'learning_rate': 0.13944242039916993, 'num_leaves': 350, 'subsample': 0.3142102770712436, 'colsample_bytree': 0.6870428932012485, 'min_data_in_leaf': 5}. \n",
      "[I 2024-04-25 10:54:04,346] Trial 45 finished with values: {'r2': 0.6287559656537698, 'mae': 0.08136079890307413, 'mse': 0.010595871954802417, 'rmse': 0.10293625189797041} and parameters: {'n_estimators': 100, 'learning_rate': 0.021401634970832327, 'num_leaves': 273, 'subsample': 0.21606890038319349, 'colsample_bytree': 0.20967583215228425, 'min_data_in_leaf': 80}. \n",
      "[I 2024-04-25 10:54:04,850] Trial 46 finished with values: {'r2': 0.6722178266182148, 'mae': 0.07519289617700815, 'mse': 0.009355404038576728, 'rmse': 0.09672333761082032} and parameters: {'n_estimators': 100, 'learning_rate': 0.0916328188005253, 'num_leaves': 536, 'subsample': 0.057788406231470774, 'colsample_bytree': 0.10284677826275854, 'min_data_in_leaf': 25}. \n",
      "[I 2024-04-25 10:54:06,775] Trial 47 finished with values: {'r2': 0.7869762686302741, 'mae': 0.056227460601605245, 'mse': 0.0060800227669726105, 'rmse': 0.07797450074846655} and parameters: {'n_estimators': 100, 'learning_rate': 0.036516572387514705, 'num_leaves': 458, 'subsample': 0.8850913452197978, 'colsample_bytree': 0.2552347739771108, 'min_data_in_leaf': 9}. \n",
      "[I 2024-04-25 10:54:08,525] Trial 48 finished with values: {'r2': 0.7952816601474924, 'mae': 0.05534012411539809, 'mse': 0.005842974203469304, 'rmse': 0.0764393498367778} and parameters: {'n_estimators': 100, 'learning_rate': 0.0391005285012198, 'num_leaves': 161, 'subsample': 0.5280992919668691, 'colsample_bytree': 0.7388330807216984, 'min_data_in_leaf': 5}. \n",
      "[I 2024-04-25 10:54:08,858] Trial 49 finished with values: {'r2': 0.7605995163231225, 'mae': 0.060163425973003136, 'mse': 0.006832855578204979, 'rmse': 0.08266108865847932} and parameters: {'n_estimators': 100, 'learning_rate': 0.1515993803560498, 'num_leaves': 548, 'subsample': 0.5807621110818112, 'colsample_bytree': 0.7899145608321186, 'min_data_in_leaf': 98}. \n",
      "[I 2024-04-25 10:54:09,353] Trial 50 finished with values: {'r2': 0.45681463463270633, 'mae': 0.10164340792223661, 'mse': 0.015503340247042691, 'rmse': 0.1245124100121859} and parameters: {'n_estimators': 100, 'learning_rate': 0.028644780138666448, 'num_leaves': 727, 'subsample': 0.10173591825464422, 'colsample_bytree': 0.12297002960632178, 'min_data_in_leaf': 79}. \n",
      "[I 2024-04-25 10:54:10,321] Trial 51 finished with values: {'r2': 0.7802950499324136, 'mae': 0.057449994258511744, 'mse': 0.006270714956678045, 'rmse': 0.07918784601615354} and parameters: {'n_estimators': 100, 'learning_rate': 0.0579966457209689, 'num_leaves': 1017, 'subsample': 0.997388846977454, 'colsample_bytree': 0.33716245280613827, 'min_data_in_leaf': 26}. \n",
      "[I 2024-04-25 10:54:17,620] Trial 52 finished with values: {'r2': 0.7977643907834286, 'mae': 0.055176255447102, 'mse': 0.005772113277817064, 'rmse': 0.07597442515621335} and parameters: {'n_estimators': 100, 'learning_rate': 0.026956697523389854, 'num_leaves': 981, 'subsample': 0.9414554079744084, 'colsample_bytree': 0.681180029927823, 'min_data_in_leaf': 3}. \n",
      "[I 2024-04-25 10:54:21,884] Trial 53 finished with values: {'r2': 0.804590874599976, 'mae': 0.05434967939807321, 'mse': 0.005577274999677332, 'rmse': 0.07468115558611377} and parameters: {'n_estimators': 100, 'learning_rate': 0.026956697523389854, 'num_leaves': 410, 'subsample': 0.8850913452197978, 'colsample_bytree': 0.7702514421013131, 'min_data_in_leaf': 3}. \n",
      "[I 2024-04-25 10:54:22,424] Trial 54 finished with values: {'r2': 0.755132243465656, 'mae': 0.06151548198232711, 'mse': 0.0069888998988677994, 'rmse': 0.08359964054269492} and parameters: {'n_estimators': 100, 'learning_rate': 0.028644780138666448, 'num_leaves': 1000, 'subsample': 0.8456125820741597, 'colsample_bytree': 0.23969456067405492, 'min_data_in_leaf': 46}. \n",
      "[I 2024-04-25 10:54:22,909] Trial 55 finished with values: {'r2': 0.7719395258160886, 'mae': 0.05913939681121496, 'mse': 0.0065091943811562145, 'rmse': 0.08067957846417032} and parameters: {'n_estimators': 100, 'learning_rate': 0.1792591685088688, 'num_leaves': 505, 'subsample': 0.574696063943268, 'colsample_bytree': 0.7876782509790995, 'min_data_in_leaf': 41}. \n",
      "[I 2024-04-25 10:54:23,594] Trial 56 finished with values: {'r2': 0.7742432438943951, 'mae': 0.05787906992873639, 'mse': 0.006443442747407579, 'rmse': 0.08027105796865754} and parameters: {'n_estimators': 100, 'learning_rate': 0.18067484155488736, 'num_leaves': 991, 'subsample': 0.9611457704309357, 'colsample_bytree': 0.32394999169170896, 'min_data_in_leaf': 40}. \n",
      "[I 2024-04-25 10:54:24,214] Trial 57 finished with values: {'r2': 0.6728407949937587, 'mae': 0.07478218311151687, 'mse': 0.009337623569320764, 'rmse': 0.09663137983761157} and parameters: {'n_estimators': 100, 'learning_rate': 0.01278701595638966, 'num_leaves': 454, 'subsample': 0.22957101401325591, 'colsample_bytree': 0.7899145608321186, 'min_data_in_leaf': 31}. \n",
      "[I 2024-04-25 10:54:24,929] Trial 58 finished with values: {'r2': 0.7612096409750897, 'mae': 0.06009200619103003, 'mse': 0.006815441688443498, 'rmse': 0.08255568840754401} and parameters: {'n_estimators': 100, 'learning_rate': 0.04999496508221854, 'num_leaves': 644, 'subsample': 0.4558581619783748, 'colsample_bytree': 0.3861059245063095, 'min_data_in_leaf': 46}. \n",
      "[I 2024-04-25 10:54:25,452] Trial 59 finished with values: {'r2': 0.7813587311308797, 'mae': 0.0573446415479163, 'mse': 0.006240355870101675, 'rmse': 0.0789959231232959} and parameters: {'n_estimators': 100, 'learning_rate': 0.036516572387514705, 'num_leaves': 32, 'subsample': 0.8850913452197978, 'colsample_bytree': 0.49146490852067476, 'min_data_in_leaf': 9}. \n",
      "[I 2024-04-25 10:54:28,097] Trial 60 finished with values: {'r2': 0.7923357122691531, 'mae': 0.055535461558098076, 'mse': 0.005927056056957872, 'rmse': 0.076987375958386} and parameters: {'n_estimators': 100, 'learning_rate': 0.04788916161375526, 'num_leaves': 700, 'subsample': 0.997388846977454, 'colsample_bytree': 0.9699144433507976, 'min_data_in_leaf': 9}. \n",
      "[I 2024-04-25 10:54:28,459] Trial 61 finished with values: {'r2': 0.772854634123977, 'mae': 0.05850150112722301, 'mse': 0.006483075791877774, 'rmse': 0.08051754958937693} and parameters: {'n_estimators': 100, 'learning_rate': 0.1857403078372949, 'num_leaves': 72, 'subsample': 0.8238696464851231, 'colsample_bytree': 0.8294359353083569, 'min_data_in_leaf': 100}. \n",
      "[I 2024-04-25 10:54:29,057] Trial 62 finished with values: {'r2': 0.7485275677283261, 'mae': 0.06225684977442674, 'mse': 0.007177407435531596, 'rmse': 0.08471958118128062} and parameters: {'n_estimators': 100, 'learning_rate': 0.04677684697694315, 'num_leaves': 548, 'subsample': 0.4528395994519141, 'colsample_bytree': 0.7899145608321186, 'min_data_in_leaf': 98}. \n",
      "[I 2024-04-25 10:54:29,443] Trial 63 finished with values: {'r2': 0.6873806019631168, 'mae': 0.07250927347762312, 'mse': 0.008922635263404496, 'rmse': 0.09445970179608072} and parameters: {'n_estimators': 100, 'learning_rate': 0.012829718219108202, 'num_leaves': 560, 'subsample': 0.584826981565011, 'colsample_bytree': 0.9681211951574711, 'min_data_in_leaf': 59}. \n",
      "[I 2024-04-25 10:54:30,243] Trial 64 finished with values: {'r2': 0.7772116244134326, 'mae': 0.05775366195947672, 'mse': 0.00635872063207921, 'rmse': 0.07974158659118347} and parameters: {'n_estimators': 100, 'learning_rate': 0.1792591685088688, 'num_leaves': 505, 'subsample': 0.9943331306315244, 'colsample_bytree': 0.5061240169441892, 'min_data_in_leaf': 34}. \n",
      "[I 2024-04-25 10:54:30,600] Trial 65 finished with values: {'r2': 0.7165962243533898, 'mae': 0.06823410710579814, 'mse': 0.008088776762560592, 'rmse': 0.08993762706765501} and parameters: {'n_estimators': 100, 'learning_rate': 0.01676317878118498, 'num_leaves': 991, 'subsample': 0.6318215945440824, 'colsample_bytree': 0.9981893862371333, 'min_data_in_leaf': 80}. \n",
      "[I 2024-04-25 10:54:30,988] Trial 66 finished with values: {'r2': 0.7670183794075329, 'mae': 0.05897299709564524, 'mse': 0.006649651418554052, 'rmse': 0.08154539483351621} and parameters: {'n_estimators': 100, 'learning_rate': 0.04788916161375526, 'num_leaves': 548, 'subsample': 0.997388846977454, 'colsample_bytree': 0.7560032475127904, 'min_data_in_leaf': 98}. \n",
      "[I 2024-04-25 10:54:34,817] Trial 67 finished with values: {'r2': 0.7955004973060911, 'mae': 0.05529830643733981, 'mse': 0.005836728256607024, 'rmse': 0.07639848333970396} and parameters: {'n_estimators': 100, 'learning_rate': 0.028644780138666448, 'num_leaves': 644, 'subsample': 0.4558581619783748, 'colsample_bytree': 0.5024144244600658, 'min_data_in_leaf': 3}. \n",
      "[I 2024-04-25 10:54:37,511] Trial 68 finished with values: {'r2': 0.7977148227255081, 'mae': 0.05493273677998254, 'mse': 0.0057735280259239245, 'rmse': 0.07598373527225366} and parameters: {'n_estimators': 100, 'learning_rate': 0.05800245711427428, 'num_leaves': 940, 'subsample': 0.797737511172508, 'colsample_bytree': 0.8652943806952056, 'min_data_in_leaf': 7}. \n",
      "[I 2024-04-25 10:54:38,693] Trial 69 finished with values: {'r2': 0.7859479499885985, 'mae': 0.05609616455196996, 'mse': 0.006109372552148606, 'rmse': 0.07816247534558131} and parameters: {'n_estimators': 100, 'learning_rate': 0.028334272700148082, 'num_leaves': 683, 'subsample': 0.6090131163808987, 'colsample_bytree': 0.7410255489989338, 'min_data_in_leaf': 13}. \n",
      "[I 2024-04-25 10:54:40,887] Trial 70 finished with values: {'r2': 0.6819982434685201, 'mae': 0.07335992548887867, 'mse': 0.009076255998412462, 'rmse': 0.0952693864702217} and parameters: {'n_estimators': 100, 'learning_rate': 0.010222461804677634, 'num_leaves': 458, 'subsample': 0.8850913452197978, 'colsample_bytree': 0.47477156925487535, 'min_data_in_leaf': 9}. \n",
      "[I 2024-04-25 10:54:41,445] Trial 71 finished with values: {'r2': 0.7627740024166596, 'mae': 0.05989824868806109, 'mse': 0.00677079242275201, 'rmse': 0.08228482498463499} and parameters: {'n_estimators': 100, 'learning_rate': 0.028334272700148082, 'num_leaves': 683, 'subsample': 0.8456125820741597, 'colsample_bytree': 0.3861059245063095, 'min_data_in_leaf': 46}. \n",
      "[I 2024-04-25 10:54:41,842] Trial 72 finished with values: {'r2': 0.7528438864288617, 'mae': 0.06164070759616232, 'mse': 0.007054213105021921, 'rmse': 0.0839893630468878} and parameters: {'n_estimators': 100, 'learning_rate': 0.026373640936346185, 'num_leaves': 480, 'subsample': 0.9943331306315244, 'colsample_bytree': 0.8294359353083569, 'min_data_in_leaf': 100}. \n",
      "[I 2024-04-25 10:54:42,478] Trial 73 finished with values: {'r2': 0.7373538061879266, 'mae': 0.06441614429855781, 'mse': 0.0074963236620079815, 'rmse': 0.08658131242946125} and parameters: {'n_estimators': 100, 'learning_rate': 0.0297407444395147, 'num_leaves': 683, 'subsample': 0.17055646534149863, 'colsample_bytree': 0.3861059245063095, 'min_data_in_leaf': 22}. \n",
      "[I 2024-04-25 10:54:42,836] Trial 74 finished with values: {'r2': 0.7359654569327376, 'mae': 0.06425710696878689, 'mse': 0.0075359492709754965, 'rmse': 0.08680984547259313} and parameters: {'n_estimators': 100, 'learning_rate': 0.055619621934106724, 'num_leaves': 606, 'subsample': 0.6168440736715881, 'colsample_bytree': 0.0870514177019597, 'min_data_in_leaf': 59}. \n",
      "[I 2024-04-25 10:54:43,296] Trial 75 finished with values: {'r2': 0.7574087525678452, 'mae': 0.06071807935079843, 'mse': 0.006923924850869468, 'rmse': 0.08321012468966422} and parameters: {'n_estimators': 100, 'learning_rate': 0.0297407444395147, 'num_leaves': 1000, 'subsample': 0.8456125820741597, 'colsample_bytree': 0.3861059245063095, 'min_data_in_leaf': 63}. \n",
      "[I 2024-04-25 10:54:43,927] Trial 76 finished with values: {'r2': 0.7465966599610361, 'mae': 0.06300334500222309, 'mse': 0.007232518493396183, 'rmse': 0.08504421493197631} and parameters: {'n_estimators': 100, 'learning_rate': 0.02195155884232619, 'num_leaves': 727, 'subsample': 0.7749123204235813, 'colsample_bytree': 0.3095440562327871, 'min_data_in_leaf': 34}. \n",
      "[I 2024-04-25 10:54:44,257] Trial 77 finished with values: {'r2': 0.7607376417460241, 'mae': 0.060079337255751694, 'mse': 0.006828913267596956, 'rmse': 0.08263723898822464} and parameters: {'n_estimators': 100, 'learning_rate': 0.0806903037455255, 'num_leaves': 606, 'subsample': 0.6318215945440824, 'colsample_bytree': 0.7928561839741856, 'min_data_in_leaf': 91}. \n",
      "[I 2024-04-25 10:54:46,280] Trial 78 finished with values: {'r2': 0.7710128958121842, 'mae': 0.05970281629451508, 'mse': 0.00653564181724267, 'rmse': 0.08084331646612891} and parameters: {'n_estimators': 100, 'learning_rate': 0.1801538775217415, 'num_leaves': 991, 'subsample': 0.8210144901047842, 'colsample_bytree': 0.32394999169170896, 'min_data_in_leaf': 9}. \n",
      "[I 2024-04-25 10:54:46,826] Trial 79 finished with values: {'r2': 0.7775916146843893, 'mae': 0.05774301191993386, 'mse': 0.006347875129168386, 'rmse': 0.0796735535116163} and parameters: {'n_estimators': 100, 'learning_rate': 0.055619621934106724, 'num_leaves': 642, 'subsample': 0.9769951067437113, 'colsample_bytree': 0.8101898630608143, 'min_data_in_leaf': 59}. \n",
      "[I 2024-04-25 10:54:47,956] Trial 80 finished with values: {'r2': 0.7696852241594175, 'mae': 0.058937285593232705, 'mse': 0.0065735355947292495, 'rmse': 0.08107734328854917} and parameters: {'n_estimators': 100, 'learning_rate': 0.036516572387514705, 'num_leaves': 72, 'subsample': 0.3403434241137589, 'colsample_bytree': 0.2552347739771108, 'min_data_in_leaf': 9}. \n",
      "[I 2024-04-25 10:54:48,335] Trial 81 finished with values: {'r2': 0.7667635517750628, 'mae': 0.058976729039630076, 'mse': 0.006656924588529572, 'rmse': 0.08158997848099711} and parameters: {'n_estimators': 100, 'learning_rate': 0.0806903037455255, 'num_leaves': 458, 'subsample': 0.8850913452197978, 'colsample_bytree': 0.3349117077753497, 'min_data_in_leaf': 91}. \n",
      "[I 2024-04-25 10:54:49,117] Trial 82 finished with values: {'r2': 0.7513871926887642, 'mae': 0.06165299819010494, 'mse': 0.0070957893700105724, 'rmse': 0.08423650853407073} and parameters: {'n_estimators': 100, 'learning_rate': 0.1564800916018757, 'num_leaves': 1017, 'subsample': 0.2425816161764935, 'colsample_bytree': 0.2541692708297332, 'min_data_in_leaf': 15}. \n",
      "[I 2024-04-25 10:54:49,597] Trial 83 finished with values: {'r2': 0.3939164922427387, 'mae': 0.1069337489632604, 'mse': 0.01729854933136557, 'rmse': 0.1315239496493531} and parameters: {'n_estimators': 100, 'learning_rate': 0.026956697523389854, 'num_leaves': 644, 'subsample': 0.06407543720221051, 'colsample_bytree': 0.5808655171177446, 'min_data_in_leaf': 67}. \n",
      "[I 2024-04-25 10:54:50,539] Trial 84 finished with values: {'r2': 0.784086481430092, 'mae': 0.05710249400635368, 'mse': 0.006162501708900066, 'rmse': 0.07850160322503016} and parameters: {'n_estimators': 100, 'learning_rate': 0.09261168066710515, 'num_leaves': 894, 'subsample': 0.7796302842724114, 'colsample_bytree': 0.5948923393780449, 'min_data_in_leaf': 22}. \n",
      "[I 2024-04-25 10:54:53,953] Trial 85 finished with values: {'r2': 0.7636019854719531, 'mae': 0.060480879948496435, 'mse': 0.00674716052129914, 'rmse': 0.08214110129100498} and parameters: {'n_estimators': 100, 'learning_rate': 0.1857403078372949, 'num_leaves': 727, 'subsample': 0.7749123204235813, 'colsample_bytree': 0.12297002960632178, 'min_data_in_leaf': 3}. \n",
      "[I 2024-04-25 10:54:54,257] Trial 86 finished with values: {'r2': 0.7518884362983258, 'mae': 0.06170596758577916, 'mse': 0.007081483111555995, 'rmse': 0.08415154847984674} and parameters: {'n_estimators': 100, 'learning_rate': 0.04788916161375526, 'num_leaves': 548, 'subsample': 0.5807621110818112, 'colsample_bytree': 0.4740392321502548, 'min_data_in_leaf': 98}. \n",
      "[I 2024-04-25 10:54:56,418] Trial 87 finished with values: {'r2': 0.7819161231730527, 'mae': 0.05741944469673549, 'mse': 0.006224447049592571, 'rmse': 0.078895164931652} and parameters: {'n_estimators': 100, 'learning_rate': 0.05800245711427428, 'num_leaves': 469, 'subsample': 0.48079757088035624, 'colsample_bytree': 0.41239280159360153, 'min_data_in_leaf': 6}. \n",
      "[I 2024-04-25 10:54:57,003] Trial 88 finished with values: {'r2': 0.7453652360936056, 'mae': 0.06306824911015917, 'mse': 0.007267665212034664, 'rmse': 0.08525060241449713} and parameters: {'n_estimators': 100, 'learning_rate': 0.09162415436341181, 'num_leaves': 921, 'subsample': 0.11341622279018285, 'colsample_bytree': 0.1540533886832623, 'min_data_in_leaf': 18}. \n",
      "[I 2024-04-25 10:54:57,325] Trial 89 finished with values: {'r2': 0.7577182772279398, 'mae': 0.06034271333261027, 'mse': 0.006915090544155309, 'rmse': 0.08315702342048631} and parameters: {'n_estimators': 100, 'learning_rate': 0.058690612742180306, 'num_leaves': 957, 'subsample': 0.5898298416036937, 'colsample_bytree': 0.5024144244600658, 'min_data_in_leaf': 89}. \n",
      "[I 2024-04-25 10:54:57,733] Trial 90 finished with values: {'r2': 0.7662821413777652, 'mae': 0.059270084299434034, 'mse': 0.006670664776803464, 'rmse': 0.08167413774753587} and parameters: {'n_estimators': 100, 'learning_rate': 0.04653951694252472, 'num_leaves': 330, 'subsample': 0.9492093380673708, 'colsample_bytree': 0.5024144244600658, 'min_data_in_leaf': 87}. \n",
      "[I 2024-04-25 10:54:58,274] Trial 91 finished with values: {'r2': 0.627092666933187, 'mae': 0.08180634598744231, 'mse': 0.010643345041600749, 'rmse': 0.10316658878532696} and parameters: {'n_estimators': 100, 'learning_rate': 0.018614836701834607, 'num_leaves': 161, 'subsample': 0.11696840717662858, 'colsample_bytree': 0.18717148890927104, 'min_data_in_leaf': 27}. \n",
      "[I 2024-04-25 10:55:01,478] Trial 92 finished with values: {'r2': 0.7835490894539174, 'mae': 0.056462110288223434, 'mse': 0.006177839696967973, 'rmse': 0.07859923470981109} and parameters: {'n_estimators': 100, 'learning_rate': 0.036516572387514705, 'num_leaves': 644, 'subsample': 0.4558581619783748, 'colsample_bytree': 0.2552347739771108, 'min_data_in_leaf': 3}. \n",
      "[I 2024-04-25 10:55:06,176] Trial 93 finished with values: {'r2': 0.7686005297879515, 'mae': 0.060658042459253776, 'mse': 0.006604494429368545, 'rmse': 0.08126804063940846} and parameters: {'n_estimators': 100, 'learning_rate': 0.015554400613258754, 'num_leaves': 949, 'subsample': 0.5901545045241351, 'colsample_bytree': 0.9544162362153236, 'min_data_in_leaf': 3}. \n",
      "[I 2024-04-25 10:55:08,689] Trial 94 finished with values: {'r2': 0.7904800671542467, 'mae': 0.055595157247387034, 'mse': 0.005980019003731492, 'rmse': 0.07733058259014665} and parameters: {'n_estimators': 100, 'learning_rate': 0.04788916161375526, 'num_leaves': 1017, 'subsample': 0.997388846977454, 'colsample_bytree': 0.47477156925487535, 'min_data_in_leaf': 9}. \n",
      "[I 2024-04-25 10:55:09,260] Trial 95 finished with values: {'r2': 0.7558488907072551, 'mae': 0.06114494316432199, 'mse': 0.006968445691644997, 'rmse': 0.08347721660216635} and parameters: {'n_estimators': 100, 'learning_rate': 0.13944242039916993, 'num_leaves': 350, 'subsample': 0.3142102770712436, 'colsample_bytree': 0.6870428932012485, 'min_data_in_leaf': 75}. \n",
      "[I 2024-04-25 10:55:09,652] Trial 96 finished with values: {'r2': 0.7710638270114878, 'mae': 0.058350719823165136, 'mse': 0.006534188162998026, 'rmse': 0.08083432540077282} and parameters: {'n_estimators': 100, 'learning_rate': 0.10414783700763298, 'num_leaves': 60, 'subsample': 0.9769951067437113, 'colsample_bytree': 0.7560032475127904, 'min_data_in_leaf': 99}. \n",
      "[I 2024-04-25 10:55:09,914] Trial 97 finished with values: {'r2': 0.7494808782243014, 'mae': 0.06306611556602355, 'mse': 0.007150198497436974, 'rmse': 0.08455884635824316} and parameters: {'n_estimators': 100, 'learning_rate': 0.058690612742180306, 'num_leaves': 8, 'subsample': 0.5898298416036937, 'colsample_bytree': 0.2552098817016957, 'min_data_in_leaf': 40}. \n",
      "[I 2024-04-25 10:55:10,696] Trial 98 finished with values: {'r2': 0.7503394010438386, 'mae': 0.061196649638945784, 'mse': 0.007125694944451642, 'rmse': 0.08441383147595921} and parameters: {'n_estimators': 100, 'learning_rate': 0.06520793971225772, 'num_leaves': 228, 'subsample': 0.1298689482307766, 'colsample_bytree': 0.7560032475127904, 'min_data_in_leaf': 9}. \n",
      "[I 2024-04-25 10:55:11,088] Trial 99 finished with values: {'r2': 0.7728477510873393, 'mae': 0.05850740586866859, 'mse': 0.006483272244259835, 'rmse': 0.08051876951531137} and parameters: {'n_estimators': 100, 'learning_rate': 0.1515993803560498, 'num_leaves': 42, 'subsample': 0.9611457704309357, 'colsample_bytree': 0.47477156925487535, 'min_data_in_leaf': 98}. \n",
      "2024/04/25 10:55:11 INFO mlflow.tracking.fluent: Experiment with name 'lightgbm_2022_1250_scaled' does not exist. Creating a new experiment.\n",
      "/home/prog3/.cache/pypoetry/virtualenvs/petrol-j8nzVRxz-py3.10/lib/python3.10/site-packages/mlflow/data/digest_utils.py:26: FutureWarning: DataFrame.applymap has been deprecated. Use DataFrame.map instead.\n",
      "  string_columns = trimmed_df.columns[(df.applymap(type) == str).all(0)]\n"
     ]
    },
    {
     "name": "stdout",
     "output_type": "stream",
     "text": [
      "{'n_estimators': 1500, 'learning_rate': 0.026956697523389854, 'num_leaves': 410, 'subsample': 0.8850913452197978, 'colsample_bytree': 0.7702514421013131, 'min_data_in_leaf': 3, 'objective': 'regression', 'metrics': ['r2', 'mae', 'mse', 'rmse'], 'verbosity': -1, 'bagging_freq': 1, 'random_state': 2024, 'device_type': 'gpu', 'force_col_wise': True}\n"
     ]
    },
    {
     "name": "stderr",
     "output_type": "stream",
     "text": [
      "Successfully registered model 'lightgbm_2022_1250_scaled'.\n",
      "Created version '1' of model 'lightgbm_2022_1250_scaled'.\n"
     ]
    },
    {
     "name": "stdout",
     "output_type": "stream",
     "text": [
      "{'r2': 0.8001900003713173, 'mae': 0.05521704093393256, 'mse': 0.005702882674149937, 'rmse': 0.07551743291551916}\n",
      "interval columns not set, guessing: ['BlockP', 'BlockT', 'C1P', 'C1T', 'C1L', 'C2P', 'C2T', 'C2interfacial_L', 'С2petrol_L', 'OH1T', 'OH1interfacial_L', 'OH1P', 'C3T', 'C3L', 'P1Tinput', 'P1Toutput', 'P1Pinput', 'P1Poutput', 'P1Тcoolant', 'P1Tgases', 'P1Рburner', 'P2Tinput', 'P2Toutput', 'P2Pinput', 'P2Poutput', 'P2Tcoolant', 'P2Tgases', 'P2Pburner', 'Water', 'Vlagomer']\n"
     ]
    }
   ],
   "source": [
    "df_2022 = Dataset(name='2022_1250_scaled',verbose=False)\n",
    "df_2022.load(join(DATA, 'preprocessed', '2022_1250_scaled.csv'), parse_dates=['Date'])\n",
    "\n",
    "train = Train(df_2022, test_size=0.2)\n",
    "train.optimize('lightgbm_2022_1250_scaled', 100) # дашборд запускается $ optuna-dashboard sqlite:///db.sqlite3\n",
    "# train.try_all_trials(100)\n",
    "train.train_with_trial(train.best_trials[0], 1500)\n",
    "# train.plot_preds()"
   ]
  },
  {
   "cell_type": "markdown",
   "metadata": {},
   "source": [
    "#### Признаки: \n",
    "       'BlockP', 'BlockT', 'C1P', 'C1T', 'C1L', 'P1Tinput',\n",
    "       'P1Toutput', 'P1Pinput', 'P1Poutput', 'P1Тcoolant', 'P1Tgases',\n",
    "       'P1Рburner', 'P2Tinput', 'P2Toutput', 'P2Pinput', 'P2Poutput',\n",
    "       'P2Tcoolant', 'P2Tgases', 'P2Pburner'"
   ]
  },
  {
   "cell_type": "code",
   "execution_count": null,
   "metadata": {},
   "outputs": [],
   "source": [
    "df_2022.drop(['C2P', 'C2T',\n",
    "       'C2interfacial_L', 'С2petrol_L', 'OH1T', 'OH1interfacial_L', 'OH1P',\n",
    "       'C3T', 'C3L','Water'])"
   ]
  },
  {
   "cell_type": "code",
   "execution_count": null,
   "metadata": {},
   "outputs": [],
   "source": [
    "train = Train(df_2022)\n",
    "train.optimize('lightgbm_2022_1250_scaled_до_печек_вкл', 100) # дашборд запускается $ optuna-dashboard sqlite:///db.sqlite3\n",
    "train.try_all_trials(100)\n"
   ]
  },
  {
   "cell_type": "markdown",
   "metadata": {},
   "source": [
    "#### Признаки: \n",
    "    'BlockP', 'BlockT', 'C1P', 'C1T', 'C1L'\n"
   ]
  },
  {
   "cell_type": "code",
   "execution_count": null,
   "metadata": {},
   "outputs": [],
   "source": [
    "df_2022.drop(['P1Tinput',\n",
    "       'P1Toutput', 'P1Pinput', 'P1Poutput', 'P1Тcoolant', 'P1Tgases',\n",
    "       'P1Рburner', 'P2Tinput', 'P2Toutput', 'P2Pinput', 'P2Poutput',\n",
    "       'P2Tcoolant', 'P2Tgases', 'P2Pburner'])"
   ]
  },
  {
   "cell_type": "code",
   "execution_count": null,
   "metadata": {},
   "outputs": [],
   "source": [
    "train = Train(df_2022)\n",
    "train.optimize('lightgbm_2022_1250_блок_и_сепаратор', 100) # дашборд запускается $ optuna-dashboard sqlite:///db.sqlite3\n",
    "train.try_all_trials(100)"
   ]
  },
  {
   "cell_type": "markdown",
   "metadata": {},
   "source": [
    "### CatBoost"
   ]
  },
  {
   "cell_type": "code",
   "execution_count": 3,
   "metadata": {},
   "outputs": [
    {
     "name": "stderr",
     "output_type": "stream",
     "text": [
      "[I 2024-04-25 10:56:22,445] A new study created in RDB with name: catboost_2022_1250_scaled\n"
     ]
    },
    {
     "name": "stderr",
     "output_type": "stream",
     "text": [
      "/home/prog3/notebooks/petrol/core/train.py:126: ExperimentalWarning:\n",
      "\n",
      "set_metric_names is experimental (supported from v3.2.0). The interface can change in the future.\n",
      "\n",
      "[I 2024-04-25 10:56:22,731] Trial 0 finished with values: {'R2': 0.12867381886397122, 'MAE': 0.13015018769637846, 'RMSE': 0.1576990186630969} and parameters: {'n_estimators': 137, 'learning_rate': 0.0010268821124486056, 'depth': 3, 'l2_leaf_reg': 1.874227876670245}. \n",
      "[I 2024-04-25 10:56:30,903] Trial 1 finished with values: {'R2': 0.16930301938532755, 'MAE': 0.12609052783616925, 'RMSE': 0.15397844338762345} and parameters: {'n_estimators': 104, 'learning_rate': 0.00149091529373247, 'depth': 13, 'l2_leaf_reg': 4.1817813820872}. \n",
      "[I 2024-04-25 10:56:32,239] Trial 2 finished with values: {'R2': 0.7660796565099182, 'MAE': 0.06038835986565149, 'RMSE': 0.08170950987677891} and parameters: {'n_estimators': 137, 'learning_rate': 0.03274653277662849, 'depth': 9, 'l2_leaf_reg': 1.1027317245783288}. \n",
      "[I 2024-04-25 10:56:33,399] Trial 3 finished with values: {'R2': 0.7648147825590244, 'MAE': 0.06033068756968345, 'RMSE': 0.08193012534734403} and parameters: {'n_estimators': 112, 'learning_rate': 0.04093621652924598, 'depth': 9, 'l2_leaf_reg': 1.6637653187844732}. \n",
      "[I 2024-04-25 10:56:33,668] Trial 4 finished with values: {'R2': 0.6719154162538284, 'MAE': 0.07494229443671122, 'RMSE': 0.09676794558334707} and parameters: {'n_estimators': 165, 'learning_rate': 0.03343566601731551, 'depth': 2, 'l2_leaf_reg': 2.5022582778968565}. \n",
      "[I 2024-04-25 10:56:34,305] Trial 5 finished with values: {'R2': 0.16790508712346175, 'MAE': 0.12643170339039989, 'RMSE': 0.15410794966741745} and parameters: {'n_estimators': 96, 'learning_rate': 0.0016160914515444826, 'depth': 8, 'l2_leaf_reg': 4.2543652316722635}. \n",
      "[I 2024-04-25 10:56:41,674] Trial 6 finished with values: {'R2': 0.5398809066389245, 'MAE': 0.09177382428794235, 'RMSE': 0.11459712879948837} and parameters: {'n_estimators': 152, 'learning_rate': 0.005036775416522744, 'depth': 12, 'l2_leaf_reg': 2.7644849621168763}. \n",
      "[I 2024-04-25 10:56:41,976] Trial 7 finished with values: {'R2': 0.6657929303747478, 'MAE': 0.07630978767364713, 'RMSE': 0.09766668005929681} and parameters: {'n_estimators': 119, 'learning_rate': 0.01792152558735669, 'depth': 4, 'l2_leaf_reg': 1.3692536419917116}. \n",
      "[I 2024-04-25 10:56:43,925] Trial 8 finished with values: {'R2': 0.213689267588149, 'MAE': 0.12264640330578862, 'RMSE': 0.1498082430566431} and parameters: {'n_estimators': 195, 'learning_rate': 0.001032765554576449, 'depth': 9, 'l2_leaf_reg': 3.176355445530178}. \n",
      "[I 2024-04-25 10:57:08,348] Trial 9 finished with values: {'R2': 0.7235613642349537, 'MAE': 0.06808464931064574, 'RMSE': 0.08882556517397525} and parameters: {'n_estimators': 71, 'learning_rate': 0.02818348775106043, 'depth': 15, 'l2_leaf_reg': 3.896620606764805}. \n",
      "[I 2024-04-25 10:57:08,633] Trial 10 finished with values: {'R2': 0.7509111917311146, 'MAE': 0.06267271846642869, 'RMSE': 0.08431711074634828} and parameters: {'n_estimators': 110, 'learning_rate': 0.09653391971662818, 'depth': 4, 'l2_leaf_reg': 4.291213837663275}. \n",
      "[I 2024-04-25 10:57:39,316] Trial 11 finished with values: {'R2': 0.7583048455621122, 'MAE': 0.06198078822111601, 'RMSE': 0.08305630010838919} and parameters: {'n_estimators': 198, 'learning_rate': 0.01617566132669467, 'depth': 14, 'l2_leaf_reg': 4.32761287256176}. \n",
      "[I 2024-04-25 10:57:50,893] Trial 12 finished with values: {'R2': 0.7682720946683159, 'MAE': 0.060289898864776724, 'RMSE': 0.08132569378425752} and parameters: {'n_estimators': 150, 'learning_rate': 0.025695375756121797, 'depth': 13, 'l2_leaf_reg': 3.324749633509169}. \n",
      "[I 2024-04-25 10:57:58,017] Trial 13 finished with values: {'R2': 0.31551522634338713, 'MAE': 0.11378844125209349, 'RMSE': 0.13977210468288914} and parameters: {'n_estimators': 92, 'learning_rate': 0.0035246029247620663, 'depth': 13, 'l2_leaf_reg': 3.0571900107590144}. \n",
      "[I 2024-04-25 10:57:58,376] Trial 14 finished with values: {'R2': 0.655128905935898, 'MAE': 0.0776699837875359, 'RMSE': 0.09921264004444451} and parameters: {'n_estimators': 191, 'learning_rate': 0.01284402950515996, 'depth': 3, 'l2_leaf_reg': 0.9416253068050376}. \n",
      "[I 2024-04-25 10:58:57,879] Trial 15 finished with values: {'R2': 0.7640146191860646, 'MAE': 0.061161875832408334, 'RMSE': 0.08206938116402224} and parameters: {'n_estimators': 176, 'learning_rate': 0.018135762442715087, 'depth': 15, 'l2_leaf_reg': 2.480841079676368}. \n",
      "[I 2024-04-25 10:58:58,345] Trial 16 finished with values: {'R2': 0.7346953389823342, 'MAE': 0.06555962914928996, 'RMSE': 0.087018391032366} and parameters: {'n_estimators': 198, 'learning_rate': 0.0215738325976177, 'depth': 5, 'l2_leaf_reg': 0.3988537967209478}. \n",
      "[I 2024-04-25 10:58:58,542] Trial 17 finished with values: {'R2': 0.12270076278091702, 'MAE': 0.13059966512377463, 'RMSE': 0.15823861928744998} and parameters: {'n_estimators': 85, 'learning_rate': 0.0015707078703407376, 'depth': 3, 'l2_leaf_reg': 3.393195348183484}. \n",
      "[I 2024-04-25 10:58:58,735] Trial 18 finished with values: {'R2': 0.7371443506712103, 'MAE': 0.0654081065918337, 'RMSE': 0.08661582905264462} and parameters: {'n_estimators': 57, 'learning_rate': 0.07806129596782077, 'depth': 5, 'l2_leaf_reg': 1.7644457989682736}. \n",
      "[I 2024-04-25 10:58:58,958] Trial 19 finished with values: {'R2': 0.7435538442251728, 'MAE': 0.06407466749918699, 'RMSE': 0.0855532880930972} and parameters: {'n_estimators': 61, 'learning_rate': 0.062376764196605074, 'depth': 6, 'l2_leaf_reg': 2.7505992326743782}. \n",
      "[I 2024-04-25 10:58:59,149] Trial 20 finished with values: {'R2': 0.43493758360379364, 'MAE': 0.1039698719169731, 'RMSE': 0.12699505781254652} and parameters: {'n_estimators': 57, 'learning_rate': 0.011042118666878292, 'depth': 4, 'l2_leaf_reg': 0.9987905450274722}. \n",
      "[I 2024-04-25 10:58:59,610] Trial 21 finished with values: {'R2': 0.3887994678477027, 'MAE': 0.10779504572631451, 'RMSE': 0.1320779959939379} and parameters: {'n_estimators': 112, 'learning_rate': 0.004079838380422726, 'depth': 7, 'l2_leaf_reg': 3.0489173033821575}. \n",
      "[I 2024-04-25 10:59:00,253] Trial 22 finished with values: {'R2': 0.7150346062957322, 'MAE': 0.0693633407125682, 'RMSE': 0.09018507486210604} and parameters: {'n_estimators': 185, 'learning_rate': 0.011894097253784099, 'depth': 7, 'l2_leaf_reg': 0.580556123962263}. \n",
      "[I 2024-04-25 10:59:00,703] Trial 23 finished with values: {'R2': 0.7609029540637338, 'MAE': 0.061094606616899916, 'RMSE': 0.08260868599289622} and parameters: {'n_estimators': 121, 'learning_rate': 0.05356179540796317, 'depth': 7, 'l2_leaf_reg': 2.5603483997925176}. \n",
      "[I 2024-04-25 10:59:02,808] Trial 24 finished with values: {'R2': 0.49256704092065307, 'MAE': 0.09693675546893972, 'RMSE': 0.12034497059025372} and parameters: {'n_estimators': 74, 'learning_rate': 0.008528398471072137, 'depth': 11, 'l2_leaf_reg': 1.9434294251367519}. \n",
      "[I 2024-04-25 10:59:31,487] Trial 25 finished with values: {'R2': 0.21069710150915966, 'MAE': 0.12272200607186746, 'RMSE': 0.15009300676336995} and parameters: {'n_estimators': 92, 'learning_rate': 0.002063417730884072, 'depth': 15, 'l2_leaf_reg': 1.3909489482094841}. \n",
      "[I 2024-04-25 11:00:18,352] Trial 26 finished with values: {'R2': 0.7881807086763478, 'MAE': 0.05665316125549613, 'RMSE': 0.07775375365745095} and parameters: {'n_estimators': 128, 'learning_rate': 0.08012760014697437, 'depth': 15, 'l2_leaf_reg': 3.794508798396239}. \n",
      "[I 2024-04-25 11:00:18,689] Trial 27 finished with values: {'R2': 0.1922847952808997, 'MAE': 0.12481319868434836, 'RMSE': 0.151833547118975} and parameters: {'n_estimators': 134, 'learning_rate': 0.0014353976409187369, 'depth': 5, 'l2_leaf_reg': 2.594220103085315}. \n",
      "[I 2024-04-25 11:00:27,750] Trial 28 finished with values: {'R2': 0.7884193642726685, 'MAE': 0.05618171781971709, 'RMSE': 0.07770993895550686} and parameters: {'n_estimators': 188, 'learning_rate': 0.09424847746320437, 'depth': 12, 'l2_leaf_reg': 3.9483066389964234}. \n",
      "[I 2024-04-25 11:00:28,125] Trial 29 finished with values: {'R2': 0.5535969902350653, 'MAE': 0.0910113510507659, 'RMSE': 0.11287614427676211} and parameters: {'n_estimators': 144, 'learning_rate': 0.00665384536919006, 'depth': 5, 'l2_leaf_reg': 0.6586949775050582}. \n",
      "[I 2024-04-25 11:00:28,333] Trial 30 finished with values: {'R2': 0.7144779875376517, 'MAE': 0.06913216331029175, 'RMSE': 0.09027311049079509} and parameters: {'n_estimators': 74, 'learning_rate': 0.04831580547104525, 'depth': 4, 'l2_leaf_reg': 0.9165582366017754}. \n",
      "[I 2024-04-25 11:00:30,990] Trial 31 finished with values: {'R2': 0.7825575573741703, 'MAE': 0.057352186690542206, 'RMSE': 0.07877905519528176} and parameters: {'n_estimators': 91, 'learning_rate': 0.0811857274498005, 'depth': 11, 'l2_leaf_reg': 1.692828171155869}. \n",
      "[I 2024-04-25 11:02:28,476] Trial 32 finished with values: {'R2': 0.548393893806238, 'MAE': 0.09064788660585979, 'RMSE': 0.11353205832957161} and parameters: {'n_estimators': 187, 'learning_rate': 0.004247886377453919, 'depth': 16, 'l2_leaf_reg': 2.8576583437648844}. \n",
      "[I 2024-04-25 11:02:30,329] Trial 33 finished with values: {'R2': 0.7828186296046462, 'MAE': 0.05730043389182422, 'RMSE': 0.07873174796178271} and parameters: {'n_estimators': 184, 'learning_rate': 0.055598195494101825, 'depth': 9, 'l2_leaf_reg': 3.2393676698923244}. \n",
      "[I 2024-04-25 11:02:30,604] Trial 34 finished with values: {'R2': 0.2726413196676969, 'MAE': 0.11957322222917964, 'RMSE': 0.14408305955242745} and parameters: {'n_estimators': 185, 'learning_rate': 0.002223774915104518, 'depth': 2, 'l2_leaf_reg': 0.7685536256646922}. \n",
      "[I 2024-04-25 11:02:31,173] Trial 35 finished with values: {'R2': 0.7578145819083604, 'MAE': 0.06158963261029769, 'RMSE': 0.0831404947148775} and parameters: {'n_estimators': 52, 'learning_rate': 0.0838113487756574, 'depth': 9, 'l2_leaf_reg': 1.5599713142382508}. \n",
      "[I 2024-04-25 11:02:31,602] Trial 36 finished with values: {'R2': 0.7716242392355783, 'MAE': 0.05897451032292723, 'RMSE': 0.08073532771892693} and parameters: {'n_estimators': 100, 'learning_rate': 0.09756232802079719, 'depth': 7, 'l2_leaf_reg': 3.877446608334786}. \n",
      "[I 2024-04-25 11:02:32,533] Trial 37 finished with values: {'R2': 0.27427141889862305, 'MAE': 0.11758470976348902, 'RMSE': 0.14392151516486165} and parameters: {'n_estimators': 90, 'learning_rate': 0.00309658930005686, 'depth': 9, 'l2_leaf_reg': 4.615716207762811}. \n",
      "[I 2024-04-25 11:02:33,037] Trial 38 finished with values: {'R2': 0.5018640442056678, 'MAE': 0.09634431800942077, 'RMSE': 0.11923741555381753} and parameters: {'n_estimators': 127, 'learning_rate': 0.0054493069648337295, 'depth': 7, 'l2_leaf_reg': 0.3983082506696456}. \n",
      "[I 2024-04-25 11:02:39,301] Trial 39 finished with values: {'R2': 0.7814157248665924, 'MAE': 0.05754386350673805, 'RMSE': 0.07898562642535109} and parameters: {'n_estimators': 78, 'learning_rate': 0.07650519705400552, 'depth': 13, 'l2_leaf_reg': 2.9557342629266734}. \n",
      "[I 2024-04-25 11:02:47,095] Trial 40 finished with values: {'R2': 0.5873733536132253, 'MAE': 0.086283914019394, 'RMSE': 0.1085218638335477} and parameters: {'n_estimators': 164, 'learning_rate': 0.005285559009930849, 'depth': 12, 'l2_leaf_reg': 0.5238701438130532}. \n",
      "[I 2024-04-25 11:02:47,429] Trial 41 finished with values: {'R2': 0.4305687552131371, 'MAE': 0.10366067775613846, 'RMSE': 0.1274850491081445} and parameters: {'n_estimators': 68, 'learning_rate': 0.007734389032472611, 'depth': 7, 'l2_leaf_reg': 1.2898124947768668}. \n",
      "[I 2024-04-25 11:02:47,685] Trial 42 finished with values: {'R2': 0.2658490479874691, 'MAE': 0.12014613304565465, 'RMSE': 0.14475423952853905} and parameters: {'n_estimators': 181, 'learning_rate': 0.002206941136311666, 'depth': 2, 'l2_leaf_reg': 4.543353053109408}. \n",
      "[I 2024-04-25 11:03:43,488] Trial 43 finished with values: {'R2': 0.7299257223288153, 'MAE': 0.06731468767141628, 'RMSE': 0.08779711000102614} and parameters: {'n_estimators': 158, 'learning_rate': 0.012436900055470967, 'depth': 15, 'l2_leaf_reg': 1.9646050147684628}. \n",
      "[I 2024-04-25 11:03:43,722] Trial 44 finished with values: {'R2': 0.5262058378172401, 'MAE': 0.09425174182948812, 'RMSE': 0.11628761450410874} and parameters: {'n_estimators': 116, 'learning_rate': 0.012932446890380828, 'depth': 2, 'l2_leaf_reg': 0.45442952136576487}. \n",
      "[I 2024-04-25 11:03:44,115] Trial 45 finished with values: {'R2': 0.4059295548467221, 'MAE': 0.10627747183393717, 'RMSE': 0.1302139707181499} and parameters: {'n_estimators': 94, 'learning_rate': 0.00529224245784916, 'depth': 7, 'l2_leaf_reg': 4.075233420351782}. \n",
      "[I 2024-04-25 11:03:44,431] Trial 46 finished with values: {'R2': 0.7279409292399022, 'MAE': 0.06652191587333744, 'RMSE': 0.08811913272272966} and parameters: {'n_estimators': 153, 'learning_rate': 0.03461333115077007, 'depth': 4, 'l2_leaf_reg': 0.33956123745975947}. \n",
      "[I 2024-04-25 11:03:44,759] Trial 47 finished with values: {'R2': 0.7283077950225421, 'MAE': 0.0667680881133201, 'RMSE': 0.08805969930589339} and parameters: {'n_estimators': 127, 'learning_rate': 0.02909267344533728, 'depth': 5, 'l2_leaf_reg': 0.4106700845148187}. \n",
      "[I 2024-04-25 11:03:53,834] Trial 48 finished with values: {'R2': 0.5572461371606475, 'MAE': 0.08973518087354614, 'RMSE': 0.11241384131009462} and parameters: {'n_estimators': 54, 'learning_rate': 0.015655513051760578, 'depth': 14, 'l2_leaf_reg': 4.668193402231686}. \n",
      "[I 2024-04-25 11:03:58,144] Trial 49 finished with values: {'R2': 0.5059099179251063, 'MAE': 0.09556141290086806, 'RMSE': 0.11875220356023204} and parameters: {'n_estimators': 156, 'learning_rate': 0.004277314768780318, 'depth': 11, 'l2_leaf_reg': 1.7872932278766214}. \n",
      "[I 2024-04-25 11:03:59,576] Trial 50 finished with values: {'R2': 0.7660796565099182, 'MAE': 0.06038835986565149, 'RMSE': 0.08170950987677891} and parameters: {'n_estimators': 137, 'learning_rate': 0.03274653277662849, 'depth': 9, 'l2_leaf_reg': 1.1027317245783288}. \n",
      "[I 2024-04-25 11:04:00,161] Trial 51 finished with values: {'R2': 0.2345876321501431, 'MAE': 0.12096118378920838, 'RMSE': 0.1478040541833192} and parameters: {'n_estimators': 52, 'learning_rate': 0.004277314768780318, 'depth': 9, 'l2_leaf_reg': 1.7872932278766214}. \n",
      "[I 2024-04-25 11:04:00,861] Trial 52 finished with values: {'R2': 0.753502615845905, 'MAE': 0.06246763331724739, 'RMSE': 0.08387736262546139} and parameters: {'n_estimators': 198, 'learning_rate': 0.0215738325976177, 'depth': 7, 'l2_leaf_reg': 0.3988537967209478}. \n",
      "[I 2024-04-25 11:04:07,624] Trial 53 finished with values: {'R2': 0.7416749983442799, 'MAE': 0.06509084851546705, 'RMSE': 0.08586611808870385} and parameters: {'n_estimators': 92, 'learning_rate': 0.025695375756121797, 'depth': 13, 'l2_leaf_reg': 3.324749633509169}. \n",
      "[I 2024-04-25 11:04:08,027] Trial 54 finished with values: {'R2': 0.2627211858385723, 'MAE': 0.11935877863490882, 'RMSE': 0.14506227568254346} and parameters: {'n_estimators': 197, 'learning_rate': 0.0015315968474428278, 'depth': 4, 'l2_leaf_reg': 3.176355445530178}. \n",
      "[I 2024-04-25 11:04:08,313] Trial 55 finished with values: {'R2': 0.7547928376608349, 'MAE': 0.06230251950089482, 'RMSE': 0.08365755829037273} and parameters: {'n_estimators': 110, 'learning_rate': 0.07806129596782077, 'depth': 5, 'l2_leaf_reg': 3.4880552981299746}. \n",
      "[I 2024-04-25 11:04:08,663] Trial 56 finished with values: {'R2': 0.5526070317961748, 'MAE': 0.09112791883098234, 'RMSE': 0.11300123394533053} and parameters: {'n_estimators': 144, 'learning_rate': 0.00665384536919006, 'depth': 5, 'l2_leaf_reg': 1.6637653187844732}. \n",
      "[W 2024-04-25 11:04:09,980] Trial 57 failed with parameters: {'n_estimators': 91, 'learning_rate': 0.0811857274498005, 'depth': 11, 'l2_leaf_reg': 0.45442952136576487} because of the following error: KeyboardInterrupt('').\n",
      "Traceback (most recent call last):\n",
      "  File \"/home/prog3/.cache/pypoetry/virtualenvs/petrol-j8nzVRxz-py3.10/lib/python3.10/site-packages/optuna/study/_optimize.py\", line 196, in _run_trial\n",
      "    value_or_values = func(trial)\n",
      "  File \"/home/prog3/notebooks/petrol/core/train.py\", line 115, in objective\n",
      "    return self.train(False, **params)\n",
      "  File \"/home/prog3/notebooks/petrol/core/train.py\", line 159, in train\n",
      "    self.model.fit(*self.train_dataloader(), verbose=False)\n",
      "  File \"/home/prog3/.cache/pypoetry/virtualenvs/petrol-j8nzVRxz-py3.10/lib/python3.10/site-packages/catboost/core.py\", line 5827, in fit\n",
      "    return self._fit(X, y, cat_features, text_features, embedding_features, None, sample_weight, None, None, None, None, baseline,\n",
      "  File \"/home/prog3/.cache/pypoetry/virtualenvs/petrol-j8nzVRxz-py3.10/lib/python3.10/site-packages/catboost/core.py\", line 2400, in _fit\n",
      "    self._train(\n",
      "  File \"/home/prog3/.cache/pypoetry/virtualenvs/petrol-j8nzVRxz-py3.10/lib/python3.10/site-packages/catboost/core.py\", line 1780, in _train\n",
      "    self._object._train(train_pool, test_pool, params, allow_clear_pool, init_model._object if init_model else None)\n",
      "  File \"_catboost.pyx\", line 4833, in _catboost._CatBoost._train\n",
      "  File \"_catboost.pyx\", line 4882, in _catboost._CatBoost._train\n",
      "KeyboardInterrupt\n",
      "[W 2024-04-25 11:04:09,985] Trial 57 failed with value None.\n"
     ]
    },
    {
     "ename": "KeyboardInterrupt",
     "evalue": "",
     "output_type": "error",
     "traceback": [
      "\u001b[0;31m---------------------------------------------------------------------------\u001b[0m",
      "\u001b[0;31mKeyboardInterrupt\u001b[0m                         Traceback (most recent call last)",
      "Cell \u001b[0;32mIn[3], line 5\u001b[0m\n\u001b[1;32m      2\u001b[0m df_2022\u001b[38;5;241m.\u001b[39mload(join(DATA, \u001b[38;5;124m'\u001b[39m\u001b[38;5;124mpreprocessed\u001b[39m\u001b[38;5;124m'\u001b[39m, \u001b[38;5;124m'\u001b[39m\u001b[38;5;124m2022_1250_scaled.csv\u001b[39m\u001b[38;5;124m'\u001b[39m), parse_dates\u001b[38;5;241m=\u001b[39m[\u001b[38;5;124m'\u001b[39m\u001b[38;5;124mDate\u001b[39m\u001b[38;5;124m'\u001b[39m])\n\u001b[1;32m      4\u001b[0m train \u001b[38;5;241m=\u001b[39m Train(df_2022,  model_name\u001b[38;5;241m=\u001b[39m\u001b[38;5;124m'\u001b[39m\u001b[38;5;124mcatboost\u001b[39m\u001b[38;5;124m'\u001b[39m, metrics\u001b[38;5;241m=\u001b[39m[\u001b[38;5;124m'\u001b[39m\u001b[38;5;124mR2\u001b[39m\u001b[38;5;124m'\u001b[39m,\u001b[38;5;124m'\u001b[39m\u001b[38;5;124mMAE\u001b[39m\u001b[38;5;124m'\u001b[39m, \u001b[38;5;124m'\u001b[39m\u001b[38;5;124mRMSE\u001b[39m\u001b[38;5;124m'\u001b[39m], directions\u001b[38;5;241m=\u001b[39m[\u001b[38;5;124m'\u001b[39m\u001b[38;5;124mmaximize\u001b[39m\u001b[38;5;124m'\u001b[39m, \u001b[38;5;124m'\u001b[39m\u001b[38;5;124mminimize\u001b[39m\u001b[38;5;124m'\u001b[39m,\u001b[38;5;124m'\u001b[39m\u001b[38;5;124mminimize\u001b[39m\u001b[38;5;124m'\u001b[39m], test_size\u001b[38;5;241m=\u001b[39m\u001b[38;5;241m0.2\u001b[39m)\n\u001b[0;32m----> 5\u001b[0m \u001b[43mtrain\u001b[49m\u001b[38;5;241;43m.\u001b[39;49m\u001b[43moptimize\u001b[49m\u001b[43m(\u001b[49m\u001b[38;5;124;43m'\u001b[39;49m\u001b[38;5;124;43mcatboost_2022_1250_scaled\u001b[39;49m\u001b[38;5;124;43m'\u001b[39;49m\u001b[43m,\u001b[49m\u001b[43m \u001b[49m\u001b[38;5;241;43m100\u001b[39;49m\u001b[43m)\u001b[49m \u001b[38;5;66;03m# дашборд запускается $ optuna-dashboard sqlite:///db.sqlite3\u001b[39;00m\n\u001b[1;32m      6\u001b[0m \u001b[38;5;66;03m# train.try_all_trials(100)\u001b[39;00m\n\u001b[1;32m      7\u001b[0m train\u001b[38;5;241m.\u001b[39mtrain_with_trial(train\u001b[38;5;241m.\u001b[39mbest_trials[\u001b[38;5;241m0\u001b[39m], \u001b[38;5;241m1500\u001b[39m)\n",
      "File \u001b[0;32m~/notebooks/petrol/core/train.py:127\u001b[0m, in \u001b[0;36mTrain.optimize\u001b[0;34m(self, study_name, n_trials)\u001b[0m\n\u001b[1;32m    120\u001b[0m study \u001b[38;5;241m=\u001b[39m optuna\u001b[38;5;241m.\u001b[39mcreate_study(\n\u001b[1;32m    121\u001b[0m     storage\u001b[38;5;241m=\u001b[39m\u001b[38;5;124m\"\u001b[39m\u001b[38;5;124msqlite:///db.sqlite3\u001b[39m\u001b[38;5;124m\"\u001b[39m,\n\u001b[1;32m    122\u001b[0m     study_name\u001b[38;5;241m=\u001b[39mstudy_name,\n\u001b[1;32m    123\u001b[0m     directions\u001b[38;5;241m=\u001b[39m\u001b[38;5;28mself\u001b[39m\u001b[38;5;241m.\u001b[39mdirections,\n\u001b[1;32m    124\u001b[0m     load_if_exists\u001b[38;5;241m=\u001b[39m\u001b[38;5;28;01mTrue\u001b[39;00m\n\u001b[1;32m    125\u001b[0m )\n\u001b[1;32m    126\u001b[0m study\u001b[38;5;241m.\u001b[39mset_metric_names(\u001b[38;5;28mself\u001b[39m\u001b[38;5;241m.\u001b[39mmetrics_list)\n\u001b[0;32m--> 127\u001b[0m \u001b[43mstudy\u001b[49m\u001b[38;5;241;43m.\u001b[39;49m\u001b[43moptimize\u001b[49m\u001b[43m(\u001b[49m\u001b[38;5;28;43mself\u001b[39;49m\u001b[38;5;241;43m.\u001b[39;49m\u001b[43mobjective\u001b[49m\u001b[43m,\u001b[49m\u001b[43m \u001b[49m\u001b[43mn_trials\u001b[49m\u001b[38;5;241;43m=\u001b[39;49m\u001b[43mn_trials\u001b[49m\u001b[43m)\u001b[49m\n\u001b[1;32m    128\u001b[0m \u001b[38;5;28mself\u001b[39m\u001b[38;5;241m.\u001b[39mbest_trials \u001b[38;5;241m=\u001b[39m study\u001b[38;5;241m.\u001b[39mbest_trials\n",
      "File \u001b[0;32m~/.cache/pypoetry/virtualenvs/petrol-j8nzVRxz-py3.10/lib/python3.10/site-packages/optuna/study/study.py:451\u001b[0m, in \u001b[0;36mStudy.optimize\u001b[0;34m(self, func, n_trials, timeout, n_jobs, catch, callbacks, gc_after_trial, show_progress_bar)\u001b[0m\n\u001b[1;32m    348\u001b[0m \u001b[38;5;28;01mdef\u001b[39;00m \u001b[38;5;21moptimize\u001b[39m(\n\u001b[1;32m    349\u001b[0m     \u001b[38;5;28mself\u001b[39m,\n\u001b[1;32m    350\u001b[0m     func: ObjectiveFuncType,\n\u001b[0;32m   (...)\u001b[0m\n\u001b[1;32m    357\u001b[0m     show_progress_bar: \u001b[38;5;28mbool\u001b[39m \u001b[38;5;241m=\u001b[39m \u001b[38;5;28;01mFalse\u001b[39;00m,\n\u001b[1;32m    358\u001b[0m ) \u001b[38;5;241m-\u001b[39m\u001b[38;5;241m>\u001b[39m \u001b[38;5;28;01mNone\u001b[39;00m:\n\u001b[1;32m    359\u001b[0m \u001b[38;5;250m    \u001b[39m\u001b[38;5;124;03m\"\"\"Optimize an objective function.\u001b[39;00m\n\u001b[1;32m    360\u001b[0m \n\u001b[1;32m    361\u001b[0m \u001b[38;5;124;03m    Optimization is done by choosing a suitable set of hyperparameter values from a given\u001b[39;00m\n\u001b[0;32m   (...)\u001b[0m\n\u001b[1;32m    449\u001b[0m \u001b[38;5;124;03m            If nested invocation of this method occurs.\u001b[39;00m\n\u001b[1;32m    450\u001b[0m \u001b[38;5;124;03m    \"\"\"\u001b[39;00m\n\u001b[0;32m--> 451\u001b[0m     \u001b[43m_optimize\u001b[49m\u001b[43m(\u001b[49m\n\u001b[1;32m    452\u001b[0m \u001b[43m        \u001b[49m\u001b[43mstudy\u001b[49m\u001b[38;5;241;43m=\u001b[39;49m\u001b[38;5;28;43mself\u001b[39;49m\u001b[43m,\u001b[49m\n\u001b[1;32m    453\u001b[0m \u001b[43m        \u001b[49m\u001b[43mfunc\u001b[49m\u001b[38;5;241;43m=\u001b[39;49m\u001b[43mfunc\u001b[49m\u001b[43m,\u001b[49m\n\u001b[1;32m    454\u001b[0m \u001b[43m        \u001b[49m\u001b[43mn_trials\u001b[49m\u001b[38;5;241;43m=\u001b[39;49m\u001b[43mn_trials\u001b[49m\u001b[43m,\u001b[49m\n\u001b[1;32m    455\u001b[0m \u001b[43m        \u001b[49m\u001b[43mtimeout\u001b[49m\u001b[38;5;241;43m=\u001b[39;49m\u001b[43mtimeout\u001b[49m\u001b[43m,\u001b[49m\n\u001b[1;32m    456\u001b[0m \u001b[43m        \u001b[49m\u001b[43mn_jobs\u001b[49m\u001b[38;5;241;43m=\u001b[39;49m\u001b[43mn_jobs\u001b[49m\u001b[43m,\u001b[49m\n\u001b[1;32m    457\u001b[0m \u001b[43m        \u001b[49m\u001b[43mcatch\u001b[49m\u001b[38;5;241;43m=\u001b[39;49m\u001b[38;5;28;43mtuple\u001b[39;49m\u001b[43m(\u001b[49m\u001b[43mcatch\u001b[49m\u001b[43m)\u001b[49m\u001b[43m \u001b[49m\u001b[38;5;28;43;01mif\u001b[39;49;00m\u001b[43m \u001b[49m\u001b[38;5;28;43misinstance\u001b[39;49m\u001b[43m(\u001b[49m\u001b[43mcatch\u001b[49m\u001b[43m,\u001b[49m\u001b[43m \u001b[49m\u001b[43mIterable\u001b[49m\u001b[43m)\u001b[49m\u001b[43m \u001b[49m\u001b[38;5;28;43;01melse\u001b[39;49;00m\u001b[43m \u001b[49m\u001b[43m(\u001b[49m\u001b[43mcatch\u001b[49m\u001b[43m,\u001b[49m\u001b[43m)\u001b[49m\u001b[43m,\u001b[49m\n\u001b[1;32m    458\u001b[0m \u001b[43m        \u001b[49m\u001b[43mcallbacks\u001b[49m\u001b[38;5;241;43m=\u001b[39;49m\u001b[43mcallbacks\u001b[49m\u001b[43m,\u001b[49m\n\u001b[1;32m    459\u001b[0m \u001b[43m        \u001b[49m\u001b[43mgc_after_trial\u001b[49m\u001b[38;5;241;43m=\u001b[39;49m\u001b[43mgc_after_trial\u001b[49m\u001b[43m,\u001b[49m\n\u001b[1;32m    460\u001b[0m \u001b[43m        \u001b[49m\u001b[43mshow_progress_bar\u001b[49m\u001b[38;5;241;43m=\u001b[39;49m\u001b[43mshow_progress_bar\u001b[49m\u001b[43m,\u001b[49m\n\u001b[1;32m    461\u001b[0m \u001b[43m    \u001b[49m\u001b[43m)\u001b[49m\n",
      "File \u001b[0;32m~/.cache/pypoetry/virtualenvs/petrol-j8nzVRxz-py3.10/lib/python3.10/site-packages/optuna/study/_optimize.py:62\u001b[0m, in \u001b[0;36m_optimize\u001b[0;34m(study, func, n_trials, timeout, n_jobs, catch, callbacks, gc_after_trial, show_progress_bar)\u001b[0m\n\u001b[1;32m     60\u001b[0m \u001b[38;5;28;01mtry\u001b[39;00m:\n\u001b[1;32m     61\u001b[0m     \u001b[38;5;28;01mif\u001b[39;00m n_jobs \u001b[38;5;241m==\u001b[39m \u001b[38;5;241m1\u001b[39m:\n\u001b[0;32m---> 62\u001b[0m         \u001b[43m_optimize_sequential\u001b[49m\u001b[43m(\u001b[49m\n\u001b[1;32m     63\u001b[0m \u001b[43m            \u001b[49m\u001b[43mstudy\u001b[49m\u001b[43m,\u001b[49m\n\u001b[1;32m     64\u001b[0m \u001b[43m            \u001b[49m\u001b[43mfunc\u001b[49m\u001b[43m,\u001b[49m\n\u001b[1;32m     65\u001b[0m \u001b[43m            \u001b[49m\u001b[43mn_trials\u001b[49m\u001b[43m,\u001b[49m\n\u001b[1;32m     66\u001b[0m \u001b[43m            \u001b[49m\u001b[43mtimeout\u001b[49m\u001b[43m,\u001b[49m\n\u001b[1;32m     67\u001b[0m \u001b[43m            \u001b[49m\u001b[43mcatch\u001b[49m\u001b[43m,\u001b[49m\n\u001b[1;32m     68\u001b[0m \u001b[43m            \u001b[49m\u001b[43mcallbacks\u001b[49m\u001b[43m,\u001b[49m\n\u001b[1;32m     69\u001b[0m \u001b[43m            \u001b[49m\u001b[43mgc_after_trial\u001b[49m\u001b[43m,\u001b[49m\n\u001b[1;32m     70\u001b[0m \u001b[43m            \u001b[49m\u001b[43mreseed_sampler_rng\u001b[49m\u001b[38;5;241;43m=\u001b[39;49m\u001b[38;5;28;43;01mFalse\u001b[39;49;00m\u001b[43m,\u001b[49m\n\u001b[1;32m     71\u001b[0m \u001b[43m            \u001b[49m\u001b[43mtime_start\u001b[49m\u001b[38;5;241;43m=\u001b[39;49m\u001b[38;5;28;43;01mNone\u001b[39;49;00m\u001b[43m,\u001b[49m\n\u001b[1;32m     72\u001b[0m \u001b[43m            \u001b[49m\u001b[43mprogress_bar\u001b[49m\u001b[38;5;241;43m=\u001b[39;49m\u001b[43mprogress_bar\u001b[49m\u001b[43m,\u001b[49m\n\u001b[1;32m     73\u001b[0m \u001b[43m        \u001b[49m\u001b[43m)\u001b[49m\n\u001b[1;32m     74\u001b[0m     \u001b[38;5;28;01melse\u001b[39;00m:\n\u001b[1;32m     75\u001b[0m         \u001b[38;5;28;01mif\u001b[39;00m n_jobs \u001b[38;5;241m==\u001b[39m \u001b[38;5;241m-\u001b[39m\u001b[38;5;241m1\u001b[39m:\n",
      "File \u001b[0;32m~/.cache/pypoetry/virtualenvs/petrol-j8nzVRxz-py3.10/lib/python3.10/site-packages/optuna/study/_optimize.py:159\u001b[0m, in \u001b[0;36m_optimize_sequential\u001b[0;34m(study, func, n_trials, timeout, catch, callbacks, gc_after_trial, reseed_sampler_rng, time_start, progress_bar)\u001b[0m\n\u001b[1;32m    156\u001b[0m         \u001b[38;5;28;01mbreak\u001b[39;00m\n\u001b[1;32m    158\u001b[0m \u001b[38;5;28;01mtry\u001b[39;00m:\n\u001b[0;32m--> 159\u001b[0m     frozen_trial \u001b[38;5;241m=\u001b[39m \u001b[43m_run_trial\u001b[49m\u001b[43m(\u001b[49m\u001b[43mstudy\u001b[49m\u001b[43m,\u001b[49m\u001b[43m \u001b[49m\u001b[43mfunc\u001b[49m\u001b[43m,\u001b[49m\u001b[43m \u001b[49m\u001b[43mcatch\u001b[49m\u001b[43m)\u001b[49m\n\u001b[1;32m    160\u001b[0m \u001b[38;5;28;01mfinally\u001b[39;00m:\n\u001b[1;32m    161\u001b[0m     \u001b[38;5;66;03m# The following line mitigates memory problems that can be occurred in some\u001b[39;00m\n\u001b[1;32m    162\u001b[0m     \u001b[38;5;66;03m# environments (e.g., services that use computing containers such as GitHub Actions).\u001b[39;00m\n\u001b[1;32m    163\u001b[0m     \u001b[38;5;66;03m# Please refer to the following PR for further details:\u001b[39;00m\n\u001b[1;32m    164\u001b[0m     \u001b[38;5;66;03m# https://github.com/optuna/optuna/pull/325.\u001b[39;00m\n\u001b[1;32m    165\u001b[0m     \u001b[38;5;28;01mif\u001b[39;00m gc_after_trial:\n",
      "File \u001b[0;32m~/.cache/pypoetry/virtualenvs/petrol-j8nzVRxz-py3.10/lib/python3.10/site-packages/optuna/study/_optimize.py:247\u001b[0m, in \u001b[0;36m_run_trial\u001b[0;34m(study, func, catch)\u001b[0m\n\u001b[1;32m    240\u001b[0m         \u001b[38;5;28;01massert\u001b[39;00m \u001b[38;5;28;01mFalse\u001b[39;00m, \u001b[38;5;124m\"\u001b[39m\u001b[38;5;124mShould not reach.\u001b[39m\u001b[38;5;124m\"\u001b[39m\n\u001b[1;32m    242\u001b[0m \u001b[38;5;28;01mif\u001b[39;00m (\n\u001b[1;32m    243\u001b[0m     frozen_trial\u001b[38;5;241m.\u001b[39mstate \u001b[38;5;241m==\u001b[39m TrialState\u001b[38;5;241m.\u001b[39mFAIL\n\u001b[1;32m    244\u001b[0m     \u001b[38;5;129;01mand\u001b[39;00m func_err \u001b[38;5;129;01mis\u001b[39;00m \u001b[38;5;129;01mnot\u001b[39;00m \u001b[38;5;28;01mNone\u001b[39;00m\n\u001b[1;32m    245\u001b[0m     \u001b[38;5;129;01mand\u001b[39;00m \u001b[38;5;129;01mnot\u001b[39;00m \u001b[38;5;28misinstance\u001b[39m(func_err, catch)\n\u001b[1;32m    246\u001b[0m ):\n\u001b[0;32m--> 247\u001b[0m     \u001b[38;5;28;01mraise\u001b[39;00m func_err\n\u001b[1;32m    248\u001b[0m \u001b[38;5;28;01mreturn\u001b[39;00m frozen_trial\n",
      "File \u001b[0;32m~/.cache/pypoetry/virtualenvs/petrol-j8nzVRxz-py3.10/lib/python3.10/site-packages/optuna/study/_optimize.py:196\u001b[0m, in \u001b[0;36m_run_trial\u001b[0;34m(study, func, catch)\u001b[0m\n\u001b[1;32m    194\u001b[0m \u001b[38;5;28;01mwith\u001b[39;00m get_heartbeat_thread(trial\u001b[38;5;241m.\u001b[39m_trial_id, study\u001b[38;5;241m.\u001b[39m_storage):\n\u001b[1;32m    195\u001b[0m     \u001b[38;5;28;01mtry\u001b[39;00m:\n\u001b[0;32m--> 196\u001b[0m         value_or_values \u001b[38;5;241m=\u001b[39m \u001b[43mfunc\u001b[49m\u001b[43m(\u001b[49m\u001b[43mtrial\u001b[49m\u001b[43m)\u001b[49m\n\u001b[1;32m    197\u001b[0m     \u001b[38;5;28;01mexcept\u001b[39;00m exceptions\u001b[38;5;241m.\u001b[39mTrialPruned \u001b[38;5;28;01mas\u001b[39;00m e:\n\u001b[1;32m    198\u001b[0m         \u001b[38;5;66;03m# TODO(mamu): Handle multi-objective cases.\u001b[39;00m\n\u001b[1;32m    199\u001b[0m         state \u001b[38;5;241m=\u001b[39m TrialState\u001b[38;5;241m.\u001b[39mPRUNED\n",
      "File \u001b[0;32m~/notebooks/petrol/core/train.py:115\u001b[0m, in \u001b[0;36mTrain.objective\u001b[0;34m(self, trial)\u001b[0m\n\u001b[1;32m    107\u001b[0m     \u001b[38;5;28;01mcase\u001b[39;00m \u001b[38;5;124m'\u001b[39m\u001b[38;5;124mcatboost\u001b[39m\u001b[38;5;124m'\u001b[39m:\n\u001b[1;32m    108\u001b[0m         params\u001b[38;5;241m=\u001b[39m {\n\u001b[1;32m    109\u001b[0m             \u001b[38;5;241m*\u001b[39m\u001b[38;5;241m*\u001b[39m\u001b[38;5;28mself\u001b[39m\u001b[38;5;241m.\u001b[39mbase_params,\n\u001b[1;32m    110\u001b[0m             \u001b[38;5;124m'\u001b[39m\u001b[38;5;124mn_estimators\u001b[39m\u001b[38;5;124m'\u001b[39m: trial\u001b[38;5;241m.\u001b[39msuggest_int(\u001b[38;5;124m\"\u001b[39m\u001b[38;5;124mn_estimators\u001b[39m\u001b[38;5;124m\"\u001b[39m, \u001b[38;5;241m50\u001b[39m, \u001b[38;5;241m200\u001b[39m),\n\u001b[0;32m   (...)\u001b[0m\n\u001b[1;32m    113\u001b[0m             \u001b[38;5;124m'\u001b[39m\u001b[38;5;124ml2_leaf_reg\u001b[39m\u001b[38;5;124m'\u001b[39m: trial\u001b[38;5;241m.\u001b[39msuggest_float(\u001b[38;5;124m\"\u001b[39m\u001b[38;5;124ml2_leaf_reg\u001b[39m\u001b[38;5;124m\"\u001b[39m, \u001b[38;5;241m0.1\u001b[39m, \u001b[38;5;241m5\u001b[39m),\n\u001b[1;32m    114\u001b[0m         } \n\u001b[0;32m--> 115\u001b[0m \u001b[38;5;28;01mreturn\u001b[39;00m \u001b[38;5;28;43mself\u001b[39;49m\u001b[38;5;241;43m.\u001b[39;49m\u001b[43mtrain\u001b[49m\u001b[43m(\u001b[49m\u001b[38;5;28;43;01mFalse\u001b[39;49;00m\u001b[43m,\u001b[49m\u001b[43m \u001b[49m\u001b[38;5;241;43m*\u001b[39;49m\u001b[38;5;241;43m*\u001b[39;49m\u001b[43mparams\u001b[49m\u001b[43m)\u001b[49m\n",
      "File \u001b[0;32m~/notebooks/petrol/core/train.py:159\u001b[0m, in \u001b[0;36mTrain.train\u001b[0;34m(self, track, **params)\u001b[0m\n\u001b[1;32m    157\u001b[0m \u001b[38;5;28mself\u001b[39m\u001b[38;5;241m.\u001b[39mmodel\u001b[38;5;241m.\u001b[39mset_params(\u001b[38;5;241m*\u001b[39m\u001b[38;5;241m*\u001b[39mparams)\n\u001b[1;32m    158\u001b[0m \u001b[38;5;28;01mif\u001b[39;00m \u001b[38;5;28mself\u001b[39m\u001b[38;5;241m.\u001b[39mmodel_name\u001b[38;5;241m==\u001b[39m\u001b[38;5;124m'\u001b[39m\u001b[38;5;124mcatboost\u001b[39m\u001b[38;5;124m'\u001b[39m:\n\u001b[0;32m--> 159\u001b[0m     \u001b[38;5;28;43mself\u001b[39;49m\u001b[38;5;241;43m.\u001b[39;49m\u001b[43mmodel\u001b[49m\u001b[38;5;241;43m.\u001b[39;49m\u001b[43mfit\u001b[49m\u001b[43m(\u001b[49m\u001b[38;5;241;43m*\u001b[39;49m\u001b[38;5;28;43mself\u001b[39;49m\u001b[38;5;241;43m.\u001b[39;49m\u001b[43mtrain_dataloader\u001b[49m\u001b[43m(\u001b[49m\u001b[43m)\u001b[49m\u001b[43m,\u001b[49m\u001b[43m \u001b[49m\u001b[43mverbose\u001b[49m\u001b[38;5;241;43m=\u001b[39;49m\u001b[38;5;28;43;01mFalse\u001b[39;49;00m\u001b[43m)\u001b[49m     \n\u001b[1;32m    160\u001b[0m \u001b[38;5;28;01melse\u001b[39;00m:\n\u001b[1;32m    161\u001b[0m     \u001b[38;5;28mself\u001b[39m\u001b[38;5;241m.\u001b[39mmodel\u001b[38;5;241m.\u001b[39mfit(\u001b[38;5;241m*\u001b[39m\u001b[38;5;28mself\u001b[39m\u001b[38;5;241m.\u001b[39mtrain_dataloader())        \n",
      "File \u001b[0;32m~/.cache/pypoetry/virtualenvs/petrol-j8nzVRxz-py3.10/lib/python3.10/site-packages/catboost/core.py:5827\u001b[0m, in \u001b[0;36mCatBoostRegressor.fit\u001b[0;34m(self, X, y, cat_features, text_features, embedding_features, sample_weight, baseline, use_best_model, eval_set, verbose, logging_level, plot, plot_file, column_description, verbose_eval, metric_period, silent, early_stopping_rounds, save_snapshot, snapshot_file, snapshot_interval, init_model, callbacks, log_cout, log_cerr)\u001b[0m\n\u001b[1;32m   5824\u001b[0m \u001b[38;5;28;01mif\u001b[39;00m \u001b[38;5;124m'\u001b[39m\u001b[38;5;124mloss_function\u001b[39m\u001b[38;5;124m'\u001b[39m \u001b[38;5;129;01min\u001b[39;00m params:\n\u001b[1;32m   5825\u001b[0m     CatBoostRegressor\u001b[38;5;241m.\u001b[39m_check_is_compatible_loss(params[\u001b[38;5;124m'\u001b[39m\u001b[38;5;124mloss_function\u001b[39m\u001b[38;5;124m'\u001b[39m])\n\u001b[0;32m-> 5827\u001b[0m \u001b[38;5;28;01mreturn\u001b[39;00m \u001b[38;5;28;43mself\u001b[39;49m\u001b[38;5;241;43m.\u001b[39;49m\u001b[43m_fit\u001b[49m\u001b[43m(\u001b[49m\u001b[43mX\u001b[49m\u001b[43m,\u001b[49m\u001b[43m \u001b[49m\u001b[43my\u001b[49m\u001b[43m,\u001b[49m\u001b[43m \u001b[49m\u001b[43mcat_features\u001b[49m\u001b[43m,\u001b[49m\u001b[43m \u001b[49m\u001b[43mtext_features\u001b[49m\u001b[43m,\u001b[49m\u001b[43m \u001b[49m\u001b[43membedding_features\u001b[49m\u001b[43m,\u001b[49m\u001b[43m \u001b[49m\u001b[38;5;28;43;01mNone\u001b[39;49;00m\u001b[43m,\u001b[49m\u001b[43m \u001b[49m\u001b[43msample_weight\u001b[49m\u001b[43m,\u001b[49m\u001b[43m \u001b[49m\u001b[38;5;28;43;01mNone\u001b[39;49;00m\u001b[43m,\u001b[49m\u001b[43m \u001b[49m\u001b[38;5;28;43;01mNone\u001b[39;49;00m\u001b[43m,\u001b[49m\u001b[43m \u001b[49m\u001b[38;5;28;43;01mNone\u001b[39;49;00m\u001b[43m,\u001b[49m\u001b[43m \u001b[49m\u001b[38;5;28;43;01mNone\u001b[39;49;00m\u001b[43m,\u001b[49m\u001b[43m \u001b[49m\u001b[43mbaseline\u001b[49m\u001b[43m,\u001b[49m\n\u001b[1;32m   5828\u001b[0m \u001b[43m                 \u001b[49m\u001b[43muse_best_model\u001b[49m\u001b[43m,\u001b[49m\u001b[43m \u001b[49m\u001b[43meval_set\u001b[49m\u001b[43m,\u001b[49m\u001b[43m \u001b[49m\u001b[43mverbose\u001b[49m\u001b[43m,\u001b[49m\u001b[43m \u001b[49m\u001b[43mlogging_level\u001b[49m\u001b[43m,\u001b[49m\u001b[43m \u001b[49m\u001b[43mplot\u001b[49m\u001b[43m,\u001b[49m\u001b[43m \u001b[49m\u001b[43mplot_file\u001b[49m\u001b[43m,\u001b[49m\u001b[43m \u001b[49m\u001b[43mcolumn_description\u001b[49m\u001b[43m,\u001b[49m\n\u001b[1;32m   5829\u001b[0m \u001b[43m                 \u001b[49m\u001b[43mverbose_eval\u001b[49m\u001b[43m,\u001b[49m\u001b[43m \u001b[49m\u001b[43mmetric_period\u001b[49m\u001b[43m,\u001b[49m\u001b[43m \u001b[49m\u001b[43msilent\u001b[49m\u001b[43m,\u001b[49m\u001b[43m \u001b[49m\u001b[43mearly_stopping_rounds\u001b[49m\u001b[43m,\u001b[49m\n\u001b[1;32m   5830\u001b[0m \u001b[43m                 \u001b[49m\u001b[43msave_snapshot\u001b[49m\u001b[43m,\u001b[49m\u001b[43m \u001b[49m\u001b[43msnapshot_file\u001b[49m\u001b[43m,\u001b[49m\u001b[43m \u001b[49m\u001b[43msnapshot_interval\u001b[49m\u001b[43m,\u001b[49m\u001b[43m \u001b[49m\u001b[43minit_model\u001b[49m\u001b[43m,\u001b[49m\u001b[43m \u001b[49m\u001b[43mcallbacks\u001b[49m\u001b[43m,\u001b[49m\u001b[43m \u001b[49m\u001b[43mlog_cout\u001b[49m\u001b[43m,\u001b[49m\u001b[43m \u001b[49m\u001b[43mlog_cerr\u001b[49m\u001b[43m)\u001b[49m\n",
      "File \u001b[0;32m~/.cache/pypoetry/virtualenvs/petrol-j8nzVRxz-py3.10/lib/python3.10/site-packages/catboost/core.py:2400\u001b[0m, in \u001b[0;36mCatBoost._fit\u001b[0;34m(self, X, y, cat_features, text_features, embedding_features, pairs, sample_weight, group_id, group_weight, subgroup_id, pairs_weight, baseline, use_best_model, eval_set, verbose, logging_level, plot, plot_file, column_description, verbose_eval, metric_period, silent, early_stopping_rounds, save_snapshot, snapshot_file, snapshot_interval, init_model, callbacks, log_cout, log_cerr)\u001b[0m\n\u001b[1;32m   2397\u001b[0m allow_clear_pool \u001b[38;5;241m=\u001b[39m train_params[\u001b[38;5;124m\"\u001b[39m\u001b[38;5;124mallow_clear_pool\u001b[39m\u001b[38;5;124m\"\u001b[39m]\n\u001b[1;32m   2399\u001b[0m \u001b[38;5;28;01mwith\u001b[39;00m plot_wrapper(plot, plot_file, \u001b[38;5;124m'\u001b[39m\u001b[38;5;124mTraining plots\u001b[39m\u001b[38;5;124m'\u001b[39m, [_get_train_dir(\u001b[38;5;28mself\u001b[39m\u001b[38;5;241m.\u001b[39mget_params())]):\n\u001b[0;32m-> 2400\u001b[0m     \u001b[38;5;28;43mself\u001b[39;49m\u001b[38;5;241;43m.\u001b[39;49m\u001b[43m_train\u001b[49m\u001b[43m(\u001b[49m\n\u001b[1;32m   2401\u001b[0m \u001b[43m        \u001b[49m\u001b[43mtrain_pool\u001b[49m\u001b[43m,\u001b[49m\n\u001b[1;32m   2402\u001b[0m \u001b[43m        \u001b[49m\u001b[43mtrain_params\u001b[49m\u001b[43m[\u001b[49m\u001b[38;5;124;43m\"\u001b[39;49m\u001b[38;5;124;43meval_sets\u001b[39;49m\u001b[38;5;124;43m\"\u001b[39;49m\u001b[43m]\u001b[49m\u001b[43m,\u001b[49m\n\u001b[1;32m   2403\u001b[0m \u001b[43m        \u001b[49m\u001b[43mparams\u001b[49m\u001b[43m,\u001b[49m\n\u001b[1;32m   2404\u001b[0m \u001b[43m        \u001b[49m\u001b[43mallow_clear_pool\u001b[49m\u001b[43m,\u001b[49m\n\u001b[1;32m   2405\u001b[0m \u001b[43m        \u001b[49m\u001b[43mtrain_params\u001b[49m\u001b[43m[\u001b[49m\u001b[38;5;124;43m\"\u001b[39;49m\u001b[38;5;124;43minit_model\u001b[39;49m\u001b[38;5;124;43m\"\u001b[39;49m\u001b[43m]\u001b[49m\n\u001b[1;32m   2406\u001b[0m \u001b[43m    \u001b[49m\u001b[43m)\u001b[49m\n\u001b[1;32m   2408\u001b[0m \u001b[38;5;66;03m# Have property feature_importance possibly set\u001b[39;00m\n\u001b[1;32m   2409\u001b[0m loss \u001b[38;5;241m=\u001b[39m \u001b[38;5;28mself\u001b[39m\u001b[38;5;241m.\u001b[39m_object\u001b[38;5;241m.\u001b[39m_get_loss_function_name()\n",
      "File \u001b[0;32m~/.cache/pypoetry/virtualenvs/petrol-j8nzVRxz-py3.10/lib/python3.10/site-packages/catboost/core.py:1780\u001b[0m, in \u001b[0;36m_CatBoostBase._train\u001b[0;34m(self, train_pool, test_pool, params, allow_clear_pool, init_model)\u001b[0m\n\u001b[1;32m   1779\u001b[0m \u001b[38;5;28;01mdef\u001b[39;00m \u001b[38;5;21m_train\u001b[39m(\u001b[38;5;28mself\u001b[39m, train_pool, test_pool, params, allow_clear_pool, init_model):\n\u001b[0;32m-> 1780\u001b[0m     \u001b[38;5;28;43mself\u001b[39;49m\u001b[38;5;241;43m.\u001b[39;49m\u001b[43m_object\u001b[49m\u001b[38;5;241;43m.\u001b[39;49m\u001b[43m_train\u001b[49m\u001b[43m(\u001b[49m\u001b[43mtrain_pool\u001b[49m\u001b[43m,\u001b[49m\u001b[43m \u001b[49m\u001b[43mtest_pool\u001b[49m\u001b[43m,\u001b[49m\u001b[43m \u001b[49m\u001b[43mparams\u001b[49m\u001b[43m,\u001b[49m\u001b[43m \u001b[49m\u001b[43mallow_clear_pool\u001b[49m\u001b[43m,\u001b[49m\u001b[43m \u001b[49m\u001b[43minit_model\u001b[49m\u001b[38;5;241;43m.\u001b[39;49m\u001b[43m_object\u001b[49m\u001b[43m \u001b[49m\u001b[38;5;28;43;01mif\u001b[39;49;00m\u001b[43m \u001b[49m\u001b[43minit_model\u001b[49m\u001b[43m \u001b[49m\u001b[38;5;28;43;01melse\u001b[39;49;00m\u001b[43m \u001b[49m\u001b[38;5;28;43;01mNone\u001b[39;49;00m\u001b[43m)\u001b[49m\n\u001b[1;32m   1781\u001b[0m     \u001b[38;5;28mself\u001b[39m\u001b[38;5;241m.\u001b[39m_set_trained_model_attributes()\n",
      "File \u001b[0;32m_catboost.pyx:4833\u001b[0m, in \u001b[0;36m_catboost._CatBoost._train\u001b[0;34m()\u001b[0m\n",
      "File \u001b[0;32m_catboost.pyx:4882\u001b[0m, in \u001b[0;36m_catboost._CatBoost._train\u001b[0;34m()\u001b[0m\n",
      "\u001b[0;31mKeyboardInterrupt\u001b[0m: "
     ]
    }
   ],
   "source": [
    "df_2022 = Dataset(name='2022_1250_scaled', verbose=False)\n",
    "df_2022.load(join(DATA, 'preprocessed', '2022_1250_scaled.csv'), parse_dates=['Date'])\n",
    "\n",
    "train = Train(df_2022,  model_name='catboost', metrics=['R2','MAE', 'RMSE'], directions=['maximize', 'minimize','minimize'], test_size=0.2)\n",
    "train.optimize('catboost_2022_1250_scaled', 100) # дашборд запускается $ optuna-dashboard sqlite:///db.sqlite3\n",
    "# train.try_all_trials(100)\n",
    "train.train_with_trial(train.best_trials[0], 1500)\n",
    "# train.plot_preds()"
   ]
  },
  {
   "cell_type": "markdown",
   "metadata": {},
   "source": [
    "# Обработка 2022 (2500) (data_2022.csv уже перезаписан)"
   ]
  },
  {
   "cell_type": "code",
   "execution_count": null,
   "metadata": {},
   "outputs": [],
   "source": [
    "df = Dataset(verbose=True)\n",
    "df.load(join(DATA, 'preprocessed', 'data_2022.csv'), parse_dates=['Дата'])\n",
    "df.drop(['Unnamed: 0'])\n",
    "\n",
    "# df.df[df.df['ОН-1/2,P отс. ,кгс/см²'].isin([0])].iloc[:,14:]\n",
    "\n",
    "alerts = ['2022-05-17 10:00:00', '2022-06-06 08:00:00', '2022-07-28 14:00:00', '2022-12-25 12:00:00', '2022-09-03 16:00:00']\n",
    "df.df[df.df['Дата'].isin(alerts)] # аномальные дни\n",
    "\n",
    "df.df.drop(df.df[df.df['Дата'].isin(alerts)].index, inplace=True)\n",
    "\n",
    "# df.time_series(df.cols[1:], time_axis='Дата', filepath=join(PLOTS, 'time_series', \"2022_all\"))\n",
    "# df.corr_matrix(df.cols[1:], target='Добыча воды за 2 ч', filepath=join(PLOTS, 'correlation', \"2022_all\"), show=True)"
   ]
  },
  {
   "cell_type": "markdown",
   "metadata": {},
   "source": [
    "# Идеи"
   ]
  },
  {
   "cell_type": "code",
   "execution_count": null,
   "metadata": {},
   "outputs": [],
   "source": [
    "cols = df.cols[1:-2]\n",
    "for col in cols:\n",
    "    df.df[col] = df.zscore(df.df[col], window=300, thresh=3.0, coeff=1.0)\n",
    "    # plot(df.df[col], df.df[col + '_cleaned'], max, min)\n"
   ]
  },
  {
   "cell_type": "code",
   "execution_count": null,
   "metadata": {},
   "outputs": [],
   "source": [
    "cols = ['Water_2hours', 'Vlagomer']\n",
    "for col in cols:\n",
    "    df.df[col] = df.zscore(df.df[col], window=300, thresh=3.0, coeff=1.0)\n",
    "    # plot(df.df[col], df.df[col + '_cleaned'], max, min)\n",
    "df.corr_matrix(df.cols[1:], target='Vlagomer', show=True)"
   ]
  }
 ],
 "metadata": {
  "kernelspec": {
   "display_name": "petrol-j8nzVRxz-py3.10",
   "language": "python",
   "name": "python3"
  },
  "language_info": {
   "codemirror_mode": {
    "name": "ipython",
    "version": 3
   },
   "file_extension": ".py",
   "mimetype": "text/x-python",
   "name": "python",
   "nbconvert_exporter": "python",
   "pygments_lexer": "ipython3",
   "version": "3.10.12"
  }
 },
 "nbformat": 4,
 "nbformat_minor": 2
}
