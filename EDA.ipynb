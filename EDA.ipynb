{
 "cells": [
  {
   "cell_type": "code",
   "execution_count": null,
   "metadata": {},
   "outputs": [],
   "source": [
    "import plotly.express as px\n",
    "import plotly.graph_objects as go\n",
    "from plotly.subplots import make_subplots"
   ]
  },
  {
   "cell_type": "markdown",
   "metadata": {},
   "source": [
    "# Вспомогательные функции"
   ]
  },
  {
   "cell_type": "code",
   "execution_count": null,
   "metadata": {},
   "outputs": [],
   "source": [
    "def hist(df, columns, nrows, ncols, figsize=(600, 1500)):\n",
    "    fig = make_subplots(rows=nrows, cols=ncols)\n",
    "    for idx, column in enumerate(columns):\n",
    "        fig.append_trace(go.Histogram(x=df[column], texttemplate=\"%{x}\", name=column), \n",
    "                        idx//ncols + 1, idx%ncols + 1)\n",
    "    fig.update_layout(\n",
    "        autosize=False,\n",
    "        height=figsize[0],\n",
    "        width=figsize[1],\n",
    "        margin=dict(\n",
    "            l=50,\n",
    "            r=50,\n",
    "            b=100,\n",
    "            t=100,\n",
    "            pad=4\n",
    "        ),\n",
    "        # paper_bgcolor=\"LightSteelBlue\",\n",
    "    )\n",
    "    fig.show()"
   ]
  },
  {
   "cell_type": "code",
   "execution_count": null,
   "metadata": {},
   "outputs": [],
   "source": [
    "def ind_hists(df, columns, figsize=(400,1500), marginal=None, nbins=None, log=(True, True)):\n",
    "    for idx, column in enumerate(columns):\n",
    "        px.histogram(df, column, height=figsize[0], width=figsize[1], marginal=marginal, nbins=nbins, log_x=log[0], log_y=log[1]).show()"
   ]
  },
  {
   "cell_type": "code",
   "execution_count": null,
   "metadata": {},
   "outputs": [],
   "source": [
    "def del_right_outliers(df, column, q):\n",
    "    q = df[column].quantile(q)\n",
    "    print(f\"Удаление значений, больше {q}. Это {df[df[column] >= q].shape[0]} записей\")\n",
    "    return df[df[column] < q]"
   ]
  },
  {
   "cell_type": "code",
   "execution_count": null,
   "metadata": {},
   "outputs": [],
   "source": [
    "def split_by_zeros(df, columns, threshold):\n",
    "    idx = (df[columns.keys()] == 0).sum(axis=1) >= threshold\n",
    "    return df.loc[idx, :], df.loc[~idx, :]"
   ]
  },
  {
   "cell_type": "code",
   "execution_count": null,
   "metadata": {},
   "outputs": [],
   "source": [
    "def value_counts(df, columns):\n",
    "    for col in columns:\n",
    "        print(df[col].value_counts(), \"\\n\", \"+++\", \"=\"*len(col), \"+++\")"
   ]
  },
  {
   "cell_type": "markdown",
   "metadata": {},
   "source": [
    "# EDA"
   ]
  },
  {
   "cell_type": "markdown",
   "metadata": {},
   "source": [
    "## Первичный анализ"
   ]
  },
  {
   "cell_type": "markdown",
   "metadata": {},
   "source": [
    "- Парсинг временны'х признаков\n",
    "- Добавление смещения значений по добыче воды за 2 часа\n",
    "- Фильтрация времени, оставляя ручные измерения (8 утра/вечера)"
   ]
  },
  {
   "cell_type": "code",
   "execution_count": null,
   "metadata": {},
   "outputs": [],
   "source": [
    "df_original.head(3)"
   ]
  },
  {
   "cell_type": "markdown",
   "metadata": {},
   "source": [
    "- shape=(4334, 59)\n",
    "- Columns=['Год', 'Месяц', 'День', 'Час', 'Блок манифольда|P бм  |кгс/см²',\n",
    "       'Блок манифольда|t жидкости| °С', 'С-1|P сеп. |кгс/см²',\n",
    "       'С-1|t жидкости |°С', 'С-1|L жидкости| см', 'С-2/1|P сеп. |кгс/см²',\n",
    "       'С-2/1|t жидкости|°С', 'С-2/1|L межфазный|см', 'С-2/1|L нефти|см',\n",
    "       'С-2/2|P сеп. |кгс/см²', 'С-2/2|t жидкости|°С', 'С-2/2|L межфазный|см',\n",
    "       'С-2/2|L нефти|см', 'ОН-1/1|P отс. |кгс/см²', 'ОН-1/1|t жидкости|°С',\n",
    "       'ОН-1/1|L межфазный|см', 'ОН-1/2|P отс. |кгс/см²',\n",
    "       'ОН-1/2|t жидкости|°С', 'ОН-1/2|L  межфазный|см', 'С-3|t жидкости|°С',\n",
    "       'С-3|L нефти|см', 'П-1|Т нефти на входе|°С', 'П-1|Т нефти на выходе|°С',\n",
    "       'П-1|Р нефти на входе|кгс/см²', 'П-1|Р нефти на выходе|кгс/см²',\n",
    "       'П-1|Т теплоно-сителя|°С', 'П-1|Т дымовых газов|°С',\n",
    "       'П-1|Р на горелку|кгс/см2', 'П-2|Т нефти на входе|°С',\n",
    "       'П-2|Т нефти на выходе|°С', 'П-2|Р нефти на входе|кгс/см²',\n",
    "       'П-2|Р нефти на выходе|кгс/см²', 'П-2|Т теплоно-сителя|°С',\n",
    "       'П-2|Т дымовых газов|°С', 'П-2|Р на горелку|кгс/см3',\n",
    "       'П-3|Т нефти на входе|°С', 'П-3|Т нефти на выходе|°С',\n",
    "       'П-3|Р нефти на входе|кгс/см²', 'П-3|Р нефти на выходе|кгс/см²',\n",
    "       'П-3|Т теплоно-сителя|°С', 'П-3|Т дымовых газов|°С',\n",
    "       'П-3|Р на горелку|кгс/см4', 'БЕВ-1|L воды|см', 'БЕВ-1|V  воды|м3',\n",
    "       'БЕВ-1|V нефти|м3', 'БЕВ-1|t воды|°С', 'БЕВ-2|L воды|см',\n",
    "       'БЕВ-2|V  воды|м3', 'БЕВ-2|V нефти|м3', 'БЕВ-2|t воды|°С',\n",
    "       'БЕВ-3|L воды|см', 'БЕВ-3|V  воды|м3', 'БЕВ-3|V нефти|м3',\n",
    "       'БЕВ-3|t воды|°С', 'Вода с лагом (-1)']\n",
    "- float64(22), int32(4), int64(33)\n",
    "- Null значений нету"
   ]
  },
  {
   "cell_type": "markdown",
   "metadata": {},
   "source": [
    "## Анализ нулевых значений"
   ]
  },
  {
   "cell_type": "code",
   "execution_count": null,
   "metadata": {},
   "outputs": [],
   "source": [
    "zero_columns = {column: (df[column]==0).sum()/df[column].count() * 100 \n",
    "                for column \n",
    "                in df.columns\n",
    "                if (df[column]==0).sum()!=0}\n",
    "\n",
    "zero_columns = dict(sorted(zero_columns.items(), \n",
    "                           key=lambda item: item[1], \n",
    "                           reverse=True))\n",
    "print(*[f'{idx:2}.  {zero_percent:5.2f}: {column}' for idx, (column, zero_percent) in enumerate(zero_columns.items())], \n",
    "        sep='\\n')"
   ]
  },
  {
   "cell_type": "markdown",
   "metadata": {},
   "source": [
    "Уберем из списка нулевых столбцов те, у которых меньше 1% нулей"
   ]
  },
  {
   "cell_type": "code",
   "execution_count": null,
   "metadata": {},
   "outputs": [],
   "source": [
    "zero_columns = slice(zero_columns, stop=20)"
   ]
  },
  {
   "cell_type": "markdown",
   "metadata": {},
   "source": [
    "\n",
    "Alarm:\n",
    "\n",
    " 0.  100.00: БЕВ-2|V нефти|м3\n",
    " 1.  100.00: БЕВ-3|V нефти|м3\n",
    " 2.  95.34: БЕВ-1|V нефти|м3\n",
    " 3.  80.94: БЕВ-1|t воды|°С\n",
    " 4.  80.94: БЕВ-2|t воды|°С\n",
    " 5.  80.94: БЕВ-3|t воды|°С\n",
    " 6.  44.23: П-1|Т нефти на входе|°С\n",
    " 7.  44.23: П-1|Т нефти на выходе|°С\n",
    " 8.  44.23: П-1|Р нефти на входе|кгс/см²\n",
    " 9.  44.23: П-1|Р нефти на выходе|кгс/см²\n",
    "10.  44.23: П-1|Т теплоно-сителя|°С\n",
    "11.  44.23: П-1|Т дымовых газов|°С\n",
    "12.  44.23: П-1|Р на горелку|кгс/см2"
   ]
  },
  {
   "cell_type": "code",
   "execution_count": null,
   "metadata": {},
   "outputs": [],
   "source": [
    "bevs = list(slice(zero_columns, stop=6).keys())\n",
    "hist(df, bevs, 3, 2, figsize=(800,1500))"
   ]
  },
  {
   "cell_type": "markdown",
   "metadata": {},
   "source": [
    "- В БЕВ'ав слишком много нулевых значений => их больше не учитываем"
   ]
  },
  {
   "cell_type": "code",
   "execution_count": null,
   "metadata": {},
   "outputs": [],
   "source": [
    "df.drop(columns=bevs, inplace=True)\n",
    "zero_columns = slice(zero_columns, start=6)\n",
    "zero_columns"
   ]
  },
  {
   "cell_type": "code",
   "execution_count": null,
   "metadata": {},
   "outputs": [],
   "source": [
    "p_1 = list(slice(zero_columns, stop=7).keys())\n",
    "ind_hists(df, p_1, marginal='box', nbins=200, log=(False,True))"
   ]
  },
  {
   "cell_type": "markdown",
   "metadata": {},
   "source": [
    "> Выбросы в: \n",
    "> - \"П-1|Р нефти на выходе|кгс/см²\" (43.1, count=1)\n",
    "> - \"П-1|Р на горелку|кгс/см2': 44.23165666820489\" (300, count=1)\n",
    "\n",
    "> Удаляем..."
   ]
  },
  {
   "cell_type": "code",
   "execution_count": null,
   "metadata": {},
   "outputs": [],
   "source": [
    "df = del_right_outliers(df, 'П-1|Р нефти на выходе|кгс/см²', .999)\n",
    "df = del_right_outliers(df, 'П-1|Р на горелку|кгс/см2', .9991)"
   ]
  },
  {
   "cell_type": "markdown",
   "metadata": {},
   "source": [
    "\n",
    "> Снова смотрим на распределения"
   ]
  },
  {
   "cell_type": "code",
   "execution_count": null,
   "metadata": {},
   "outputs": [],
   "source": [
    "ind_hists(df, p_1, marginal='box', nbins=200, log=(False,True))"
   ]
  },
  {
   "cell_type": "markdown",
   "metadata": {},
   "source": [
    "> Стало немного лучше"
   ]
  },
  {
   "cell_type": "code",
   "execution_count": null,
   "metadata": {},
   "outputs": [],
   "source": [
    "df.shape, df_original.shape"
   ]
  },
  {
   "cell_type": "markdown",
   "metadata": {},
   "source": [
    "> Однако, в первой печке тоже много значений по нулям\n",
    "- Посмотрим, сколько строк имеют большое кол-во нулей"
   ]
  },
  {
   "cell_type": "code",
   "execution_count": null,
   "metadata": {},
   "outputs": [],
   "source": [
    "threshold = 7\n",
    "df_much_zeros, df_without_zeros = split_by_zeros(df, zero_columns, threshold)\n",
    "print(f\"Датасет содержащий строки с кол-во нулей в столбцах < {threshold}: shape=({df_without_zeros.shape})\")\n",
    "print(f\"Датасет содержащий строки с кол-вом нулей в столбцах >= {threshold}: shape=({df_much_zeros.shape})\")"
   ]
  },
  {
   "cell_type": "markdown",
   "metadata": {},
   "source": [
    "## Обработка выбросов"
   ]
  },
  {
   "cell_type": "code",
   "execution_count": 2,
   "metadata": {},
   "outputs": [],
   "source": [
    "outlier_columns = [col for col in df if 'outlier' in col]\n",
    "outlier_columns.append('Вода с лагом (-1)')\n",
    "\n",
    "orig_columns = [col for col in df if col not in outlier_columns]\n",
    "orig_columns.append('Добыча воды за 2 ч |м3 лаг:(-1)')\n",
    "orig_columns.remove('YY-MM-DD HH:00')\n",
    "\n",
    "pechki_columns = [col for col in df if 'П' in col]\n",
    "pechki_columns.append('Добыча воды за 2 ч |м3 лаг:(-1)')\n"
   ]
  },
  {
   "cell_type": "markdown",
   "metadata": {},
   "source": [
    "### Scatter matrixes"
   ]
  },
  {
   "cell_type": "code",
   "execution_count": null,
   "metadata": {},
   "outputs": [],
   "source": [
    "for i in range(0, len(outlier_columns), 10):\n",
    "    df.scatter_matrix(outlier_columns[i: i+11], join(PLOTS, f'scatter_matrix{i}.html'), size=(4000, 4000))"
   ]
  },
  {
   "cell_type": "code",
   "execution_count": 3,
   "metadata": {},
   "outputs": [],
   "source": [
    "df.scatter_matrix(orig_columns, join(PLOTS, 'all_scatter_matrix.html'), size=(4000, 4000))\n",
    "df.scatter_matrix(pechki_columns, join(PLOTS, 'печки_scatter_matrix.html'), size=(4000, 4000))"
   ]
  },
  {
   "cell_type": "markdown",
   "metadata": {},
   "source": [
    "### Correlation matrixes"
   ]
  },
  {
   "cell_type": "code",
   "execution_count": 4,
   "metadata": {},
   "outputs": [],
   "source": [
    "df.corr_matrix(pechki_columns, filepath=join(PLOTS, 'печки_corr_matrix.html'),\n",
    "               size=(4000, 4000))"
   ]
  },
  {
   "cell_type": "markdown",
   "metadata": {},
   "source": [
    "##  Проверка колебаний аналогичных показателей во времени"
   ]
  },
  {
   "cell_type": "code",
   "execution_count": 5,
   "metadata": {},
   "outputs": [],
   "source": [
    "df.time_series(columns='П', appendix_cols=['Добыча воды за 2 ч |м3 лаг:(-1)'], log=(False,False),\n",
    "               save_path=join(PLOTS, 'Печки.html'), show=False)\n",
    "\n",
    "df.time_series(columns='С-', appendix_cols=['Добыча воды за 2 ч |м3 лаг:(-1)'], log=(False,False),\n",
    "               save_path=join(PLOTS, 'Сепараторы.html'), show=False)\n",
    "\n",
    "df.time_series(columns='ОН', appendix_cols=['Добыча воды за 2 ч |м3 лаг:(-1)'], log=(False,False),\n",
    "               save_path=join(PLOTS, 'ОН.html'), show=False)"
   ]
  }
 ],
 "metadata": {
  "kernelspec": {
   "display_name": "Python 3 (ipykernel)",
   "language": "python",
   "name": "python3"
  },
  "language_info": {
   "codemirror_mode": {
    "name": "ipython",
    "version": 3
   },
   "file_extension": ".py",
   "mimetype": "text/x-python",
   "name": "python",
   "nbconvert_exporter": "python",
   "pygments_lexer": "ipython3",
   "version": "3.10.12"
  }
 },
 "nbformat": 4,
 "nbformat_minor": 2
}
