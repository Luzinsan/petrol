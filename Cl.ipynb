{
 "cells": [
  {
   "cell_type": "markdown",
   "metadata": {},
   "source": [
    "# Импорты"
   ]
  },
  {
   "cell_type": "code",
   "execution_count": null,
   "metadata": {},
   "outputs": [],
   "source": [
    "import itertools\n",
    "import pandas as pd\n",
    "\n",
    "import plotly.express as px\n",
    "import plotly.graph_objects as go\n",
    "from plotly.subplots import make_subplots\n",
    "pd.options.plotting.backend = \"matplotlib\"\n",
    "\n",
    "from ydata_profiling import ProfileReport"
   ]
  },
  {
   "cell_type": "code",
   "execution_count": null,
   "metadata": {},
   "outputs": [],
   "source": [
    "from scipy import stats\n",
    "import numpy as np"
   ]
  },
  {
   "cell_type": "code",
   "execution_count": null,
   "metadata": {},
   "outputs": [],
   "source": [
    "PLOTS = './plots/'"
   ]
  },
  {
   "cell_type": "markdown",
   "metadata": {},
   "source": [
    "# Вспомогательные функции"
   ]
  },
  {
   "cell_type": "code",
   "execution_count": null,
   "metadata": {},
   "outputs": [],
   "source": [
    "def hist(df, columns, nrows, ncols, figsize=(600, 1500)):\n",
    "    fig = make_subplots(rows=nrows, cols=ncols)\n",
    "    for idx, column in enumerate(columns):\n",
    "        fig.append_trace(go.Histogram(x=df[column], texttemplate=\"%{x}\", name=column), \n",
    "                        idx//ncols + 1, idx%ncols + 1)\n",
    "    fig.update_layout(\n",
    "        autosize=False,\n",
    "        height=figsize[0],\n",
    "        width=figsize[1],\n",
    "        margin=dict(\n",
    "            l=50,\n",
    "            r=50,\n",
    "            b=100,\n",
    "            t=100,\n",
    "            pad=4\n",
    "        ),\n",
    "        # paper_bgcolor=\"LightSteelBlue\",\n",
    "    )\n",
    "    fig.show()"
   ]
  },
  {
   "cell_type": "code",
   "execution_count": null,
   "metadata": {},
   "outputs": [],
   "source": [
    "def ind_hists(df, columns, figsize=(400,1500), marginal=None, nbins=None, log=(True, True)):\n",
    "    for idx, column in enumerate(columns):\n",
    "        px.histogram(df, column, height=figsize[0], width=figsize[1], marginal=marginal, nbins=nbins, log_x=log[0], log_y=log[1]).show()"
   ]
  },
  {
   "cell_type": "code",
   "execution_count": null,
   "metadata": {},
   "outputs": [],
   "source": [
    "def del_right_outliers(df, column, q):\n",
    "    q = df[column].quantile(q)\n",
    "    print(f\"Удаление значений, больше {q}. Это {df[df[column] >= q].shape[0]} записей\")\n",
    "    return df[df[column] < q]"
   ]
  },
  {
   "cell_type": "code",
   "execution_count": null,
   "metadata": {},
   "outputs": [],
   "source": [
    "def split_by_zeros(df, columns, threshold):\n",
    "    idx = (df[columns.keys()] == 0).sum(axis=1) >= threshold\n",
    "    return df.loc[idx, :], df.loc[~idx, :]"
   ]
  },
  {
   "cell_type": "code",
   "execution_count": null,
   "metadata": {},
   "outputs": [],
   "source": [
    "def value_counts(df, columns):\n",
    "    for col in columns:\n",
    "        print(df[col].value_counts(), \"\\n\", \"+++\", \"=\"*len(col), \"+++\")"
   ]
  },
  {
   "cell_type": "code",
   "execution_count": null,
   "metadata": {},
   "outputs": [],
   "source": [
    "def create_melt(df, col_substr=None, col_name='Value', appendix_cols: list=None, \n",
    "                plot=True, figsize=(1000, 3000), log=(True,False), save_path=None):\n",
    "    temperature_cols = [col for col in df if col_substr in col] if col_substr else df.columns[4:]\n",
    "    if appendix_cols:\n",
    "        temperature_cols += appendix_cols\n",
    "    print(temperature_cols)\n",
    "    df_temp = df[temperature_cols]\n",
    "   \n",
    "    if plot:\n",
    "        plot = px.line(df_temp, x='YY-MM-DD HH:00', y=temperature_cols,\n",
    "                       height=figsize[0], width=figsize[1], log_x=log[0], log_y=log[1], zeroline=True)\n",
    "        if save_path:\n",
    "            plot.write_html(save_path)\n",
    "        plot.show()\n",
    "    return df_temp"
   ]
  },
  {
   "cell_type": "markdown",
   "metadata": {},
   "source": [
    "# EDA"
   ]
  },
  {
   "cell_type": "markdown",
   "metadata": {},
   "source": [
    "## Первичный анализ"
   ]
  },
  {
   "cell_type": "markdown",
   "metadata": {},
   "source": [
    "- Парсинг временны'х признаков\n",
    "- Добавление смещения значений по добыче воды за 2 часа\n",
    "- Фильтрация времени, оставляя ручные измерения (8 утра/вечера)"
   ]
  },
  {
   "cell_type": "code",
   "execution_count": null,
   "metadata": {},
   "outputs": [],
   "source": [
    "df_original.head(3)"
   ]
  },
  {
   "cell_type": "markdown",
   "metadata": {},
   "source": [
    "- shape=(4334, 59)\n",
    "- Columns=['Год', 'Месяц', 'День', 'Час', 'Блок манифольда|P бм  |кгс/см²',\n",
    "       'Блок манифольда|t жидкости| °С', 'С-1|P сеп. |кгс/см²',\n",
    "       'С-1|t жидкости |°С', 'С-1|L жидкости| см', 'С-2/1|P сеп. |кгс/см²',\n",
    "       'С-2/1|t жидкости|°С', 'С-2/1|L межфазный|см', 'С-2/1|L нефти|см',\n",
    "       'С-2/2|P сеп. |кгс/см²', 'С-2/2|t жидкости|°С', 'С-2/2|L межфазный|см',\n",
    "       'С-2/2|L нефти|см', 'ОН-1/1|P отс. |кгс/см²', 'ОН-1/1|t жидкости|°С',\n",
    "       'ОН-1/1|L межфазный|см', 'ОН-1/2|P отс. |кгс/см²',\n",
    "       'ОН-1/2|t жидкости|°С', 'ОН-1/2|L  межфазный|см', 'С-3|t жидкости|°С',\n",
    "       'С-3|L нефти|см', 'П-1|Т нефти на входе|°С', 'П-1|Т нефти на выходе|°С',\n",
    "       'П-1|Р нефти на входе|кгс/см²', 'П-1|Р нефти на выходе|кгс/см²',\n",
    "       'П-1|Т теплоно-сителя|°С', 'П-1|Т дымовых газов|°С',\n",
    "       'П-1|Р на горелку|кгс/см2', 'П-2|Т нефти на входе|°С',\n",
    "       'П-2|Т нефти на выходе|°С', 'П-2|Р нефти на входе|кгс/см²',\n",
    "       'П-2|Р нефти на выходе|кгс/см²', 'П-2|Т теплоно-сителя|°С',\n",
    "       'П-2|Т дымовых газов|°С', 'П-2|Р на горелку|кгс/см3',\n",
    "       'П-3|Т нефти на входе|°С', 'П-3|Т нефти на выходе|°С',\n",
    "       'П-3|Р нефти на входе|кгс/см²', 'П-3|Р нефти на выходе|кгс/см²',\n",
    "       'П-3|Т теплоно-сителя|°С', 'П-3|Т дымовых газов|°С',\n",
    "       'П-3|Р на горелку|кгс/см4', 'БЕВ-1|L воды|см', 'БЕВ-1|V  воды|м3',\n",
    "       'БЕВ-1|V нефти|м3', 'БЕВ-1|t воды|°С', 'БЕВ-2|L воды|см',\n",
    "       'БЕВ-2|V  воды|м3', 'БЕВ-2|V нефти|м3', 'БЕВ-2|t воды|°С',\n",
    "       'БЕВ-3|L воды|см', 'БЕВ-3|V  воды|м3', 'БЕВ-3|V нефти|м3',\n",
    "       'БЕВ-3|t воды|°С', 'Вода с лагом (-1)']\n",
    "- float64(22), int32(4), int64(33)\n",
    "- Null значений нету"
   ]
  },
  {
   "cell_type": "code",
   "execution_count": null,
   "metadata": {},
   "outputs": [],
   "source": [
    "df_prep = pd.read_csv(f'filled_outliers_lag{lag}.csv')\n",
    "profile = ProfileReport(df_prep, title=\"Profiling Report\")\n",
    "profile.to_file(output_file='report.html')"
   ]
  },
  {
   "cell_type": "markdown",
   "metadata": {},
   "source": [
    "## Анализ нулевых значений"
   ]
  },
  {
   "cell_type": "code",
   "execution_count": null,
   "metadata": {},
   "outputs": [],
   "source": [
    "zero_columns = {column: (df[column]==0).sum()/df[column].count() * 100 \n",
    "                for column \n",
    "                in df.columns\n",
    "                if (df[column]==0).sum()!=0}\n",
    "\n",
    "zero_columns = dict(sorted(zero_columns.items(), \n",
    "                           key=lambda item: item[1], \n",
    "                           reverse=True))\n",
    "print(*[f'{idx:2}.  {zero_percent:5.2f}: {column}' for idx, (column, zero_percent) in enumerate(zero_columns.items())], \n",
    "        sep='\\n')"
   ]
  },
  {
   "cell_type": "markdown",
   "metadata": {},
   "source": [
    "Уберем из списка нулевых столбцов те, у которых меньше 1% нулей"
   ]
  },
  {
   "cell_type": "code",
   "execution_count": null,
   "metadata": {},
   "outputs": [],
   "source": [
    "zero_columns = slice(zero_columns, stop=20)"
   ]
  },
  {
   "cell_type": "markdown",
   "metadata": {},
   "source": [
    "\n",
    "Alarm:\n",
    "\n",
    " 0.  100.00: БЕВ-2|V нефти|м3\n",
    " 1.  100.00: БЕВ-3|V нефти|м3\n",
    " 2.  95.34: БЕВ-1|V нефти|м3\n",
    " 3.  80.94: БЕВ-1|t воды|°С\n",
    " 4.  80.94: БЕВ-2|t воды|°С\n",
    " 5.  80.94: БЕВ-3|t воды|°С\n",
    " 6.  44.23: П-1|Т нефти на входе|°С\n",
    " 7.  44.23: П-1|Т нефти на выходе|°С\n",
    " 8.  44.23: П-1|Р нефти на входе|кгс/см²\n",
    " 9.  44.23: П-1|Р нефти на выходе|кгс/см²\n",
    "10.  44.23: П-1|Т теплоно-сителя|°С\n",
    "11.  44.23: П-1|Т дымовых газов|°С\n",
    "12.  44.23: П-1|Р на горелку|кгс/см2"
   ]
  },
  {
   "cell_type": "code",
   "execution_count": null,
   "metadata": {},
   "outputs": [],
   "source": [
    "bevs = list(slice(zero_columns, stop=6).keys())\n",
    "hist(df, bevs, 3, 2, figsize=(800,1500))"
   ]
  },
  {
   "cell_type": "markdown",
   "metadata": {},
   "source": [
    "- В БЕВ'ав слишком много нулевых значений => их больше не учитываем"
   ]
  },
  {
   "cell_type": "code",
   "execution_count": null,
   "metadata": {},
   "outputs": [],
   "source": [
    "df.drop(columns=bevs, inplace=True)\n",
    "zero_columns = slice(zero_columns, start=6)\n",
    "zero_columns"
   ]
  },
  {
   "cell_type": "code",
   "execution_count": null,
   "metadata": {},
   "outputs": [],
   "source": [
    "p_1 = list(slice(zero_columns, stop=7).keys())\n",
    "ind_hists(df, p_1, marginal='box', nbins=200, log=(False,True))"
   ]
  },
  {
   "cell_type": "markdown",
   "metadata": {},
   "source": [
    "> Выбросы в: \n",
    "> - \"П-1|Р нефти на выходе|кгс/см²\" (43.1, count=1)\n",
    "> - \"П-1|Р на горелку|кгс/см2': 44.23165666820489\" (300, count=1)\n",
    "\n",
    "> Удаляем..."
   ]
  },
  {
   "cell_type": "code",
   "execution_count": null,
   "metadata": {},
   "outputs": [],
   "source": [
    "df = del_right_outliers(df, 'П-1|Р нефти на выходе|кгс/см²', .999)\n",
    "df = del_right_outliers(df, 'П-1|Р на горелку|кгс/см2', .9991)"
   ]
  },
  {
   "cell_type": "markdown",
   "metadata": {},
   "source": [
    "\n",
    "> Снова смотрим на распределения"
   ]
  },
  {
   "cell_type": "code",
   "execution_count": null,
   "metadata": {},
   "outputs": [],
   "source": [
    "ind_hists(df, p_1, marginal='box', nbins=200, log=(False,True))"
   ]
  },
  {
   "cell_type": "markdown",
   "metadata": {},
   "source": [
    "> Стало немного лучше"
   ]
  },
  {
   "cell_type": "code",
   "execution_count": null,
   "metadata": {},
   "outputs": [],
   "source": [
    "df.shape, df_original.shape"
   ]
  },
  {
   "cell_type": "markdown",
   "metadata": {},
   "source": [
    "> Однако, в первой печке тоже много значений по нулям\n",
    "- Посмотрим, сколько строк имеют большое кол-во нулей"
   ]
  },
  {
   "cell_type": "code",
   "execution_count": null,
   "metadata": {},
   "outputs": [],
   "source": [
    "threshold = 7\n",
    "df_much_zeros, df_without_zeros = split_by_zeros(df, zero_columns, threshold)\n",
    "print(f\"Датасет содержащий строки с кол-во нулей в столбцах < {threshold}: shape=({df_without_zeros.shape})\")\n",
    "print(f\"Датасет содержащий строки с кол-вом нулей в столбцах >= {threshold}: shape=({df_much_zeros.shape})\")"
   ]
  },
  {
   "cell_type": "code",
   "execution_count": null,
   "metadata": {},
   "outputs": [],
   "source": [
    "\n",
    "DATA = './data'\n",
    "df = Dataset(os.path.join(DATA, 'processed.xlsx'))\n",
    "df.parse_datetime()\n",
    "\n",
    "df.set_lag(lag=-1)\n",
    "df.set_lag(lag=1)\n",
    "\n",
    "\n",
    "cols_for_delete = [\n",
    "    \n",
    "       # оставляем пока что П-_|Т нефти на входе|°С\n",
    "       #  'П-1|Т нефти на входе|°С',\n",
    "       #  'П-2|Т нефти на входе|°С',\n",
    "       #  'П-3|Т нефти на входе|°С',\n",
    "       # median аггрегация => П-123median|Т нефти на выходе|°С\n",
    "       #  'П-1|Т нефти на выходе|°С',\n",
    "       #  'П-2|Т нефти на выходе|°С',\n",
    "       #  'П-3|Т нефти на выходе|°С',\n",
    "       # max аггрегация => П-123max|Р нефти на входе|кгс/см²\n",
    "       #  'П-1|Р нефти на входе|кгс/см²',\n",
    "       #  'П-2|Р нефти на входе|кгс/см²',\n",
    "       #  'П-3|Р нефти на входе|кгс/см²',\n",
    "       # max аггрегация => П-123max|Р нефти на выходе|кгс/см²\n",
    "       #  'П-1|Р нефти на выходе|кгс/см²',\n",
    "       #  'П-2|Р нефти на выходе|кгс/см²',\n",
    "       #  'П-3|Р нефти на выходе|кгс/см²',\n",
    "       # константные значения\n",
    "       #  'П-1|Р на горелку|кгс/см2',\n",
    "       #  'П-2|Р на горелку|кгс/см3',\n",
    "       #  'П-3|Р на горелку|кгс/см4',\n",
    "       # БЕВ'ы \n",
    "       'БЕВ-1|L воды|см', 'БЕВ-1|V  воды|м3',\n",
    "       'БЕВ-1|V нефти|м3', 'БЕВ-1|t воды|°С', 'БЕВ-2|L воды|см',\n",
    "       'БЕВ-2|V  воды|м3', 'БЕВ-2|V нефти|м3', 'БЕВ-2|t воды|°С',\n",
    "       'БЕВ-3|L воды|см', 'БЕВ-3|V  воды|м3', 'БЕВ-3|V нефти|м3',\n",
    "       'БЕВ-3|t воды|°С',\n",
    "       ]\n",
    "\n",
    "print(df.df.columns)\n",
    "\n",
    "df.df.drop(cols_for_delete, axis=1, inplace=True)\n",
    "\n",
    "columns = df.df.columns[4:]\n",
    "quantiles = [[0.001, 0.999]]*len(columns)\n",
    "threshold = [[3]]*len(columns)\n",
    "df.recovery_outliers(columns, quantiles=quantiles, threshold=threshold)"
   ]
  },
  {
   "cell_type": "markdown",
   "metadata": {},
   "source": [
    "## Обработка выбросов"
   ]
  },
  {
   "cell_type": "code",
   "execution_count": null,
   "metadata": {},
   "outputs": [],
   "source": [
    "def preprocess(lag, cols_for_delete, outliers=True, insert=True):\n",
    "    df_original, df = load_dataset('processed.xlsx', dropna=True, lag=lag)\n",
    "    df['Год'] = 2021\n",
    "    print(f\"Удаление неинформативных признаков: \\n{cols_for_delete}\")\n",
    "    df = df.drop(cols_for_delete,axis=1)\n",
    "\n",
    "    # Восстановление значений\n",
    "    if outliers:\n",
    "        columns = df.columns[4:]\n",
    "        quantiles = [[0.001, 0.999]]*len(columns)\n",
    "        df = fill_outliers(df, columns, quantiles=quantiles, insert=insert)\n",
    "\n",
    "    df.insert(0, 'YY-MM-DD HH:00', df[['Год', 'Месяц','День','Час']].apply(\n",
    "        lambda x: f'{x[0]:04}-{x[1]:02}-{x[2]:02} {x[3]:02}:00', \n",
    "        axis = 1)) \n",
    "    df = df.sort_values('YY-MM-DD HH:00')\n",
    "    df.to_csv(f'filled_outliers_lag{lag}.csv', index=False)\n",
    "    return df\n",
    "\n"
   ]
  },
  {
   "cell_type": "code",
   "execution_count": null,
   "metadata": {},
   "outputs": [],
   "source": [
    "lag=-1\n",
    "df = preprocess(lag, cols_for_delete, False, False)\n",
    "\n",
    "\n",
    "pechki = [col for col in df if 'Р нефти на выходе' in col]\n",
    "df['П-123max|Р нефти на выходе|кгс/см²'] = df[pechki].max(axis=1)\n",
    "pechki = [col for col in df if 'Р нефти на входе' in col]\n",
    "df['П-123max|Р нефти на входе|кгс/см²'] = df[pechki].max(axis=1)\n",
    "pechki = [col for col in df if 'Т нефти на выходе' in col]\n",
    "df['П-123median|Т нефти на выходе|кгс/см²'] = df[pechki].median(axis=1)\n",
    "pechki = [col for col in df if 'Т теплоно-сителя' in col]\n",
    "df['П-123median|Т теплоно-сителя|кгс/см²'] = df[pechki].median(axis=1)\n",
    "\n",
    "columns = df.columns[5:]\n",
    "quantiles = [[0.001, 0.999]]*len(columns)\n",
    "df = fill_outliers(df, columns, quantiles=quantiles, insert=True)\n"
   ]
  },
  {
   "cell_type": "code",
   "execution_count": null,
   "metadata": {},
   "outputs": [],
   "source": [
    "outlier_columns = [col for col in df if 'outlier' in col]\n",
    "outlier_columns.append('Вода с лагом (-1)')\n",
    "\n",
    "\n",
    "orig_columns = [col for col in df if col not in outlier_columns]\n",
    "orig_columns.append('Вода с лагом (-1)')\n",
    "orig_columns.remove('YY-MM-DD HH:00')\n",
    "\n",
    "pechki_columns = [col for col in df if 'П' in col]\n",
    "pechki_columns.append('Вода с лагом (-1)')\n"
   ]
  },
  {
   "cell_type": "markdown",
   "metadata": {},
   "source": [
    "### Scatter matrixes"
   ]
  },
  {
   "cell_type": "code",
   "execution_count": null,
   "metadata": {},
   "outputs": [],
   "source": [
    "for i in range(0, len(outlier_columns), 10):\n",
    "    fig = px.scatter_matrix(df[outlier_columns[i: i+11]], height=4000, width=4000)\n",
    "    fig.update_traces(diagonal_visible=False, showlowerhalf=False)\n",
    "    fig.write_html(f'ебейшая_scatter_matrix{i}.html')"
   ]
  },
  {
   "cell_type": "code",
   "execution_count": null,
   "metadata": {},
   "outputs": [],
   "source": [
    "px.scatter_matrix(df[orig_columns])"
   ]
  },
  {
   "cell_type": "code",
   "execution_count": null,
   "metadata": {},
   "outputs": [],
   "source": [
    "px.scatter_matrix(df[pechki_columns])"
   ]
  },
  {
   "cell_type": "markdown",
   "metadata": {},
   "source": [
    "### Correlation matrixes"
   ]
  },
  {
   "cell_type": "code",
   "execution_count": null,
   "metadata": {},
   "outputs": [],
   "source": [
    "def show_corr_matrix(df, columns, method='pearson', filename='Default'):\n",
    "    sns_colormap = [[0.0, '#3f7f93'],\n",
    "                    [0.1, '#6397a7'],\n",
    "                    [0.2, '#88b1bd'],\n",
    "                    [0.3, '#acc9d2'],\n",
    "                    [0.4, '#d1e2e7'],\n",
    "                    [0.5, '#f2f2f2'],\n",
    "                    [0.6, '#f6cdd0'],\n",
    "                    [0.7, '#efa8ad'],\n",
    "                    [0.8, '#e8848b'],\n",
    "                    [0.9, '#e15e68'],\n",
    "                    [1.0, '#da3b46']]\n",
    "\n",
    "    corr = df[columns].corr(method)\n",
    "    fig = px.imshow(corr, text_auto=True, height=2000, width=2000,  color_continuous_scale=sns_colormap)\n",
    "    fig.update_traces(textfont_size=10,  texttemplate = \"%{z:.2f}\")\n",
    "    fig.write_html(f'{filename}.html')"
   ]
  },
  {
   "cell_type": "code",
   "execution_count": null,
   "metadata": {},
   "outputs": [],
   "source": [
    "show_corr_matrix(df, outlier_columns, filename='corr_matrix_with_filled_outliers')\n",
    "show_corr_matrix(df, orig_columns, filename='corr_matrix_with_orig_columns')\n"
   ]
  },
  {
   "cell_type": "code",
   "execution_count": null,
   "metadata": {},
   "outputs": [],
   "source": [
    "corr = df[orig_columns].corr()\n",
    "px.imshow(corr, text_auto=True, height=1500)"
   ]
  },
  {
   "cell_type": "code",
   "execution_count": null,
   "metadata": {},
   "outputs": [],
   "source": [
    "corr = df[pechki_columns].corr()\n",
    "px.imshow(corr, text_auto=True, height=1500)"
   ]
  },
  {
   "cell_type": "markdown",
   "metadata": {},
   "source": [
    "##  Проверка колебаний аналогичных показателей во времени"
   ]
  },
  {
   "cell_type": "code",
   "execution_count": null,
   "metadata": {},
   "outputs": [],
   "source": [
    "pechki = [col for col in df if 'П' in col]\n",
    "pechki.append('Добыча воды за 2 ч |м3')\n",
    "\n",
    "# pechki = ['Добыча воды за 2 ч |м3']\n",
    "pechki"
   ]
  },
  {
   "cell_type": "code",
   "execution_count": null,
   "metadata": {},
   "outputs": [],
   "source": [
    "np.polyfit(df['Добыча воды за 2 ч |м3'], df.index, 3)"
   ]
  },
  {
   "cell_type": "code",
   "execution_count": null,
   "metadata": {},
   "outputs": [],
   "source": [
    "px.line(df, x='YY-MM-DD HH:00', y=pechki, height=1000, width=2000)\n"
   ]
  },
  {
   "cell_type": "markdown",
   "metadata": {},
   "source": [
    "### Температуры"
   ]
  },
  {
   "cell_type": "code",
   "execution_count": null,
   "metadata": {},
   "outputs": [],
   "source": [
    "create_melt(df, \n",
    "            \n",
    "            plot=True,\n",
    "            log=(False,False),\n",
    "            save_path=f'all_lag{lag}.html'\n",
    "            )[:25]"
   ]
  },
  {
   "cell_type": "code",
   "execution_count": null,
   "metadata": {},
   "outputs": [],
   "source": [
    "create_melt(df, '°С', 'Температура', \n",
    "            appendix_cols=[f'Вода с лагом ({lag})'],\n",
    "            plot=True,\n",
    "            log=(False,True),\n",
    "            save_path=f'temperature_time_series_without_outliers_lag{lag}.html'\n",
    "            )[:25]"
   ]
  },
  {
   "cell_type": "markdown",
   "metadata": {},
   "source": [
    "### Давления"
   ]
  },
  {
   "cell_type": "code",
   "execution_count": null,
   "metadata": {},
   "outputs": [],
   "source": [
    "create_melt(df, 'кгс/см', 'Давление',\n",
    "            plot=True,\n",
    "            log=(False,True),\n",
    "            save_path=f'pressure_time_series_without_outliers_lag{lag}.html')"
   ]
  },
  {
   "cell_type": "markdown",
   "metadata": {},
   "source": [
    "- \"П-3|Р на горелку|кгс/см4\", \"П-2|Р на горелку|кгс/см3\", \"П-1|Р на горелку|кгс/см2\" пересекаются"
   ]
  },
  {
   "cell_type": "markdown",
   "metadata": {},
   "source": [
    "### Уровни"
   ]
  },
  {
   "cell_type": "code",
   "execution_count": null,
   "metadata": {},
   "outputs": [],
   "source": [
    "create_melt(df, 'см', 'Уровень', \n",
    "            log=(False,True),\n",
    "            save_path=f'level_time_series_without_outliers_lag{lag}.html')"
   ]
  }
 ],
 "metadata": {
  "kernelspec": {
   "display_name": "Python 3 (ipykernel)",
   "language": "python",
   "name": "python3"
  },
  "language_info": {
   "codemirror_mode": {
    "name": "ipython",
    "version": 3
   },
   "file_extension": ".py",
   "mimetype": "text/x-python",
   "name": "python",
   "nbconvert_exporter": "python",
   "pygments_lexer": "ipython3",
   "version": "3.10.13"
  }
 },
 "nbformat": 4,
 "nbformat_minor": 2
}
