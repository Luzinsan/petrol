{
 "cells": [
  {
   "cell_type": "code",
   "execution_count": 1,
   "metadata": {},
   "outputs": [
    {
     "name": "stdout",
     "output_type": "stream",
     "text": [
      "/home/prog3/notebooks/petrol\n"
     ]
    },
    {
     "name": "stderr",
     "output_type": "stream",
     "text": [
      "/home/prog3/.cache/pypoetry/virtualenvs/petrol-j8nzVRxz-py3.10/lib/python3.10/site-packages/IPython/core/magics/osm.py:393: UserWarning: This is now an optional IPython functionality, using bookmarks requires you to install the `pickleshare` library.\n",
      "  bkms = self.shell.db.get('bookmarks', {})\n",
      "/home/prog3/.cache/pypoetry/virtualenvs/petrol-j8nzVRxz-py3.10/lib/python3.10/site-packages/IPython/core/magics/osm.py:417: UserWarning: This is now an optional IPython functionality, setting dhist requires you to install the `pickleshare` library.\n",
      "  self.shell.db['dhist'] = compress_dhist(dhist)[-100:]\n"
     ]
    }
   ],
   "source": [
    "import pandas as pd\n",
    "from os.path import join \n",
    "from core.data import Dataset\n",
    "from core.configs import *\n",
    "from core.train import Train\n",
    "import optuna\n",
    "import plotly.express as px\n",
    "import mlflow\n",
    "%cd ~/notebooks/petrol/\n",
    "mlflow.set_tracking_uri('mlruns')"
   ]
  },
  {
   "cell_type": "markdown",
   "metadata": {},
   "source": [
    "# 2022 - 1250"
   ]
  },
  {
   "cell_type": "markdown",
   "metadata": {},
   "source": [
    "## Объединение с влагомером и водой"
   ]
  },
  {
   "cell_type": "code",
   "execution_count": null,
   "metadata": {},
   "outputs": [],
   "source": [
    "df = Dataset(verbose=True)\n",
    "df.load(join(DATA, 'raw', '2022', 'Режимный лист МУИС 2022.xlsx1250_clear.csv'), parse_dates=['Дата'])\n",
    "df.drop(['Unnamed: 0'])\n",
    "\n",
    "df.df.columns = [\n",
    " \"Date\",\"BlockP\",\"BlockT\",\n",
    " \"C1P\",\"C1T\",\"C1L\",\n",
    " \"C2P\",\"C2T\",\"C2interfacial_L\",\"С2petrol_L\",\n",
    "\n",
    " \"OH1T\",\"OH1interfacial_L\",\"OH1P\",\n",
    " \n",
    " \"C3T\",\"C3L\",\n",
    " \"P1Tinput\",\"P1Toutput\",\"P1Pinput\",\"P1Poutput\",\"P1Тcoolant\",\"P1Tgases\",\"P1Рburner\",\n",
    " \"P2Tinput\",\"P2Toutput\",\"P2Pinput\",\"P2Poutput\",\"P2Tcoolant\",\"P2Tgases\",\"P2Pburner\",\n",
    " \"BEV1L\",\"BEV1V_water\",\"BEV1V_petrol\",\"BEV1T_water\"\n",
    "]\n",
    "\n",
    "\n",
    "vlagomer = pd.read_csv(join(DATA, 'raw', '2022', '1250_2022_vlagomer.csv'), parse_dates=['Дата']).drop(columns='Unnamed: 0')\n",
    "vlagomer.columns = ['Date', 'Water_2hours', 'Vlagomer']\n",
    "\n",
    "df.df = df.df.merge(vlagomer)\n",
    "df.save(join(DATA, 'raw', '2022','2022_1250_joined_vlagomer.csv'))\n",
    "df.df"
   ]
  },
  {
   "cell_type": "markdown",
   "metadata": {},
   "source": [
    "## Подготовка к train"
   ]
  },
  {
   "cell_type": "code",
   "execution_count": null,
   "metadata": {},
   "outputs": [],
   "source": [
    "cols_to_drop = ['BEV1L','BEV1V_water', 'BEV1V_petrol', 'BEV1T_water']\n",
    "df_2022 = Dataset(verbose=False)\n",
    "df_2022.load(join(DATA, 'preprocessed', '2022_1250_joined_vlagomer.csv'), parse_dates=['Date'])\n",
    "df_2022.drop(cols_to_drop)\n",
    "df_2022.astype(df_2022.cols[1:], 'float32')\n",
    "df_2022.corr_matrix(df_2022.cols[1:], target='Vlagomer', show=True, height=400, width=1800, title='До скалирования/замены выбросов/minmax скалирования')\n",
    "df_2022.scale(df_2022.cols[1:], method='standard')\n",
    "df_2022.recovery_outliers(df_2022.cols[1:-1], save_interval=[-6,10], insert=False)\n",
    "df_2022.scale(df_2022.cols[1:], method='minmax')\n",
    "\n",
    "\n",
    "df_2022.corr_matrix(df_2022.cols[1:], target='Vlagomer', show=True, height=400, width=1800, title='До скалирования/замены выбросов/minmax скалирования')\n",
    "# df_2022.time_series(df_2022.cols[1:], time_axis='Date', show=True, height=500, width=1750)\n",
    "df_2022.save(join(DATA, 'preprocessed', '2022_1250_scaled.csv'))"
   ]
  },
  {
   "cell_type": "markdown",
   "metadata": {},
   "source": [
    "### LightGBM"
   ]
  },
  {
   "cell_type": "markdown",
   "metadata": {},
   "source": [
    "#### Все признаки:\n",
    "    'BlockP', 'BlockT', 'C1P', 'C1T', 'C1L', 'C2P', 'C2T',\n",
    "    'C2interfacial_L', 'С2petrol_L', 'OH1T', 'OH1interfacial_L', 'OH1P',\n",
    "    'C3T', 'C3L', 'P1Tinput', 'P1Toutput', 'P1Pinput', 'P1Poutput',\n",
    "    'P1Тcoolant', 'P1Tgases', 'P1Рburner', 'P2Tinput', 'P2Toutput',\n",
    "    'P2Pinput', 'P2Poutput', 'P2Tcoolant', 'P2Tgases', 'P2Pburner', 'Water'"
   ]
  },
  {
   "cell_type": "code",
   "execution_count": 4,
   "metadata": {},
   "outputs": [
    {
     "name": "stderr",
     "output_type": "stream",
     "text": [
      "[I 2024-04-25 08:02:15,158] Using an existing study with name 'lightgbm_2022_1250_scaled' instead of creating a new one.\n",
      "/home/prog3/notebooks/petrol/core/train.py:127: ExperimentalWarning:\n",
      "\n",
      "set_metric_names is experimental (supported from v3.2.0). The interface can change in the future.\n",
      "\n",
      "[I 2024-04-25 08:02:18,554] Trial 101 finished with values: {'r2': 0.7871857934374621, 'mae': 0.0558268530648705, 'mse': 0.006074042608847705, 'rmse': 0.07793614443150049} and parameters: {'n_estimators': 100, 'learning_rate': 0.03356523291133961, 'num_leaves': 502, 'subsample': 0.5254917251552156, 'colsample_bytree': 0.5374895199538191, 'min_data_in_leaf': 6}. \n"
     ]
    },
    {
     "name": "stdout",
     "output_type": "stream",
     "text": [
      "dict_values([0.7871857934374621, 0.0558268530648705, 0.006074042608847705, 0.07793614443150049])\n"
     ]
    },
    {
     "name": "stderr",
     "output_type": "stream",
     "text": [
      "[I 2024-04-25 08:02:21,882] Trial 102 finished with values: {'r2': 0.7933605801681662, 'mae': 0.05543586519964213, 'mse': 0.00589780476124977, 'rmse': 0.0767971663621111} and parameters: {'n_estimators': 100, 'learning_rate': 0.02629812504286011, 'num_leaves': 1023, 'subsample': 0.9025525067820881, 'colsample_bytree': 0.5374895199538191, 'min_data_in_leaf': 6}. \n"
     ]
    },
    {
     "name": "stdout",
     "output_type": "stream",
     "text": [
      "dict_values([0.7933605801681662, 0.05543586519964213, 0.00589780476124977, 0.0767971663621111])\n"
     ]
    },
    {
     "name": "stderr",
     "output_type": "stream",
     "text": [
      "[I 2024-04-25 08:02:22,686] Trial 103 finished with values: {'r2': 0.7870955051753254, 'mae': 0.056300329051413106, 'mse': 0.006076619573798286, 'rmse': 0.07795267521899608} and parameters: {'n_estimators': 100, 'learning_rate': 0.05639642448911333, 'num_leaves': 987, 'subsample': 0.656574900394001, 'colsample_bytree': 0.9421683489560035, 'min_data_in_leaf': 23}. \n"
     ]
    },
    {
     "name": "stdout",
     "output_type": "stream",
     "text": [
      "dict_values([0.7870955051753254, 0.056300329051413106, 0.006076619573798286, 0.07795267521899608])\n"
     ]
    },
    {
     "name": "stderr",
     "output_type": "stream",
     "text": [
      "[I 2024-04-25 08:02:23,151] Trial 104 finished with values: {'r2': 0.7611496887879416, 'mae': 0.0601633037282226, 'mse': 0.006817152815464165, 'rmse': 0.0825660512284811} and parameters: {'n_estimators': 100, 'learning_rate': 0.02629812504286011, 'num_leaves': 1023, 'subsample': 0.9025525067820881, 'colsample_bytree': 0.6380012657663859, 'min_data_in_leaf': 67}. \n"
     ]
    },
    {
     "name": "stdout",
     "output_type": "stream",
     "text": [
      "dict_values([0.7611496887879416, 0.0601633037282226, 0.006817152815464165, 0.0825660512284811])\n"
     ]
    },
    {
     "name": "stderr",
     "output_type": "stream",
     "text": [
      "[I 2024-04-25 08:02:27,244] Trial 105 finished with values: {'r2': 0.7927999090059781, 'mae': 0.05547184746525635, 'mse': 0.0059138071728541955, 'rmse': 0.07690128199746865} and parameters: {'n_estimators': 100, 'learning_rate': 0.04668760982188706, 'num_leaves': 522, 'subsample': 0.5555589477212309, 'colsample_bytree': 0.444793714763766, 'min_data_in_leaf': 3}. \n"
     ]
    },
    {
     "name": "stdout",
     "output_type": "stream",
     "text": [
      "dict_values([0.7927999090059781, 0.05547184746525635, 0.0059138071728541955, 0.07690128199746865])\n"
     ]
    },
    {
     "name": "stderr",
     "output_type": "stream",
     "text": [
      "[I 2024-04-25 08:02:27,631] Trial 106 finished with values: {'r2': 0.7626732541456037, 'mae': 0.05964195137003795, 'mse': 0.00677366793233873, 'rmse': 0.08230229603321362} and parameters: {'n_estimators': 100, 'learning_rate': 0.07055455464661076, 'num_leaves': 908, 'subsample': 0.6551136663305113, 'colsample_bytree': 0.25965669589282364, 'min_data_in_leaf': 71}. \n"
     ]
    },
    {
     "name": "stdout",
     "output_type": "stream",
     "text": [
      "dict_values([0.7626732541456037, 0.05964195137003795, 0.00677366793233873, 0.08230229603321362])\n"
     ]
    },
    {
     "name": "stderr",
     "output_type": "stream",
     "text": [
      "[I 2024-04-25 08:02:28,856] Trial 107 finished with values: {'r2': 0.7751913945755826, 'mae': 0.05812957962603559, 'mse': 0.006416381078310558, 'rmse': 0.08010231631051976} and parameters: {'n_estimators': 100, 'learning_rate': 0.07055455464661076, 'num_leaves': 908, 'subsample': 0.41297006797752805, 'colsample_bytree': 0.5760443512275961, 'min_data_in_leaf': 14}. \n"
     ]
    },
    {
     "name": "stdout",
     "output_type": "stream",
     "text": [
      "dict_values([0.7751913945755826, 0.05812957962603559, 0.006416381078310558, 0.08010231631051976])\n"
     ]
    },
    {
     "name": "stderr",
     "output_type": "stream",
     "text": [
      "[I 2024-04-25 08:02:31,217] Trial 108 finished with values: {'r2': 0.7829230439493263, 'mae': 0.056278730106195836, 'mse': 0.006195707992188417, 'rmse': 0.07871281974487013} and parameters: {'n_estimators': 100, 'learning_rate': 0.1233259896988305, 'num_leaves': 212, 'subsample': 0.8634781735264806, 'colsample_bytree': 0.486875238361654, 'min_data_in_leaf': 3}. \n"
     ]
    },
    {
     "name": "stdout",
     "output_type": "stream",
     "text": [
      "dict_values([0.7829230439493263, 0.056278730106195836, 0.006195707992188417, 0.07871281974487013])\n"
     ]
    },
    {
     "name": "stderr",
     "output_type": "stream",
     "text": [
      "[I 2024-04-25 08:02:32,006] Trial 109 finished with values: {'r2': 0.7733278303236137, 'mae': 0.058540363390472874, 'mse': 0.006469570049355394, 'rmse': 0.08043363754894711} and parameters: {'n_estimators': 100, 'learning_rate': 0.08759491036745065, 'num_leaves': 711, 'subsample': 0.4934971082298534, 'colsample_bytree': 0.47108348022349145, 'min_data_in_leaf': 36}. \n"
     ]
    },
    {
     "name": "stdout",
     "output_type": "stream",
     "text": [
      "dict_values([0.7733278303236137, 0.058540363390472874, 0.006469570049355394, 0.08043363754894711])\n"
     ]
    },
    {
     "name": "stderr",
     "output_type": "stream",
     "text": [
      "[I 2024-04-25 08:02:32,929] Trial 110 finished with values: {'r2': 0.7510625980474979, 'mae': 0.0630272898540198, 'mse': 0.007105053797012425, 'rmse': 0.08429148116513568} and parameters: {'n_estimators': 100, 'learning_rate': 0.1065800879858858, 'num_leaves': 807, 'subsample': 0.12769548437508427, 'colsample_bytree': 0.9400015606339096, 'min_data_in_leaf': 6}. \n"
     ]
    },
    {
     "name": "stdout",
     "output_type": "stream",
     "text": [
      "dict_values([0.7510625980474979, 0.0630272898540198, 0.007105053797012425, 0.08429148116513568])\n"
     ]
    }
   ],
   "source": [
    "df_2022 = Dataset(verbose=False)\n",
    "df_2022.load(join(DATA, 'preprocessed', '2022_1250_scaled.csv'), parse_dates=['Date'])\n",
    "\n",
    "train = Train(df_2022, test_size=0.2)\n",
    "train.optimize('lightgbm_2022_1250_scaled', 100) # дашборд запускается $ optuna-dashboard sqlite:///db.sqlite3\n",
    "# train.try_all_trials(100)\n",
    "train.train_with_trial(train.best_trials[0], 1000)\n",
    "# train.plot_preds()"
   ]
  },
  {
   "cell_type": "markdown",
   "metadata": {},
   "source": [
    "#### Признаки: \n",
    "       'BlockP', 'BlockT', 'C1P', 'C1T', 'C1L', 'P1Tinput',\n",
    "       'P1Toutput', 'P1Pinput', 'P1Poutput', 'P1Тcoolant', 'P1Tgases',\n",
    "       'P1Рburner', 'P2Tinput', 'P2Toutput', 'P2Pinput', 'P2Poutput',\n",
    "       'P2Tcoolant', 'P2Tgases', 'P2Pburner'"
   ]
  },
  {
   "cell_type": "code",
   "execution_count": 9,
   "metadata": {},
   "outputs": [],
   "source": [
    "df_2022.drop(['C2P', 'C2T',\n",
    "       'C2interfacial_L', 'С2petrol_L', 'OH1T', 'OH1interfacial_L', 'OH1P',\n",
    "       'C3T', 'C3L','Water'])"
   ]
  },
  {
   "cell_type": "code",
   "execution_count": 10,
   "metadata": {},
   "outputs": [
    {
     "name": "stderr",
     "output_type": "stream",
     "text": [
      "[I 2024-04-23 09:31:39,214] A new study created in RDB with name: lightgbm_2022_1250_scaled_до_печек_вкл\n",
      "/home/prog3/notebooks/petrol/core/train.py:139: ExperimentalWarning:\n",
      "\n",
      "set_metric_names is experimental (supported from v3.2.0). The interface can change in the future.\n",
      "\n",
      "[I 2024-04-23 09:31:39,720] Trial 0 finished with values: {'r2': 0.5263752008973497, 'mae': 0.09304645184303412, 'mse': 0.01351797540598422, 'rmse': 0.1162668284851024} and parameters: {'n_estimators': 100, 'learning_rate': 0.017239698233396755, 'num_leaves': 990, 'subsample': 0.7215340434373471, 'colsample_bytree': 0.12408605099935613, 'min_data_in_leaf': 95}. \n",
      "[I 2024-04-23 09:31:40,354] Trial 1 finished with values: {'r2': 0.7454703316850633, 'mae': 0.06285517705407244, 'mse': 0.007264665623281511, 'rmse': 0.08523300782725851} and parameters: {'n_estimators': 100, 'learning_rate': 0.07439305374435556, 'num_leaves': 476, 'subsample': 0.531346877504441, 'colsample_bytree': 0.7375066738524098, 'min_data_in_leaf': 57}. \n",
      "[I 2024-04-23 09:31:40,854] Trial 2 finished with values: {'r2': 0.6211330509470274, 'mae': 0.0820568169682763, 'mse': 0.010813441587395332, 'rmse': 0.10398769921195167} and parameters: {'n_estimators': 100, 'learning_rate': 0.05561649579539803, 'num_leaves': 772, 'subsample': 0.9890431577424993, 'colsample_bytree': 0.07327664059245542, 'min_data_in_leaf': 50}. \n",
      "[I 2024-04-23 09:31:41,683] Trial 3 finished with values: {'r2': 0.7153196703599431, 'mae': 0.06722374764522453, 'mse': 0.008125211563948772, 'rmse': 0.09013995542459943} and parameters: {'n_estimators': 100, 'learning_rate': 0.12450730712425746, 'num_leaves': 572, 'subsample': 0.21975589083027103, 'colsample_bytree': 0.28524964697034294, 'min_data_in_leaf': 46}. \n",
      "[I 2024-04-23 09:31:42,527] Trial 4 finished with values: {'r2': 0.7287182746878793, 'mae': 0.06547490762793093, 'mse': 0.007742794925033929, 'rmse': 0.08799315271675365} and parameters: {'n_estimators': 100, 'learning_rate': 0.18566360727239903, 'num_leaves': 74, 'subsample': 0.2971726014285498, 'colsample_bytree': 0.4995029421044807, 'min_data_in_leaf': 62}. \n",
      "[I 2024-04-23 09:31:43,395] Trial 5 finished with values: {'r2': 0.6998510671073432, 'mae': 0.0690320103829279, 'mse': 0.008566709134873585, 'rmse': 0.09255651859741476} and parameters: {'n_estimators': 100, 'learning_rate': 0.054913440940252356, 'num_leaves': 623, 'subsample': 0.9921673484019066, 'colsample_bytree': 0.12048638469938816, 'min_data_in_leaf': 25}. \n",
      "[I 2024-04-23 09:31:43,742] Trial 6 finished with values: {'r2': 0.667605797734709, 'mae': 0.0759346078689179, 'mse': 0.009487038389516636, 'rmse': 0.0974014290938107} and parameters: {'n_estimators': 100, 'learning_rate': 0.016360908900277374, 'num_leaves': 293, 'subsample': 0.5644557888777094, 'colsample_bytree': 0.29100946862888344, 'min_data_in_leaf': 70}. \n",
      "[I 2024-04-23 09:31:44,523] Trial 7 finished with values: {'r2': 0.6207890957882617, 'mae': 0.08157101173054367, 'mse': 0.010823258593147074, 'rmse': 0.10403489122956333} and parameters: {'n_estimators': 100, 'learning_rate': 0.01068833974331917, 'num_leaves': 825, 'subsample': 0.25315755483534264, 'colsample_bytree': 0.5002044442170636, 'min_data_in_leaf': 16}. \n",
      "[I 2024-04-23 09:31:44,890] Trial 8 finished with values: {'r2': 0.6936623474156377, 'mae': 0.07128795696687719, 'mse': 0.008743344650466328, 'rmse': 0.09350585356257825} and parameters: {'n_estimators': 100, 'learning_rate': 0.026434784549147536, 'num_leaves': 632, 'subsample': 0.9078311715364459, 'colsample_bytree': 0.19228396836097872, 'min_data_in_leaf': 90}. \n",
      "[I 2024-04-23 09:31:45,561] Trial 9 finished with values: {'r2': 0.732004508421661, 'mae': 0.06462051218459515, 'mse': 0.007649000793316706, 'rmse': 0.08745856615173099} and parameters: {'n_estimators': 100, 'learning_rate': 0.05792394378301589, 'num_leaves': 955, 'subsample': 0.2187366901966859, 'colsample_bytree': 0.5031778849187455, 'min_data_in_leaf': 21}. \n",
      "[I 2024-04-23 09:31:45,875] Trial 10 finished with values: {'r2': 0.6380491648407024, 'mae': 0.07977320192702746, 'mse': 0.010330629851158598, 'rmse': 0.10163970607571923} and parameters: {'n_estimators': 100, 'learning_rate': 0.01820894405686288, 'num_leaves': 563, 'subsample': 0.661284128976326, 'colsample_bytree': 0.26146691125880633, 'min_data_in_leaf': 100}. \n",
      "[I 2024-04-23 09:31:46,256] Trial 11 finished with values: {'r2': 0.7460511249728949, 'mae': 0.06256097010774553, 'mse': 0.007248088895467122, 'rmse': 0.08513570869774399} and parameters: {'n_estimators': 100, 'learning_rate': 0.15231863385538089, 'num_leaves': 21, 'subsample': 0.855467469011043, 'colsample_bytree': 0.7848707775374958, 'min_data_in_leaf': 74}. \n",
      "[I 2024-04-23 09:31:46,637] Trial 12 finished with values: {'r2': 0.7482889244018067, 'mae': 0.06267790467740347, 'mse': 0.007184218680687684, 'rmse': 0.08475977041431675} and parameters: {'n_estimators': 100, 'learning_rate': 0.04941264178862434, 'num_leaves': 547, 'subsample': 0.8078173467569105, 'colsample_bytree': 0.9155390750926717, 'min_data_in_leaf': 88}. \n",
      "[I 2024-04-23 09:31:47,238] Trial 13 finished with values: {'r2': 0.7217049746578016, 'mae': 0.06658461669443233, 'mse': 0.007942965223339676, 'rmse': 0.08912331470125916} and parameters: {'n_estimators': 100, 'learning_rate': 0.07212287520311574, 'num_leaves': 228, 'subsample': 0.40927730666341805, 'colsample_bytree': 0.27989556574631663, 'min_data_in_leaf': 62}. \n",
      "[I 2024-04-23 09:31:48,160] Trial 14 finished with values: {'r2': 0.742914712226469, 'mae': 0.062494387066248186, 'mse': 0.007337606907297436, 'rmse': 0.0856598325196672} and parameters: {'n_estimators': 100, 'learning_rate': 0.10081039628943503, 'num_leaves': 766, 'subsample': 0.5013464106407267, 'colsample_bytree': 0.4367283518310256, 'min_data_in_leaf': 14}. \n",
      "[I 2024-04-23 09:31:48,651] Trial 15 finished with values: {'r2': 0.5206203882337663, 'mae': 0.09398579132060662, 'mse': 0.013682226552038558, 'rmse': 0.11697105005957054} and parameters: {'n_estimators': 100, 'learning_rate': 0.021656450734683107, 'num_leaves': 163, 'subsample': 0.2041693153256401, 'colsample_bytree': 0.14164344954574543, 'min_data_in_leaf': 77}. \n",
      "[I 2024-04-23 09:31:49,129] Trial 16 finished with values: {'r2': 0.6690203185758865, 'mae': 0.07554155435787233, 'mse': 0.009446665803498084, 'rmse': 0.0971939597068567} and parameters: {'n_estimators': 100, 'learning_rate': 0.013782232478486221, 'num_leaves': 781, 'subsample': 0.6746585762055879, 'colsample_bytree': 0.9769136852452087, 'min_data_in_leaf': 77}. \n",
      "[I 2024-04-23 09:31:49,707] Trial 17 finished with values: {'r2': 0.6339381159851176, 'mae': 0.08011616774242683, 'mse': 0.010447965466666664, 'rmse': 0.10221528978908519} and parameters: {'n_estimators': 100, 'learning_rate': 0.054484745968781174, 'num_leaves': 358, 'subsample': 0.17906817277931103, 'colsample_bytree': 0.1818424030075581, 'min_data_in_leaf': 65}. \n",
      "[I 2024-04-23 09:31:50,245] Trial 18 finished with values: {'r2': 0.304390042948532, 'mae': 0.11598816947461428, 'mse': 0.019853770979465727, 'rmse': 0.14090341010587973} and parameters: {'n_estimators': 100, 'learning_rate': 0.01653687911592345, 'num_leaves': 698, 'subsample': 0.05122317923643727, 'colsample_bytree': 0.5502946838923453, 'min_data_in_leaf': 50}. \n",
      "[I 2024-04-23 09:31:51,026] Trial 19 finished with values: {'r2': 0.640669624834971, 'mae': 0.07865719791328099, 'mse': 0.010255837919186276, 'rmse': 0.10127111098031005} and parameters: {'n_estimators': 100, 'learning_rate': 0.01694342262467151, 'num_leaves': 271, 'subsample': 0.07352658624587438, 'colsample_bytree': 0.28860920520922184, 'min_data_in_leaf': 5}. \n",
      "[I 2024-04-23 09:31:51,610] Trial 20 finished with values: {'r2': 0.6443302621686415, 'mae': 0.07908130355320239, 'mse': 0.010151357736686248, 'rmse': 0.100753946506756} and parameters: {'n_estimators': 100, 'learning_rate': 0.014472788633029946, 'num_leaves': 931, 'subsample': 0.41975205182125935, 'colsample_bytree': 0.8648858439419754, 'min_data_in_leaf': 79}. \n",
      "[I 2024-04-23 09:31:52,072] Trial 21 finished with values: {'r2': 0.755103027459755, 'mae': 0.061441805844913946, 'mse': 0.0069897337683146234, 'rmse': 0.0836046276728425} and parameters: {'n_estimators': 100, 'learning_rate': 0.04617973496233635, 'num_leaves': 852, 'subsample': 0.8894701972373843, 'colsample_bytree': 0.9610123406559611, 'min_data_in_leaf': 71}. \n",
      "[I 2024-04-23 09:31:52,469] Trial 22 finished with values: {'r2': 0.7481728841149633, 'mae': 0.06260528459088639, 'mse': 0.007187530647769274, 'rmse': 0.08477930553955532} and parameters: {'n_estimators': 100, 'learning_rate': 0.05619217872549847, 'num_leaves': 191, 'subsample': 0.963652770403464, 'colsample_bytree': 0.7940362711732928, 'min_data_in_leaf': 95}. \n",
      "[I 2024-04-23 09:31:52,986] Trial 23 finished with values: {'r2': 0.704270893888221, 'mae': 0.06939289303063485, 'mse': 0.008440560525603519, 'rmse': 0.09187252323520628} and parameters: {'n_estimators': 100, 'learning_rate': 0.0847772413089708, 'num_leaves': 84, 'subsample': 0.051500944897675205, 'colsample_bytree': 0.9953560581047851, 'min_data_in_leaf': 14}. \n",
      "[I 2024-04-23 09:31:53,194] Trial 24 finished with values: {'r2': 0.6004352874215501, 'mae': 0.08623159104104018, 'mse': 0.011404187382012479, 'rmse': 0.1067903899328609} and parameters: {'n_estimators': 100, 'learning_rate': 0.02241563180318152, 'num_leaves': 4, 'subsample': 0.5674585565752516, 'colsample_bytree': 0.9811863307256318, 'min_data_in_leaf': 91}. \n",
      "[I 2024-04-23 09:31:53,666] Trial 25 finished with values: {'r2': 0.7276879340043787, 'mae': 0.065934863597639, 'mse': 0.007772202422373032, 'rmse': 0.08816009540814389} and parameters: {'n_estimators': 100, 'learning_rate': 0.02671550916862774, 'num_leaves': 987, 'subsample': 0.5583852466994699, 'colsample_bytree': 0.38633073573302157, 'min_data_in_leaf': 40}. \n",
      "[I 2024-04-23 09:31:54,076] Trial 26 finished with values: {'r2': 0.7404850162095948, 'mae': 0.0638021940025372, 'mse': 0.007406954143891361, 'rmse': 0.08606366331903006} and parameters: {'n_estimators': 100, 'learning_rate': 0.1419131257725321, 'num_leaves': 111, 'subsample': 0.9214366406737663, 'colsample_bytree': 0.3389335993829948, 'min_data_in_leaf': 82}. \n",
      "[I 2024-04-23 09:31:54,560] Trial 27 finished with values: {'r2': 0.6359124929914677, 'mae': 0.07984577171467981, 'mse': 0.01039161373030373, 'rmse': 0.10193926490957118} and parameters: {'n_estimators': 100, 'learning_rate': 0.010472684331388744, 'num_leaves': 722, 'subsample': 0.5775853454438048, 'colsample_bytree': 0.8307295861111892, 'min_data_in_leaf': 42}. \n",
      "[I 2024-04-23 09:31:55,242] Trial 28 finished with values: {'r2': 0.7335651288775964, 'mae': 0.06520505003099282, 'mse': 0.007604458301070984, 'rmse': 0.08720354523223803} and parameters: {'n_estimators': 100, 'learning_rate': 0.03293547623911413, 'num_leaves': 394, 'subsample': 0.30396580502717335, 'colsample_bytree': 0.5084481513288776, 'min_data_in_leaf': 28}. \n",
      "[I 2024-04-23 09:31:55,796] Trial 29 finished with values: {'r2': 0.633934976259225, 'mae': 0.07979774392218479, 'mse': 0.01044805507924075, 'rmse': 0.10221572814024636} and parameters: {'n_estimators': 100, 'learning_rate': 0.011853911623382013, 'num_leaves': 102, 'subsample': 0.6464827857906502, 'colsample_bytree': 0.3788985461752863, 'min_data_in_leaf': 34}. \n",
      "[I 2024-04-23 09:31:56,155] Trial 30 finished with values: {'r2': 0.547635712688656, 'mae': 0.09088376965099271, 'mse': 0.012911167916051186, 'rmse': 0.11362732028896565} and parameters: {'n_estimators': 100, 'learning_rate': 0.010746391063587752, 'num_leaves': 629, 'subsample': 0.8063692000916158, 'colsample_bytree': 0.19095014414511646, 'min_data_in_leaf': 86}. \n",
      "[I 2024-04-23 09:31:57,454] Trial 31 finished with values: {'r2': 0.7402589894704554, 'mae': 0.06426832679962992, 'mse': 0.007413405292367056, 'rmse': 0.08610113409454638} and parameters: {'n_estimators': 100, 'learning_rate': 0.021488453641446286, 'num_leaves': 338, 'subsample': 0.9619405025096368, 'colsample_bytree': 0.407051918008621, 'min_data_in_leaf': 17}. \n",
      "[I 2024-04-23 09:31:57,908] Trial 32 finished with values: {'r2': 0.3250142742283837, 'mae': 0.11251097327602025, 'mse': 0.019265123907486834, 'rmse': 0.13879886133353844} and parameters: {'n_estimators': 100, 'learning_rate': 0.043148212065235135, 'num_leaves': 533, 'subsample': 0.07438202684313397, 'colsample_bytree': 0.7464092431622679, 'min_data_in_leaf': 95}. \n",
      "[I 2024-04-23 09:31:58,279] Trial 33 finished with values: {'r2': 0.36519443102478466, 'mae': 0.11044698570949482, 'mse': 0.01811832084225161, 'rmse': 0.13460431212354085} and parameters: {'n_estimators': 100, 'learning_rate': 0.011966558615455026, 'num_leaves': 239, 'subsample': 0.5479050818643825, 'colsample_bytree': 0.05577692437885121, 'min_data_in_leaf': 17}. \n",
      "[I 2024-04-23 09:31:58,606] Trial 34 finished with values: {'r2': 0.733485796879445, 'mae': 0.06560886861711712, 'mse': 0.007606722557507617, 'rmse': 0.08721652685992269} and parameters: {'n_estimators': 100, 'learning_rate': 0.03411692315218376, 'num_leaves': 885, 'subsample': 0.6397273704236786, 'colsample_bytree': 0.8668871668738735, 'min_data_in_leaf': 97}. \n",
      "[I 2024-04-23 09:31:59,270] Trial 35 finished with values: {'r2': 0.7297644692075579, 'mae': 0.06576477610064826, 'mse': 0.007712934934987616, 'rmse': 0.0878233165792981} and parameters: {'n_estimators': 100, 'learning_rate': 0.03780404697199067, 'num_leaves': 57, 'subsample': 0.42438075604689823, 'colsample_bytree': 0.39413493399268784, 'min_data_in_leaf': 45}. \n",
      "[I 2024-04-23 09:31:59,734] Trial 36 finished with values: {'r2': 0.2699062482339095, 'mae': 0.11780148999205413, 'mse': 0.02083799116755652, 'rmse': 0.14435370160670116} and parameters: {'n_estimators': 100, 'learning_rate': 0.020850406037207208, 'num_leaves': 213, 'subsample': 0.06286732393333887, 'colsample_bytree': 0.717114614847614, 'min_data_in_leaf': 78}. \n",
      "[I 2024-04-23 09:32:00,232] Trial 37 finished with values: {'r2': 0.6192902848024332, 'mae': 0.08244055649554717, 'mse': 0.010866036948678782, 'rmse': 0.10424028467285948} and parameters: {'n_estimators': 100, 'learning_rate': 0.030251351409534877, 'num_leaves': 933, 'subsample': 0.20849720070646033, 'colsample_bytree': 0.6238645060982377, 'min_data_in_leaf': 99}. \n",
      "[I 2024-04-23 09:32:00,884] Trial 38 finished with values: {'r2': 0.7558123223085139, 'mae': 0.06129142476224058, 'mse': 0.00696948940961702, 'rmse': 0.08348346788207243} and parameters: {'n_estimators': 100, 'learning_rate': 0.031744934759782115, 'num_leaves': 582, 'subsample': 0.8520854590718703, 'colsample_bytree': 0.7840281266962935, 'min_data_in_leaf': 39}. \n",
      "[I 2024-04-23 09:32:01,366] Trial 39 finished with values: {'r2': 0.42216977042438186, 'mae': 0.10414707729151333, 'mse': 0.01649215760457783, 'rmse': 0.12842179567572565} and parameters: {'n_estimators': 100, 'learning_rate': 0.010094718502568661, 'num_leaves': 186, 'subsample': 0.08699894694808193, 'colsample_bytree': 0.888601130956442, 'min_data_in_leaf': 43}. \n",
      "[I 2024-04-23 09:32:02,383] Trial 40 finished with values: {'r2': 0.6683163944520292, 'mae': 0.0742401094204855, 'mse': 0.009466756873501202, 'rmse': 0.09729726035968948} and parameters: {'n_estimators': 100, 'learning_rate': 0.021923349934765097, 'num_leaves': 195, 'subsample': 0.46389903055942294, 'colsample_bytree': 0.14279045279201358, 'min_data_in_leaf': 13}. \n",
      "[I 2024-04-23 09:32:02,737] Trial 41 finished with values: {'r2': 0.72620204089283, 'mae': 0.06677197258006445, 'mse': 0.007814612082035897, 'rmse': 0.08840029458116018} and parameters: {'n_estimators': 100, 'learning_rate': 0.02383595304086235, 'num_leaves': 912, 'subsample': 0.5716586233976291, 'colsample_bytree': 0.8837920547395581, 'min_data_in_leaf': 74}. \n",
      "[I 2024-04-23 09:32:03,199] Trial 42 finished with values: {'r2': 0.5086540572716776, 'mae': 0.09456129463766312, 'mse': 0.014023763920757132, 'rmse': 0.11842197397762431} and parameters: {'n_estimators': 100, 'learning_rate': 0.10878886892554868, 'num_leaves': 351, 'subsample': 0.0920864485605988, 'colsample_bytree': 0.11659901519266835, 'min_data_in_leaf': 64}. \n",
      "[I 2024-04-23 09:32:03,814] Trial 43 finished with values: {'r2': 0.7208023470176024, 'mae': 0.06579345311121731, 'mse': 0.00796872759529337, 'rmse': 0.0892677298652395} and parameters: {'n_estimators': 100, 'learning_rate': 0.17706884914782609, 'num_leaves': 775, 'subsample': 0.1946521865203728, 'colsample_bytree': 0.98068880038417, 'min_data_in_leaf': 25}. \n",
      "[I 2024-04-23 09:32:04,243] Trial 44 finished with values: {'r2': 0.7430459327376677, 'mae': 0.06284364906955962, 'mse': 0.007333861673419257, 'rmse': 0.08563796864369949} and parameters: {'n_estimators': 100, 'learning_rate': 0.10055559972807854, 'num_leaves': 911, 'subsample': 0.5826743174995118, 'colsample_bytree': 0.46669676485754935, 'min_data_in_leaf': 51}. \n",
      "[I 2024-04-23 09:32:04,783] Trial 45 finished with values: {'r2': 0.7014383471761676, 'mae': 0.06924206493045391, 'mse': 0.008521405736543452, 'rmse': 0.09231146048321114} and parameters: {'n_estimators': 100, 'learning_rate': 0.07397949616324424, 'num_leaves': 933, 'subsample': 0.0988435513202505, 'colsample_bytree': 0.2049786972957851, 'min_data_in_leaf': 19}. \n",
      "[I 2024-04-23 09:32:05,386] Trial 46 finished with values: {'r2': 0.7390222588758744, 'mae': 0.06394286148283994, 'mse': 0.007448703473106432, 'rmse': 0.0863058716027272} and parameters: {'n_estimators': 100, 'learning_rate': 0.09172419887311233, 'num_leaves': 607, 'subsample': 0.48276972725776446, 'colsample_bytree': 0.6740457688171047, 'min_data_in_leaf': 80}. \n",
      "[I 2024-04-23 09:32:05,969] Trial 47 finished with values: {'r2': 0.6209085666769757, 'mae': 0.0823615568535279, 'mse': 0.010819848711446565, 'rmse': 0.10401850177466779} and parameters: {'n_estimators': 100, 'learning_rate': 0.017579459314723225, 'num_leaves': 534, 'subsample': 0.4607230811006963, 'colsample_bytree': 0.18707476943559032, 'min_data_in_leaf': 76}. \n",
      "[I 2024-04-23 09:32:06,583] Trial 48 finished with values: {'r2': 0.6058637764369734, 'mae': 0.08402638052587295, 'mse': 0.01124925001145844, 'rmse': 0.10606248163916608} and parameters: {'n_estimators': 100, 'learning_rate': 0.011605608572335762, 'num_leaves': 965, 'subsample': 0.3854703620502363, 'colsample_bytree': 0.552440080007402, 'min_data_in_leaf': 58}. \n",
      "[I 2024-04-23 09:32:06,908] Trial 49 finished with values: {'r2': 0.7104769489682612, 'mae': 0.06939258868885499, 'mse': 0.008263430231541394, 'rmse': 0.09090341155062} and parameters: {'n_estimators': 100, 'learning_rate': 0.0243596491295047, 'num_leaves': 715, 'subsample': 0.5109010740429322, 'colsample_bytree': 0.53476224635605, 'min_data_in_leaf': 75}. \n",
      "[I 2024-04-23 09:32:07,518] Trial 50 finished with values: {'r2': 0.7391140710470548, 'mae': 0.06383240562185509, 'mse': 0.007446083013463397, 'rmse': 0.08629068903110808} and parameters: {'n_estimators': 100, 'learning_rate': 0.09172419887311233, 'num_leaves': 607, 'subsample': 0.48276972725776446, 'colsample_bytree': 0.6740457688171047, 'min_data_in_leaf': 80}. \n",
      "[I 2024-04-23 09:32:08,063] Trial 51 finished with values: {'r2': 0.7022742343457106, 'mae': 0.07080770560096294, 'mse': 0.008497548239593403, 'rmse': 0.09218214707628264} and parameters: {'n_estimators': 100, 'learning_rate': 0.025881973844065008, 'num_leaves': 857, 'subsample': 0.21975589083027103, 'colsample_bytree': 0.9769136852452087, 'min_data_in_leaf': 46}. \n",
      "[I 2024-04-23 09:32:08,445] Trial 52 finished with values: {'r2': 0.622756170560183, 'mae': 0.08132128393283647, 'mse': 0.010767115273711636, 'rmse': 0.10376471111949204} and parameters: {'n_estimators': 100, 'learning_rate': 0.010746391063587752, 'num_leaves': 629, 'subsample': 0.8078173467569105, 'colsample_bytree': 0.9155390750926717, 'min_data_in_leaf': 86}. \n",
      "[I 2024-04-23 09:32:08,813] Trial 53 finished with values: {'r2': 0.3651944314173605, 'mae': 0.11044698570730001, 'mse': 0.01811832083104689, 'rmse': 0.13460431208191992} and parameters: {'n_estimators': 100, 'learning_rate': 0.011966558615455026, 'num_leaves': 239, 'subsample': 0.5479050818643825, 'colsample_bytree': 0.05577692437885121, 'min_data_in_leaf': 17}. \n",
      "[I 2024-04-23 09:32:09,771] Trial 54 finished with values: {'r2': 0.7424584711900905, 'mae': 0.06330383896387261, 'mse': 0.007350628723555053, 'rmse': 0.08573580770923578} and parameters: {'n_estimators': 100, 'learning_rate': 0.02671550916862774, 'num_leaves': 131, 'subsample': 0.5583852466994699, 'colsample_bytree': 0.38633073573302157, 'min_data_in_leaf': 14}. \n",
      "[I 2024-04-23 09:32:10,383] Trial 55 finished with values: {'r2': 0.6998456798244335, 'mae': 0.06903147183787119, 'mse': 0.008566862896158925, 'rmse': 0.09255734922824295} and parameters: {'n_estimators': 100, 'learning_rate': 0.054913440940252356, 'num_leaves': 955, 'subsample': 0.9921673484019066, 'colsample_bytree': 0.12048638469938816, 'min_data_in_leaf': 25}. \n",
      "[I 2024-04-23 09:32:10,856] Trial 56 finished with values: {'r2': 0.7492180454061769, 'mae': 0.06221342449706896, 'mse': 0.007157700147642, 'rmse': 0.0846031923017211} and parameters: {'n_estimators': 100, 'learning_rate': 0.07212287520311574, 'num_leaves': 228, 'subsample': 0.8422004655815357, 'colsample_bytree': 0.567232262114097, 'min_data_in_leaf': 62}. \n",
      "[I 2024-04-23 09:32:11,441] Trial 57 finished with values: {'r2': 0.7054434598796144, 'mae': 0.06956315679010952, 'mse': 0.008407093700674625, 'rmse': 0.09169020504216699} and parameters: {'n_estimators': 100, 'learning_rate': 0.04617973496233635, 'num_leaves': 228, 'subsample': 0.40927730666341805, 'colsample_bytree': 0.27989556574631663, 'min_data_in_leaf': 71}. \n",
      "[I 2024-04-23 09:32:11,933] Trial 58 finished with values: {'r2': 0.5206203880880047, 'mae': 0.09398579134452022, 'mse': 0.013682226556198815, 'rmse': 0.11697105007735382} and parameters: {'n_estimators': 100, 'learning_rate': 0.021656450734683107, 'num_leaves': 163, 'subsample': 0.2041693153256401, 'colsample_bytree': 0.14164344954574543, 'min_data_in_leaf': 77}. \n",
      "[I 2024-04-23 09:32:12,902] Trial 59 finished with values: {'r2': 0.7380057172822667, 'mae': 0.06408905236313052, 'mse': 0.007477717123336705, 'rmse': 0.08647379443124202} and parameters: {'n_estimators': 100, 'learning_rate': 0.019287540372205498, 'num_leaves': 766, 'subsample': 0.5013464106407267, 'colsample_bytree': 0.9953560581047851, 'min_data_in_leaf': 14}. \n",
      "[I 2024-04-23 09:32:13,411] Trial 60 finished with values: {'r2': 0.6790199571254004, 'mae': 0.07382909267168378, 'mse': 0.009161260841095002, 'rmse': 0.0957144756089433} and parameters: {'n_estimators': 100, 'learning_rate': 0.054484745968781174, 'num_leaves': 282, 'subsample': 0.17906817277931103, 'colsample_bytree': 0.38633073573302157, 'min_data_in_leaf': 65}. \n",
      "[I 2024-04-23 09:32:13,861] Trial 61 finished with values: {'r2': 0.33668936227671176, 'mae': 0.1120852928585587, 'mse': 0.01893189905650982, 'rmse': 0.13759323768452364} and parameters: {'n_estimators': 100, 'learning_rate': 0.04941264178862434, 'num_leaves': 282, 'subsample': 0.07352658624587438, 'colsample_bytree': 0.28860920520922184, 'min_data_in_leaf': 88}. \n",
      "[I 2024-04-23 09:32:14,236] Trial 62 finished with values: {'r2': 0.6462202038618594, 'mae': 0.07845450000155418, 'mse': 0.010097415913166726, 'rmse': 0.10048589907627202} and parameters: {'n_estimators': 100, 'learning_rate': 0.013782232478486221, 'num_leaves': 911, 'subsample': 0.7167365796880772, 'colsample_bytree': 0.46669676485754935, 'min_data_in_leaf': 77}. \n",
      "[I 2024-04-23 09:32:15,235] Trial 63 finished with values: {'r2': 0.6684152706529511, 'mae': 0.07421841395903055, 'mse': 0.00946393479565639, 'rmse': 0.0972827569287404} and parameters: {'n_estimators': 100, 'learning_rate': 0.021923349934765097, 'num_leaves': 195, 'subsample': 0.46389903055942294, 'colsample_bytree': 0.14279045279201358, 'min_data_in_leaf': 13}. \n",
      "[I 2024-04-23 09:32:15,747] Trial 64 finished with values: {'r2': 0.5466519187129886, 'mae': 0.09143620073924232, 'mse': 0.01293924689923117, 'rmse': 0.11375081054318326} and parameters: {'n_estimators': 100, 'learning_rate': 0.01694342262467151, 'num_leaves': 955, 'subsample': 0.07352658624587438, 'colsample_bytree': 0.28860920520922184, 'min_data_in_leaf': 21}. \n",
      "[I 2024-04-23 09:32:16,128] Trial 65 finished with values: {'r2': 0.7325808737060346, 'mae': 0.06444333560382735, 'mse': 0.007632550447486447, 'rmse': 0.08736446902194535} and parameters: {'n_estimators': 100, 'learning_rate': 0.1419131257725321, 'num_leaves': 448, 'subsample': 0.6394111592462449, 'colsample_bytree': 0.13159890090837267, 'min_data_in_leaf': 57}. \n",
      "[I 2024-04-23 09:32:17,151] Trial 66 finished with values: {'r2': 0.7381620959201256, 'mae': 0.06432494729772667, 'mse': 0.007473253838085166, 'rmse': 0.08644798342405198} and parameters: {'n_estimators': 100, 'learning_rate': 0.0847772413089708, 'num_leaves': 84, 'subsample': 0.34950405778964533, 'colsample_bytree': 0.9953560581047851, 'min_data_in_leaf': 14}. \n",
      "[I 2024-04-23 09:32:17,794] Trial 67 finished with values: {'r2': 0.7356162973022715, 'mae': 0.06400338708238057, 'mse': 0.007545914820301346, 'rmse': 0.08686722523657209} and parameters: {'n_estimators': 100, 'learning_rate': 0.18566360727239903, 'num_leaves': 74, 'subsample': 0.48276972725776446, 'colsample_bytree': 0.4995029421044807, 'min_data_in_leaf': 62}. \n"
     ]
    }
   ],
   "source": [
    "train = Train(df_2022)\n",
    "train.optimize('lightgbm_2022_1250_scaled_до_печек_вкл', 100) # дашборд запускается $ optuna-dashboard sqlite:///db.sqlite3\n",
    "train.try_all_trials(100)\n"
   ]
  },
  {
   "cell_type": "markdown",
   "metadata": {},
   "source": [
    "#### Признаки: \n",
    "    'BlockP', 'BlockT', 'C1P', 'C1T', 'C1L'\n"
   ]
  },
  {
   "cell_type": "code",
   "execution_count": null,
   "metadata": {},
   "outputs": [],
   "source": [
    "df_2022.drop(['P1Tinput',\n",
    "       'P1Toutput', 'P1Pinput', 'P1Poutput', 'P1Тcoolant', 'P1Tgases',\n",
    "       'P1Рburner', 'P2Tinput', 'P2Toutput', 'P2Pinput', 'P2Poutput',\n",
    "       'P2Tcoolant', 'P2Tgases', 'P2Pburner'])"
   ]
  },
  {
   "cell_type": "code",
   "execution_count": null,
   "metadata": {},
   "outputs": [],
   "source": [
    "train = Train(df_2022)\n",
    "train.optimize('lightgbm_2022_1250_блок_и_сепаратор', 100) # дашборд запускается $ optuna-dashboard sqlite:///db.sqlite3\n",
    "train.try_all_trials(100)"
   ]
  },
  {
   "cell_type": "markdown",
   "metadata": {},
   "source": [
    "### CatBoost"
   ]
  },
  {
   "cell_type": "code",
   "execution_count": 2,
   "metadata": {},
   "outputs": [
    {
     "name": "stderr",
     "output_type": "stream",
     "text": [
      "[I 2024-04-25 07:31:16,300] A new study created in RDB with name: catboost_2022_1250_scaled\n",
      "/home/prog3/notebooks/petrol/core/train.py:127: ExperimentalWarning: set_metric_names is experimental (supported from v3.2.0). The interface can change in the future.\n",
      "  study.set_metric_names(self.metrics_list)\n",
      "Default metric period is 5 because MAE, R2 is/are not implemented for GPU\n",
      "Metric R2 is not implemented on GPU. Will use CPU for metric computation, this could significantly affect learning time\n",
      "[I 2024-04-25 07:31:18,419] Trial 0 finished with values: {'R2': 0.715239162708251, 'MAE': 0.06918484272929039, 'RMSE': 0.09015270032191887} and parameters: {'n_estimators': 147, 'learning_rate': 0.024801370188845415, 'depth': 4, 'l2_leaf_reg': 4.949404289646627}. \n"
     ]
    },
    {
     "name": "stdout",
     "output_type": "stream",
     "text": [
      "dict_values([0.715239162708251, 0.06918484272929039, 0.09015270032191887])\n"
     ]
    },
    {
     "name": "stderr",
     "output_type": "stream",
     "text": [
      "Default metric period is 5 because MAE, R2 is/are not implemented for GPU\n",
      "Metric R2 is not implemented on GPU. Will use CPU for metric computation, this could significantly affect learning time\n",
      "[I 2024-04-25 07:31:20,342] Trial 1 finished with values: {'R2': 0.10777396803095773, 'MAE': 0.13105413238851407, 'RMSE': 0.1595791156838582} and parameters: {'n_estimators': 65, 'learning_rate': 0.001407475436630439, 'depth': 6, 'l2_leaf_reg': 1.359639900119248}. \n"
     ]
    },
    {
     "name": "stdout",
     "output_type": "stream",
     "text": [
      "dict_values([0.10777396803095773, 0.13105413238851407, 0.1595791156838582])\n"
     ]
    },
    {
     "name": "stderr",
     "output_type": "stream",
     "text": [
      "Default metric period is 5 because MAE, R2 is/are not implemented for GPU\n",
      "Metric R2 is not implemented on GPU. Will use CPU for metric computation, this could significantly affect learning time\n",
      "[I 2024-04-25 07:31:23,435] Trial 2 finished with values: {'R2': 0.7856016102008577, 'MAE': 0.05698472773691627, 'RMSE': 0.07822568388230752} and parameters: {'n_estimators': 68, 'learning_rate': 0.08569498903860184, 'depth': 12, 'l2_leaf_reg': 1.16124756637532}. \n"
     ]
    },
    {
     "name": "stdout",
     "output_type": "stream",
     "text": [
      "dict_values([0.7856016102008577, 0.05698472773691627, 0.07822568388230752])\n"
     ]
    },
    {
     "name": "stderr",
     "output_type": "stream",
     "text": [
      "Default metric period is 5 because MAE, R2 is/are not implemented for GPU\n",
      "Metric R2 is not implemented on GPU. Will use CPU for metric computation, this could significantly affect learning time\n",
      "[I 2024-04-25 07:31:56,072] Trial 3 finished with values: {'R2': 0.7834026297818149, 'MAE': 0.05771966252118016, 'RMSE': 0.07862582196569956} and parameters: {'n_estimators': 120, 'learning_rate': 0.04030594250806866, 'depth': 16, 'l2_leaf_reg': 1.0942630273664569}. \n"
     ]
    },
    {
     "name": "stdout",
     "output_type": "stream",
     "text": [
      "dict_values([0.7834026297818149, 0.05771966252118016, 0.07862582196569956])\n"
     ]
    },
    {
     "name": "stderr",
     "output_type": "stream",
     "text": [
      "Default metric period is 5 because MAE, R2 is/are not implemented for GPU\n",
      "Metric R2 is not implemented on GPU. Will use CPU for metric computation, this could significantly affect learning time\n",
      "[I 2024-04-25 07:32:07,973] Trial 4 finished with values: {'R2': 0.7702190900545819, 'MAE': 0.06034256315254775, 'RMSE': 0.08098332079138758} and parameters: {'n_estimators': 83, 'learning_rate': 0.04211022880756519, 'depth': 15, 'l2_leaf_reg': 3.1020607657223565}. \n"
     ]
    },
    {
     "name": "stdout",
     "output_type": "stream",
     "text": [
      "dict_values([0.7702190900545819, 0.06034256315254775, 0.08098332079138758])\n"
     ]
    },
    {
     "name": "stderr",
     "output_type": "stream",
     "text": [
      "Default metric period is 5 because MAE, R2 is/are not implemented for GPU\n",
      "Metric R2 is not implemented on GPU. Will use CPU for metric computation, this could significantly affect learning time\n",
      "[I 2024-04-25 07:32:09,466] Trial 5 finished with values: {'R2': 0.43005387203585277, 'MAE': 0.10428739791777698, 'RMSE': 0.12754267246166265} and parameters: {'n_estimators': 66, 'learning_rate': 0.008962556025615555, 'depth': 4, 'l2_leaf_reg': 4.716891109276198}. \n"
     ]
    },
    {
     "name": "stdout",
     "output_type": "stream",
     "text": [
      "dict_values([0.43005387203585277, 0.10428739791777698, 0.12754267246166265])\n"
     ]
    },
    {
     "name": "stderr",
     "output_type": "stream",
     "text": [
      "Default metric period is 5 because MAE, R2 is/are not implemented for GPU\n",
      "Metric R2 is not implemented on GPU. Will use CPU for metric computation, this could significantly affect learning time\n",
      "[I 2024-04-25 07:32:11,215] Trial 6 finished with values: {'R2': 0.5020561213635071, 'MAE': 0.0966156839196472, 'RMSE': 0.11921442485034729} and parameters: {'n_estimators': 66, 'learning_rate': 0.01105452292062394, 'depth': 5, 'l2_leaf_reg': 3.784844389028647}. \n"
     ]
    },
    {
     "name": "stdout",
     "output_type": "stream",
     "text": [
      "dict_values([0.5020561213635071, 0.0966156839196472, 0.11921442485034729])\n"
     ]
    },
    {
     "name": "stderr",
     "output_type": "stream",
     "text": [
      "Default metric period is 5 because MAE, R2 is/are not implemented for GPU\n",
      "Metric R2 is not implemented on GPU. Will use CPU for metric computation, this could significantly affect learning time\n",
      "[I 2024-04-25 07:32:12,900] Trial 7 finished with values: {'R2': 0.2838211963278564, 'MAE': 0.11779052119085201, 'RMSE': 0.1429714562024563} and parameters: {'n_estimators': 97, 'learning_rate': 0.0036445785384441776, 'depth': 3, 'l2_leaf_reg': 3.3013205077518935}. \n"
     ]
    },
    {
     "name": "stdout",
     "output_type": "stream",
     "text": [
      "dict_values([0.2838211963278564, 0.11779052119085201, 0.1429714562024563])\n"
     ]
    },
    {
     "name": "stderr",
     "output_type": "stream",
     "text": [
      "Default metric period is 5 because MAE, R2 is/are not implemented for GPU\n",
      "Metric R2 is not implemented on GPU. Will use CPU for metric computation, this could significantly affect learning time\n",
      "[I 2024-04-25 07:32:14,712] Trial 8 finished with values: {'R2': 0.7327301075824942, 'MAE': 0.06623687070920364, 'RMSE': 0.0873400886457161} and parameters: {'n_estimators': 125, 'learning_rate': 0.04121440718995026, 'depth': 4, 'l2_leaf_reg': 0.5793598854157899}. \n"
     ]
    },
    {
     "name": "stdout",
     "output_type": "stream",
     "text": [
      "dict_values([0.7327301075824942, 0.06623687070920364, 0.0873400886457161])\n"
     ]
    },
    {
     "name": "stderr",
     "output_type": "stream",
     "text": [
      "Default metric period is 5 because MAE, R2 is/are not implemented for GPU\n",
      "Metric R2 is not implemented on GPU. Will use CPU for metric computation, this could significantly affect learning time\n",
      "[I 2024-04-25 07:32:16,863] Trial 9 finished with values: {'R2': 0.6786723928890604, 'MAE': 0.07469083308865639, 'RMSE': 0.09576628245596114} and parameters: {'n_estimators': 131, 'learning_rate': 0.0105537055678642, 'depth': 8, 'l2_leaf_reg': 1.6148615149530487}. \n"
     ]
    },
    {
     "name": "stdout",
     "output_type": "stream",
     "text": [
      "dict_values([0.6786723928890604, 0.07469083308865639, 0.09576628245596114])\n"
     ]
    },
    {
     "name": "stderr",
     "output_type": "stream",
     "text": [
      "Default metric period is 5 because MAE, R2 is/are not implemented for GPU\n",
      "Metric R2 is not implemented on GPU. Will use CPU for metric computation, this could significantly affect learning time\n",
      "[I 2024-04-25 07:32:19,857] Trial 10 finished with values: {'R2': 0.2754855310480159, 'MAE': 0.1171200723176951, 'RMSE': 0.14380107757452293} and parameters: {'n_estimators': 133, 'learning_rate': 0.0019316359067936787, 'depth': 10, 'l2_leaf_reg': 2.4182499347060125}. \n"
     ]
    },
    {
     "name": "stdout",
     "output_type": "stream",
     "text": [
      "dict_values([0.2754855310480159, 0.1171200723176951, 0.14380107757452293])\n"
     ]
    },
    {
     "name": "stderr",
     "output_type": "stream",
     "text": [
      "Default metric period is 5 because MAE, R2 is/are not implemented for GPU\n",
      "Metric R2 is not implemented on GPU. Will use CPU for metric computation, this could significantly affect learning time\n",
      "[I 2024-04-25 07:32:21,466] Trial 11 finished with values: {'R2': 0.37175251692098976, 'MAE': 0.1095270178261584, 'RMSE': 0.13390721806847075} and parameters: {'n_estimators': 61, 'learning_rate': 0.007036081377715253, 'depth': 5, 'l2_leaf_reg': 0.5442141419933835}. \n"
     ]
    },
    {
     "name": "stdout",
     "output_type": "stream",
     "text": [
      "dict_values([0.37175251692098976, 0.1095270178261584, 0.13390721806847075])\n"
     ]
    },
    {
     "name": "stderr",
     "output_type": "stream",
     "text": [
      "Default metric period is 5 because MAE, R2 is/are not implemented for GPU\n",
      "Metric R2 is not implemented on GPU. Will use CPU for metric computation, this could significantly affect learning time\n",
      "[I 2024-04-25 07:32:23,246] Trial 12 finished with values: {'R2': 0.3827438743473206, 'MAE': 0.10881154612973348, 'RMSE': 0.13273067812855788} and parameters: {'n_estimators': 110, 'learning_rate': 0.0044574733090025275, 'depth': 4, 'l2_leaf_reg': 2.8426661339202326}. \n"
     ]
    },
    {
     "name": "stdout",
     "output_type": "stream",
     "text": [
      "dict_values([0.3827438743473206, 0.10881154612973348, 0.13273067812855788])\n"
     ]
    },
    {
     "name": "stderr",
     "output_type": "stream",
     "text": [
      "Default metric period is 5 because MAE, R2 is/are not implemented for GPU\n",
      "Metric R2 is not implemented on GPU. Will use CPU for metric computation, this could significantly affect learning time\n",
      "[I 2024-04-25 07:32:24,823] Trial 13 finished with values: {'R2': 0.6591669015537807, 'MAE': 0.07675447337073613, 'RMSE': 0.09863010382282225} and parameters: {'n_estimators': 85, 'learning_rate': 0.049450248148496356, 'depth': 2, 'l2_leaf_reg': 1.4471348622041806}. \n"
     ]
    },
    {
     "name": "stdout",
     "output_type": "stream",
     "text": [
      "dict_values([0.6591669015537807, 0.07675447337073613, 0.09863010382282225])\n"
     ]
    },
    {
     "name": "stderr",
     "output_type": "stream",
     "text": [
      "Default metric period is 5 because MAE, R2 is/are not implemented for GPU\n",
      "Metric R2 is not implemented on GPU. Will use CPU for metric computation, this could significantly affect learning time\n",
      "[I 2024-04-25 07:32:28,520] Trial 14 finished with values: {'R2': 0.626584630903897, 'MAE': 0.0812735532776546, 'RMSE': 0.10323684015937501} and parameters: {'n_estimators': 169, 'learning_rate': 0.005928057949518627, 'depth': 11, 'l2_leaf_reg': 2.077063482929477}. \n"
     ]
    },
    {
     "name": "stdout",
     "output_type": "stream",
     "text": [
      "dict_values([0.626584630903897, 0.0812735532776546, 0.10323684015937501])\n"
     ]
    },
    {
     "name": "stderr",
     "output_type": "stream",
     "text": [
      "Default metric period is 5 because MAE, R2 is/are not implemented for GPU\n",
      "Metric R2 is not implemented on GPU. Will use CPU for metric computation, this could significantly affect learning time\n",
      "[I 2024-04-25 07:32:30,851] Trial 15 finished with values: {'R2': 0.35360121301820435, 'MAE': 0.11038837044131136, 'RMSE': 0.13582786531912344} and parameters: {'n_estimators': 167, 'learning_rate': 0.0022170734187787837, 'depth': 8, 'l2_leaf_reg': 3.864889892232164}. \n"
     ]
    },
    {
     "name": "stdout",
     "output_type": "stream",
     "text": [
      "dict_values([0.35360121301820435, 0.11038837044131136, 0.13582786531912344])\n"
     ]
    },
    {
     "name": "stderr",
     "output_type": "stream",
     "text": [
      "Default metric period is 5 because MAE, R2 is/are not implemented for GPU\n",
      "Metric R2 is not implemented on GPU. Will use CPU for metric computation, this could significantly affect learning time\n",
      "[I 2024-04-25 07:32:32,778] Trial 16 finished with values: {'R2': 0.7197260135536891, 'MAE': 0.06838696394126023, 'RMSE': 0.08943963213730632} and parameters: {'n_estimators': 160, 'learning_rate': 0.023596886920996138, 'depth': 4, 'l2_leaf_reg': 0.3994008071215469}. \n"
     ]
    },
    {
     "name": "stdout",
     "output_type": "stream",
     "text": [
      "dict_values([0.7197260135536891, 0.06838696394126023, 0.08943963213730632])\n"
     ]
    },
    {
     "name": "stderr",
     "output_type": "stream",
     "text": [
      "Default metric period is 5 because MAE, R2 is/are not implemented for GPU\n",
      "Metric R2 is not implemented on GPU. Will use CPU for metric computation, this could significantly affect learning time\n",
      "[I 2024-04-25 07:32:46,731] Trial 17 finished with values: {'R2': 0.5565611065992259, 'MAE': 0.08944147979212, 'RMSE': 0.11250077127271318} and parameters: {'n_estimators': 190, 'learning_rate': 0.003998496963054342, 'depth': 14, 'l2_leaf_reg': 1.3887844148404118}. \n"
     ]
    },
    {
     "name": "stdout",
     "output_type": "stream",
     "text": [
      "dict_values([0.5565611065992259, 0.08944147979212, 0.11250077127271318])\n"
     ]
    },
    {
     "name": "stderr",
     "output_type": "stream",
     "text": [
      "Default metric period is 5 because MAE, R2 is/are not implemented for GPU\n",
      "Metric R2 is not implemented on GPU. Will use CPU for metric computation, this could significantly affect learning time\n",
      "[I 2024-04-25 07:32:48,118] Trial 18 finished with values: {'R2': 0.13579884327996117, 'MAE': 0.13003418410291567, 'RMSE': 0.15705292548794875} and parameters: {'n_estimators': 69, 'learning_rate': 0.002393441816817983, 'depth': 2, 'l2_leaf_reg': 0.9417185938070602}. \n"
     ]
    },
    {
     "name": "stdout",
     "output_type": "stream",
     "text": [
      "dict_values([0.13579884327996117, 0.13003418410291567, 0.15705292548794875])\n"
     ]
    },
    {
     "name": "stderr",
     "output_type": "stream",
     "text": [
      "Default metric period is 5 because MAE, R2 is/are not implemented for GPU\n",
      "Metric R2 is not implemented on GPU. Will use CPU for metric computation, this could significantly affect learning time\n",
      "[I 2024-04-25 07:32:49,710] Trial 19 finished with values: {'R2': 0.6551465395671128, 'MAE': 0.0776128669959112, 'RMSE': 0.09921010358734465} and parameters: {'n_estimators': 90, 'learning_rate': 0.0268742000508456, 'depth': 3, 'l2_leaf_reg': 0.5259261537577501}. \n"
     ]
    },
    {
     "name": "stdout",
     "output_type": "stream",
     "text": [
      "dict_values([0.6551465395671128, 0.0776128669959112, 0.09921010358734465])\n"
     ]
    },
    {
     "name": "stderr",
     "output_type": "stream",
     "text": [
      "Default metric period is 5 because MAE, R2 is/are not implemented for GPU\n",
      "Metric R2 is not implemented on GPU. Will use CPU for metric computation, this could significantly affect learning time\n",
      "[I 2024-04-25 07:32:53,007] Trial 20 finished with values: {'R2': 0.4980729938160051, 'MAE': 0.09557401180344471, 'RMSE': 0.11969028213821993} and parameters: {'n_estimators': 51, 'learning_rate': 0.012525428287719013, 'depth': 13, 'l2_leaf_reg': 3.3926034932240383}. \n"
     ]
    },
    {
     "name": "stdout",
     "output_type": "stream",
     "text": [
      "dict_values([0.4980729938160051, 0.09557401180344471, 0.11969028213821993])\n"
     ]
    },
    {
     "name": "stderr",
     "output_type": "stream",
     "text": [
      "Default metric period is 5 because MAE, R2 is/are not implemented for GPU\n",
      "Metric R2 is not implemented on GPU. Will use CPU for metric computation, this could significantly affect learning time\n",
      "[I 2024-04-25 07:32:57,753] Trial 21 finished with values: {'R2': 0.7201020327050687, 'MAE': 0.06868534510422322, 'RMSE': 0.08937961532567683} and parameters: {'n_estimators': 160, 'learning_rate': 0.011005801574384104, 'depth': 12, 'l2_leaf_reg': 3.5856989100340497}. \n"
     ]
    },
    {
     "name": "stdout",
     "output_type": "stream",
     "text": [
      "dict_values([0.7201020327050687, 0.06868534510422322, 0.08937961532567683])\n"
     ]
    },
    {
     "name": "stderr",
     "output_type": "stream",
     "text": [
      "Default metric period is 5 because MAE, R2 is/are not implemented for GPU\n",
      "Metric R2 is not implemented on GPU. Will use CPU for metric computation, this could significantly affect learning time\n",
      "[I 2024-04-25 07:32:59,792] Trial 22 finished with values: {'R2': 0.31357809409583504, 'MAE': 0.11453287227066497, 'RMSE': 0.13996974659377653} and parameters: {'n_estimators': 193, 'learning_rate': 0.0017470665848821861, 'depth': 5, 'l2_leaf_reg': 0.8772756698216004}. \n"
     ]
    },
    {
     "name": "stdout",
     "output_type": "stream",
     "text": [
      "dict_values([0.31357809409583504, 0.11453287227066497, 0.13996974659377653])\n"
     ]
    },
    {
     "name": "stderr",
     "output_type": "stream",
     "text": [
      "Default metric period is 5 because MAE, R2 is/are not implemented for GPU\n",
      "Metric R2 is not implemented on GPU. Will use CPU for metric computation, this could significantly affect learning time\n",
      "[I 2024-04-25 07:33:02,471] Trial 23 finished with values: {'R2': 0.1726098491163368, 'MAE': 0.12571906707894412, 'RMSE': 0.15367165989579648} and parameters: {'n_estimators': 93, 'learning_rate': 0.001527863376122179, 'depth': 11, 'l2_leaf_reg': 0.6819512213819314}. \n"
     ]
    },
    {
     "name": "stdout",
     "output_type": "stream",
     "text": [
      "dict_values([0.1726098491163368, 0.12571906707894412, 0.15367165989579648])\n"
     ]
    },
    {
     "name": "stderr",
     "output_type": "stream",
     "text": [
      "Default metric period is 5 because MAE, R2 is/are not implemented for GPU\n",
      "Metric R2 is not implemented on GPU. Will use CPU for metric computation, this could significantly affect learning time\n",
      "[I 2024-04-25 07:33:18,783] Trial 24 finished with values: {'R2': 0.23582267580271787, 'MAE': 0.1204629094430462, 'RMSE': 0.14768476021644375} and parameters: {'n_estimators': 117, 'learning_rate': 0.0018017199268167484, 'depth': 15, 'l2_leaf_reg': 2.077410368876285}. \n"
     ]
    },
    {
     "name": "stdout",
     "output_type": "stream",
     "text": [
      "dict_values([0.23582267580271787, 0.1204629094430462, 0.14768476021644375])\n"
     ]
    },
    {
     "name": "stderr",
     "output_type": "stream",
     "text": [
      "Default metric period is 5 because MAE, R2 is/are not implemented for GPU\n",
      "Metric R2 is not implemented on GPU. Will use CPU for metric computation, this could significantly affect learning time\n",
      "[I 2024-04-25 07:33:20,656] Trial 25 finished with values: {'R2': 0.2105340317865697, 'MAE': 0.12285786405906335, 'RMSE': 0.15010851054587784} and parameters: {'n_estimators': 132, 'learning_rate': 0.001463819434986493, 'depth': 7, 'l2_leaf_reg': 3.632621960576803}. \n"
     ]
    },
    {
     "name": "stdout",
     "output_type": "stream",
     "text": [
      "dict_values([0.2105340317865697, 0.12285786405906335, 0.15010851054587784])\n"
     ]
    },
    {
     "name": "stderr",
     "output_type": "stream",
     "text": [
      "Default metric period is 5 because MAE, R2 is/are not implemented for GPU\n",
      "Metric R2 is not implemented on GPU. Will use CPU for metric computation, this could significantly affect learning time\n",
      "[I 2024-04-25 07:33:32,010] Trial 26 finished with values: {'R2': 0.785835666795434, 'MAE': 0.05664499172601009, 'RMSE': 0.07818297312098223} and parameters: {'n_estimators': 145, 'learning_rate': 0.08463090760069215, 'depth': 14, 'l2_leaf_reg': 3.171725470180467}. \n"
     ]
    },
    {
     "name": "stdout",
     "output_type": "stream",
     "text": [
      "dict_values([0.785835666795434, 0.05664499172601009, 0.07818297312098223])\n"
     ]
    },
    {
     "name": "stderr",
     "output_type": "stream",
     "text": [
      "Default metric period is 5 because MAE, R2 is/are not implemented for GPU\n",
      "Metric R2 is not implemented on GPU. Will use CPU for metric computation, this could significantly affect learning time\n",
      "[I 2024-04-25 07:33:33,894] Trial 27 finished with values: {'R2': 0.729652000582308, 'MAE': 0.06674874209266025, 'RMSE': 0.0878415901574549} and parameters: {'n_estimators': 156, 'learning_rate': 0.02247729326121411, 'depth': 5, 'l2_leaf_reg': 4.608429235692682}. \n"
     ]
    },
    {
     "name": "stdout",
     "output_type": "stream",
     "text": [
      "dict_values([0.729652000582308, 0.06674874209266025, 0.0878415901574549])\n"
     ]
    },
    {
     "name": "stderr",
     "output_type": "stream",
     "text": [
      "Default metric period is 5 because MAE, R2 is/are not implemented for GPU\n",
      "Metric R2 is not implemented on GPU. Will use CPU for metric computation, this could significantly affect learning time\n",
      "[I 2024-04-25 07:33:35,622] Trial 28 finished with values: {'R2': 0.3389806196899845, 'MAE': 0.11313951847672424, 'RMSE': 0.13735538966192623} and parameters: {'n_estimators': 116, 'learning_rate': 0.003931708523832957, 'depth': 3, 'l2_leaf_reg': 1.3191710335192641}. \n"
     ]
    },
    {
     "name": "stdout",
     "output_type": "stream",
     "text": [
      "dict_values([0.3389806196899845, 0.11313951847672424, 0.13735538966192623])\n"
     ]
    },
    {
     "name": "stderr",
     "output_type": "stream",
     "text": [
      "Default metric period is 5 because MAE, R2 is/are not implemented for GPU\n",
      "Metric R2 is not implemented on GPU. Will use CPU for metric computation, this could significantly affect learning time\n",
      "[I 2024-04-25 07:33:54,269] Trial 29 finished with values: {'R2': 0.24272163050845275, 'MAE': 0.11988860732504399, 'RMSE': 0.14701660345738118} and parameters: {'n_estimators': 134, 'learning_rate': 0.0016318020045120627, 'depth': 15, 'l2_leaf_reg': 2.110806315701688}. \n"
     ]
    },
    {
     "name": "stdout",
     "output_type": "stream",
     "text": [
      "dict_values([0.24272163050845275, 0.11988860732504399, 0.14701660345738118])\n"
     ]
    },
    {
     "name": "stderr",
     "output_type": "stream",
     "text": [
      "Default metric period is 5 because MAE, R2 is/are not implemented for GPU\n",
      "Metric R2 is not implemented on GPU. Will use CPU for metric computation, this could significantly affect learning time\n",
      "[I 2024-04-25 07:33:57,050] Trial 30 finished with values: {'R2': 0.7537622045824952, 'MAE': 0.06315454492092612, 'RMSE': 0.08383318496777793} and parameters: {'n_estimators': 172, 'learning_rate': 0.015921364115291877, 'depth': 10, 'l2_leaf_reg': 4.567636220354249}. \n"
     ]
    },
    {
     "name": "stdout",
     "output_type": "stream",
     "text": [
      "dict_values([0.7537622045824952, 0.06315454492092612, 0.08383318496777793])\n"
     ]
    },
    {
     "name": "stderr",
     "output_type": "stream",
     "text": [
      "Default metric period is 5 because MAE, R2 is/are not implemented for GPU\n",
      "Metric R2 is not implemented on GPU. Will use CPU for metric computation, this could significantly affect learning time\n",
      "[I 2024-04-25 07:34:02,437] Trial 31 finished with values: {'R2': 0.7068519535814514, 'MAE': 0.07049757186277354, 'RMSE': 0.09147072284846978} and parameters: {'n_estimators': 60, 'learning_rate': 0.027229729541283998, 'depth': 14, 'l2_leaf_reg': 3.0323341906293493}. \n"
     ]
    },
    {
     "name": "stdout",
     "output_type": "stream",
     "text": [
      "dict_values([0.7068519535814514, 0.07049757186277354, 0.09147072284846978])\n"
     ]
    },
    {
     "name": "stderr",
     "output_type": "stream",
     "text": [
      "Default metric period is 5 because MAE, R2 is/are not implemented for GPU\n",
      "Metric R2 is not implemented on GPU. Will use CPU for metric computation, this could significantly affect learning time\n",
      "[I 2024-04-25 07:34:04,122] Trial 32 finished with values: {'R2': 0.727088794415, 'MAE': 0.06721099109526697, 'RMSE': 0.08825702681183203} and parameters: {'n_estimators': 89, 'learning_rate': 0.040936386872054836, 'depth': 5, 'l2_leaf_reg': 3.395003382965531}. \n"
     ]
    },
    {
     "name": "stdout",
     "output_type": "stream",
     "text": [
      "dict_values([0.727088794415, 0.06721099109526697, 0.08825702681183203])\n"
     ]
    },
    {
     "name": "stderr",
     "output_type": "stream",
     "text": [
      "Default metric period is 5 because MAE, R2 is/are not implemented for GPU\n",
      "Metric R2 is not implemented on GPU. Will use CPU for metric computation, this could significantly affect learning time\n",
      "[I 2024-04-25 07:34:07,126] Trial 33 finished with values: {'R2': 0.5087572180254298, 'MAE': 0.09476749929522532, 'RMSE': 0.118409541656187} and parameters: {'n_estimators': 120, 'learning_rate': 0.005513405618937547, 'depth': 11, 'l2_leaf_reg': 4.395394412269662}. \n"
     ]
    },
    {
     "name": "stdout",
     "output_type": "stream",
     "text": [
      "dict_values([0.5087572180254298, 0.09476749929522532, 0.118409541656187])\n"
     ]
    },
    {
     "name": "stderr",
     "output_type": "stream",
     "text": [
      "Default metric period is 5 because MAE, R2 is/are not implemented for GPU\n",
      "Metric R2 is not implemented on GPU. Will use CPU for metric computation, this could significantly affect learning time\n",
      "[I 2024-04-25 07:34:09,135] Trial 34 finished with values: {'R2': 0.7704179459310343, 'MAE': 0.06015119862021714, 'RMSE': 0.08094827111099945} and parameters: {'n_estimators': 85, 'learning_rate': 0.04914661367164369, 'depth': 9, 'l2_leaf_reg': 2.1095443605010074}. \n"
     ]
    },
    {
     "name": "stdout",
     "output_type": "stream",
     "text": [
      "dict_values([0.7704179459310343, 0.06015119862021714, 0.08094827111099945])\n"
     ]
    },
    {
     "name": "stderr",
     "output_type": "stream",
     "text": [
      "Default metric period is 5 because MAE, R2 is/are not implemented for GPU\n",
      "Metric R2 is not implemented on GPU. Will use CPU for metric computation, this could significantly affect learning time\n",
      "[I 2024-04-25 07:34:16,460] Trial 35 finished with values: {'R2': 0.7228141227864361, 'MAE': 0.06801959984295752, 'RMSE': 0.08894553637540507} and parameters: {'n_estimators': 155, 'learning_rate': 0.011767587263044901, 'depth': 13, 'l2_leaf_reg': 2.4243951008654725}. \n"
     ]
    },
    {
     "name": "stdout",
     "output_type": "stream",
     "text": [
      "dict_values([0.7228141227864361, 0.06801959984295752, 0.08894553637540507])\n"
     ]
    },
    {
     "name": "stderr",
     "output_type": "stream",
     "text": [
      "Default metric period is 5 because MAE, R2 is/are not implemented for GPU\n",
      "Metric R2 is not implemented on GPU. Will use CPU for metric computation, this could significantly affect learning time\n",
      "[I 2024-04-25 07:34:18,369] Trial 36 finished with values: {'R2': 0.6329477745654399, 'MAE': 0.08076648752866357, 'RMSE': 0.10235346268642981} and parameters: {'n_estimators': 99, 'learning_rate': 0.010897494686087682, 'depth': 8, 'l2_leaf_reg': 1.603852712582497}. \n"
     ]
    },
    {
     "name": "stdout",
     "output_type": "stream",
     "text": [
      "dict_values([0.6329477745654399, 0.08076648752866357, 0.10235346268642981])\n"
     ]
    },
    {
     "name": "stderr",
     "output_type": "stream",
     "text": [
      "Default metric period is 5 because MAE, R2 is/are not implemented for GPU\n",
      "Metric R2 is not implemented on GPU. Will use CPU for metric computation, this could significantly affect learning time\n",
      "[I 2024-04-25 07:34:20,196] Trial 37 finished with values: {'R2': 0.6947621611687625, 'MAE': 0.07245313975941667, 'RMSE': 0.09333785023008599} and parameters: {'n_estimators': 67, 'learning_rate': 0.02325360967713892, 'depth': 8, 'l2_leaf_reg': 3.94482312131134}. \n"
     ]
    },
    {
     "name": "stdout",
     "output_type": "stream",
     "text": [
      "dict_values([0.6947621611687625, 0.07245313975941667, 0.09333785023008599])\n"
     ]
    },
    {
     "name": "stderr",
     "output_type": "stream",
     "text": [
      "Default metric period is 5 because MAE, R2 is/are not implemented for GPU\n",
      "Metric R2 is not implemented on GPU. Will use CPU for metric computation, this could significantly affect learning time\n",
      "[I 2024-04-25 07:34:21,928] Trial 38 finished with values: {'R2': 0.3270171616755728, 'MAE': 0.1128278245964006, 'RMSE': 0.1385927791754749} and parameters: {'n_estimators': 51, 'learning_rate': 0.006564197130721846, 'depth': 8, 'l2_leaf_reg': 4.419338946900076}. \n"
     ]
    },
    {
     "name": "stdout",
     "output_type": "stream",
     "text": [
      "dict_values([0.3270171616755728, 0.1128278245964006, 0.1385927791754749])\n"
     ]
    },
    {
     "name": "stderr",
     "output_type": "stream",
     "text": [
      "Default metric period is 5 because MAE, R2 is/are not implemented for GPU\n",
      "Metric R2 is not implemented on GPU. Will use CPU for metric computation, this could significantly affect learning time\n",
      "[I 2024-04-25 07:34:23,628] Trial 39 finished with values: {'R2': 0.13430414733820228, 'MAE': 0.12919928885857457, 'RMSE': 0.15718868378547443} and parameters: {'n_estimators': 83, 'learning_rate': 0.0014913485479301346, 'depth': 5, 'l2_leaf_reg': 4.032982930423474}. \n"
     ]
    },
    {
     "name": "stdout",
     "output_type": "stream",
     "text": [
      "dict_values([0.13430414733820228, 0.12919928885857457, 0.15718868378547443])\n"
     ]
    },
    {
     "name": "stderr",
     "output_type": "stream",
     "text": [
      "Default metric period is 5 because MAE, R2 is/are not implemented for GPU\n",
      "Metric R2 is not implemented on GPU. Will use CPU for metric computation, this could significantly affect learning time\n",
      "[I 2024-04-25 07:34:28,352] Trial 40 finished with values: {'R2': 0.5476585578602144, 'MAE': 0.090604595714286, 'RMSE': 0.11362445106556218} and parameters: {'n_estimators': 50, 'learning_rate': 0.013743969528320596, 'depth': 14, 'l2_leaf_reg': 0.1616008264838006}. \n"
     ]
    },
    {
     "name": "stdout",
     "output_type": "stream",
     "text": [
      "dict_values([0.5476585578602144, 0.090604595714286, 0.11362445106556218])\n"
     ]
    },
    {
     "name": "stderr",
     "output_type": "stream",
     "text": [
      "Default metric period is 5 because MAE, R2 is/are not implemented for GPU\n",
      "Metric R2 is not implemented on GPU. Will use CPU for metric computation, this could significantly affect learning time\n",
      "[I 2024-04-25 07:34:30,068] Trial 41 finished with values: {'R2': 0.3832085233203937, 'MAE': 0.10972609422228792, 'RMSE': 0.13268071120117528} and parameters: {'n_estimators': 198, 'learning_rate': 0.0035879626617611026, 'depth': 2, 'l2_leaf_reg': 4.899171255004723}. \n"
     ]
    },
    {
     "name": "stdout",
     "output_type": "stream",
     "text": [
      "dict_values([0.3832085233203937, 0.10972609422228792, 0.13268071120117528])\n"
     ]
    },
    {
     "name": "stderr",
     "output_type": "stream",
     "text": [
      "Default metric period is 5 because MAE, R2 is/are not implemented for GPU\n",
      "Metric R2 is not implemented on GPU. Will use CPU for metric computation, this could significantly affect learning time\n",
      "[I 2024-04-25 07:34:44,223] Trial 42 finished with values: {'R2': 0.18499913916664423, 'MAE': 0.12469340480390716, 'RMSE': 0.1525167852657677} and parameters: {'n_estimators': 100, 'learning_rate': 0.0015568769737516817, 'depth': 15, 'l2_leaf_reg': 1.3150192112981196}. \n"
     ]
    },
    {
     "name": "stdout",
     "output_type": "stream",
     "text": [
      "dict_values([0.18499913916664423, 0.12469340480390716, 0.1525167852657677])\n"
     ]
    },
    {
     "name": "stderr",
     "output_type": "stream",
     "text": [
      "Default metric period is 5 because MAE, R2 is/are not implemented for GPU\n",
      "Metric R2 is not implemented on GPU. Will use CPU for metric computation, this could significantly affect learning time\n",
      "[I 2024-04-25 07:34:55,276] Trial 43 finished with values: {'R2': 0.7074183746992522, 'MAE': 0.07046834135134135, 'RMSE': 0.09138231018254435} and parameters: {'n_estimators': 146, 'learning_rate': 0.01119513270336755, 'depth': 14, 'l2_leaf_reg': 2.9327676865204007}. \n"
     ]
    },
    {
     "name": "stdout",
     "output_type": "stream",
     "text": [
      "dict_values([0.7074183746992522, 0.07046834135134135, 0.09138231018254435])\n"
     ]
    },
    {
     "name": "stderr",
     "output_type": "stream",
     "text": [
      "Default metric period is 5 because MAE, R2 is/are not implemented for GPU\n",
      "Metric R2 is not implemented on GPU. Will use CPU for metric computation, this could significantly affect learning time\n",
      "[I 2024-04-25 07:34:57,024] Trial 44 finished with values: {'R2': 0.40381278846912294, 'MAE': 0.1057652455808953, 'RMSE': 0.1304457508574303} and parameters: {'n_estimators': 83, 'learning_rate': 0.005280447976493914, 'depth': 8, 'l2_leaf_reg': 1.2164436508625203}. \n"
     ]
    },
    {
     "name": "stdout",
     "output_type": "stream",
     "text": [
      "dict_values([0.40381278846912294, 0.1057652455808953, 0.1304457508574303])\n"
     ]
    },
    {
     "name": "stderr",
     "output_type": "stream",
     "text": [
      "Default metric period is 5 because MAE, R2 is/are not implemented for GPU\n",
      "Metric R2 is not implemented on GPU. Will use CPU for metric computation, this could significantly affect learning time\n",
      "[I 2024-04-25 07:34:58,937] Trial 45 finished with values: {'R2': 0.6883146233318181, 'MAE': 0.0733370681821853, 'RMSE': 0.09431848634532711} and parameters: {'n_estimators': 121, 'learning_rate': 0.012987845314891795, 'depth': 7, 'l2_leaf_reg': 3.149012616455851}. \n"
     ]
    },
    {
     "name": "stdout",
     "output_type": "stream",
     "text": [
      "dict_values([0.6883146233318181, 0.0733370681821853, 0.09431848634532711])\n"
     ]
    },
    {
     "name": "stderr",
     "output_type": "stream",
     "text": [
      "Default metric period is 5 because MAE, R2 is/are not implemented for GPU\n",
      "Metric R2 is not implemented on GPU. Will use CPU for metric computation, this could significantly affect learning time\n",
      "[I 2024-04-25 07:35:01,018] Trial 46 finished with values: {'R2': 0.5002011512123488, 'MAE': 0.09584612868294341, 'RMSE': 0.11943627076678212} and parameters: {'n_estimators': 102, 'learning_rate': 0.006228106995021186, 'depth': 9, 'l2_leaf_reg': 3.6585720155962353}. \n"
     ]
    },
    {
     "name": "stdout",
     "output_type": "stream",
     "text": [
      "dict_values([0.5002011512123488, 0.09584612868294341, 0.11943627076678212])\n"
     ]
    },
    {
     "name": "stderr",
     "output_type": "stream",
     "text": [
      "Default metric period is 5 because MAE, R2 is/are not implemented for GPU\n",
      "Metric R2 is not implemented on GPU. Will use CPU for metric computation, this could significantly affect learning time\n",
      "[I 2024-04-25 07:35:04,088] Trial 47 finished with values: {'R2': 0.3281090282304243, 'MAE': 0.11243875411905062, 'RMSE': 0.13848030509740597} and parameters: {'n_estimators': 188, 'learning_rate': 0.0017258674208803688, 'depth': 10, 'l2_leaf_reg': 2.709495086992275}. \n"
     ]
    },
    {
     "name": "stdout",
     "output_type": "stream",
     "text": [
      "dict_values([0.3281090282304243, 0.11243875411905062, 0.13848030509740597])\n"
     ]
    },
    {
     "name": "stderr",
     "output_type": "stream",
     "text": [
      "Default metric period is 5 because MAE, R2 is/are not implemented for GPU\n",
      "Metric R2 is not implemented on GPU. Will use CPU for metric computation, this could significantly affect learning time\n",
      "[I 2024-04-25 07:35:05,936] Trial 48 finished with values: {'R2': 0.6650944613665355, 'MAE': 0.07645320482419266, 'RMSE': 0.0977686849992006} and parameters: {'n_estimators': 187, 'learning_rate': 0.014013755945831274, 'depth': 3, 'l2_leaf_reg': 0.9012775608699649}. \n"
     ]
    },
    {
     "name": "stdout",
     "output_type": "stream",
     "text": [
      "dict_values([0.6650944613665355, 0.07645320482419266, 0.0977686849992006])\n"
     ]
    },
    {
     "name": "stderr",
     "output_type": "stream",
     "text": [
      "Default metric period is 5 because MAE, R2 is/are not implemented for GPU\n",
      "Metric R2 is not implemented on GPU. Will use CPU for metric computation, this could significantly affect learning time\n",
      "[I 2024-04-25 07:35:07,516] Trial 49 finished with values: {'R2': 0.13321589135068157, 'MAE': 0.1296902099341882, 'RMSE': 0.1572874527698032} and parameters: {'n_estimators': 64, 'learning_rate': 0.002179340419146937, 'depth': 3, 'l2_leaf_reg': 3.7388224625315267}. \n"
     ]
    },
    {
     "name": "stdout",
     "output_type": "stream",
     "text": [
      "dict_values([0.13321589135068157, 0.1296902099341882, 0.1572874527698032])\n"
     ]
    },
    {
     "name": "stderr",
     "output_type": "stream",
     "text": [
      "Default metric period is 5 because MAE, R2 is/are not implemented for GPU\n",
      "Metric R2 is not implemented on GPU. Will use CPU for metric computation, this could significantly affect learning time\n",
      "[I 2024-04-25 07:35:10,417] Trial 50 finished with values: {'R2': 0.7158461311862249, 'MAE': 0.0694167138426031, 'RMSE': 0.09005656870878571} and parameters: {'n_estimators': 68, 'learning_rate': 0.02247729326121411, 'depth': 12, 'l2_leaf_reg': 0.6565588660043388}. \n"
     ]
    },
    {
     "name": "stdout",
     "output_type": "stream",
     "text": [
      "dict_values([0.7158461311862249, 0.0694167138426031, 0.09005656870878571])\n"
     ]
    },
    {
     "name": "stderr",
     "output_type": "stream",
     "text": [
      "Default metric period is 5 because MAE, R2 is/are not implemented for GPU\n",
      "Metric R2 is not implemented on GPU. Will use CPU for metric computation, this could significantly affect learning time\n",
      "[I 2024-04-25 07:35:12,374] Trial 51 finished with values: {'R2': 0.7078554135869998, 'MAE': 0.0703009678440136, 'RMSE': 0.09131403428116372} and parameters: {'n_estimators': 177, 'learning_rate': 0.013743969528320596, 'depth': 5, 'l2_leaf_reg': 4.112044590121862}. \n"
     ]
    },
    {
     "name": "stdout",
     "output_type": "stream",
     "text": [
      "dict_values([0.7078554135869998, 0.0703009678440136, 0.09131403428116372])\n"
     ]
    },
    {
     "name": "stderr",
     "output_type": "stream",
     "text": [
      "Default metric period is 5 because MAE, R2 is/are not implemented for GPU\n",
      "Metric R2 is not implemented on GPU. Will use CPU for metric computation, this could significantly affect learning time\n",
      "[I 2024-04-25 07:35:14,243] Trial 52 finished with values: {'R2': 0.7533435315832573, 'MAE': 0.06325528955610282, 'RMSE': 0.08390442460871787} and parameters: {'n_estimators': 68, 'learning_rate': 0.040936386872054836, 'depth': 9, 'l2_leaf_reg': 3.395003382965531}. \n"
     ]
    },
    {
     "name": "stdout",
     "output_type": "stream",
     "text": [
      "dict_values([0.7533435315832573, 0.06325528955610282, 0.08390442460871787])\n"
     ]
    },
    {
     "name": "stderr",
     "output_type": "stream",
     "text": [
      "Default metric period is 5 because MAE, R2 is/are not implemented for GPU\n",
      "Metric R2 is not implemented on GPU. Will use CPU for metric computation, this could significantly affect learning time\n",
      "[I 2024-04-25 07:35:16,004] Trial 53 finished with values: {'R2': 0.6972328073233263, 'MAE': 0.07190121345801519, 'RMSE': 0.09295933664502817} and parameters: {'n_estimators': 115, 'learning_rate': 0.023596886920996138, 'depth': 4, 'l2_leaf_reg': 3.4694394449941464}. \n"
     ]
    },
    {
     "name": "stdout",
     "output_type": "stream",
     "text": [
      "dict_values([0.6972328073233263, 0.07190121345801519, 0.09295933664502817])\n"
     ]
    },
    {
     "name": "stderr",
     "output_type": "stream",
     "text": [
      "Default metric period is 5 because MAE, R2 is/are not implemented for GPU\n",
      "Metric R2 is not implemented on GPU. Will use CPU for metric computation, this could significantly affect learning time\n",
      "[I 2024-04-25 07:35:45,590] Trial 54 finished with values: {'R2': 0.7736116553589947, 'MAE': 0.05957135435193624, 'RMSE': 0.08038326473337831} and parameters: {'n_estimators': 108, 'learning_rate': 0.04211022880756519, 'depth': 16, 'l2_leaf_reg': 3.864889892232164}. \n"
     ]
    },
    {
     "name": "stdout",
     "output_type": "stream",
     "text": [
      "dict_values([0.7736116553589947, 0.05957135435193624, 0.08038326473337831])\n"
     ]
    },
    {
     "name": "stderr",
     "output_type": "stream",
     "text": [
      "Default metric period is 5 because MAE, R2 is/are not implemented for GPU\n",
      "Metric R2 is not implemented on GPU. Will use CPU for metric computation, this could significantly affect learning time\n",
      "[I 2024-04-25 07:35:48,702] Trial 55 finished with values: {'R2': 0.6456980185752934, 'MAE': 0.07844834704938303, 'RMSE': 0.10056003122055641} and parameters: {'n_estimators': 51, 'learning_rate': 0.023596886920996138, 'depth': 13, 'l2_leaf_reg': 4.894294781688052}. \n"
     ]
    },
    {
     "name": "stdout",
     "output_type": "stream",
     "text": [
      "dict_values([0.6456980185752934, 0.07844834704938303, 0.10056003122055641])\n"
     ]
    },
    {
     "name": "stderr",
     "output_type": "stream",
     "text": [
      "Default metric period is 5 because MAE, R2 is/are not implemented for GPU\n",
      "Metric R2 is not implemented on GPU. Will use CPU for metric computation, this could significantly affect learning time\n",
      "[I 2024-04-25 07:35:50,372] Trial 56 finished with values: {'R2': 0.30523663801298173, 'MAE': 0.11562633195008135, 'RMSE': 0.14081764045329942} and parameters: {'n_estimators': 97, 'learning_rate': 0.0036445785384441776, 'depth': 4, 'l2_leaf_reg': 3.930471842919554}. \n"
     ]
    },
    {
     "name": "stdout",
     "output_type": "stream",
     "text": [
      "dict_values([0.30523663801298173, 0.11562633195008135, 0.14081764045329942])\n"
     ]
    },
    {
     "name": "stderr",
     "output_type": "stream",
     "text": [
      "Default metric period is 5 because MAE, R2 is/are not implemented for GPU\n",
      "Metric R2 is not implemented on GPU. Will use CPU for metric computation, this could significantly affect learning time\n",
      "[I 2024-04-25 07:36:08,969] Trial 57 finished with values: {'R2': 0.7368560879051349, 'MAE': 0.06595733005293807, 'RMSE': 0.08666331001208231} and parameters: {'n_estimators': 66, 'learning_rate': 0.02841594374206048, 'depth': 16, 'l2_leaf_reg': 1.0133599820550716}. \n"
     ]
    },
    {
     "name": "stdout",
     "output_type": "stream",
     "text": [
      "dict_values([0.7368560879051349, 0.06595733005293807, 0.08666331001208231])\n"
     ]
    },
    {
     "name": "stderr",
     "output_type": "stream",
     "text": [
      "Default metric period is 5 because MAE, R2 is/are not implemented for GPU\n",
      "Metric R2 is not implemented on GPU. Will use CPU for metric computation, this could significantly affect learning time\n",
      "[I 2024-04-25 07:36:10,718] Trial 58 finished with values: {'R2': 0.16659648382888426, 'MAE': 0.1263096230728931, 'RMSE': 0.15422908184938747} and parameters: {'n_estimators': 93, 'learning_rate': 0.001527863376122179, 'depth': 8, 'l2_leaf_reg': 1.603852712582497}. \n"
     ]
    },
    {
     "name": "stdout",
     "output_type": "stream",
     "text": [
      "dict_values([0.16659648382888426, 0.1263096230728931, 0.15422908184938747])\n"
     ]
    },
    {
     "name": "stderr",
     "output_type": "stream",
     "text": [
      "Default metric period is 5 because MAE, R2 is/are not implemented for GPU\n",
      "Metric R2 is not implemented on GPU. Will use CPU for metric computation, this could significantly affect learning time\n",
      "[I 2024-04-25 07:36:12,666] Trial 59 finished with values: {'R2': 0.6339898267182871, 'MAE': 0.0805890146052822, 'RMSE': 0.10220806995210535} and parameters: {'n_estimators': 99, 'learning_rate': 0.010897494686087682, 'depth': 8, 'l2_leaf_reg': 1.1692714803162878}. \n"
     ]
    },
    {
     "name": "stdout",
     "output_type": "stream",
     "text": [
      "dict_values([0.6339898267182871, 0.0805890146052822, 0.10220806995210535])\n"
     ]
    },
    {
     "name": "stderr",
     "output_type": "stream",
     "text": [
      "Default metric period is 5 because MAE, R2 is/are not implemented for GPU\n",
      "Metric R2 is not implemented on GPU. Will use CPU for metric computation, this could significantly affect learning time\n",
      "[I 2024-04-25 07:36:14,354] Trial 60 finished with values: {'R2': 0.17829629446976802, 'MAE': 0.12631624811808997, 'RMSE': 0.15314267601345966} and parameters: {'n_estimators': 110, 'learning_rate': 0.0017912658949416943, 'depth': 3, 'l2_leaf_reg': 4.949404289646627}. \n"
     ]
    },
    {
     "name": "stdout",
     "output_type": "stream",
     "text": [
      "dict_values([0.17829629446976802, 0.12631624811808997, 0.15314267601345966])\n"
     ]
    },
    {
     "name": "stderr",
     "output_type": "stream",
     "text": [
      "Default metric period is 5 because MAE, R2 is/are not implemented for GPU\n",
      "Metric R2 is not implemented on GPU. Will use CPU for metric computation, this could significantly affect learning time\n",
      "[I 2024-04-25 07:36:23,536] Trial 61 finished with values: {'R2': 0.6690540618241507, 'MAE': 0.07569693774715719, 'RMSE': 0.09718900513760367} and parameters: {'n_estimators': 116, 'learning_rate': 0.01119513270336755, 'depth': 14, 'l2_leaf_reg': 2.9327676865204007}. \n"
     ]
    },
    {
     "name": "stdout",
     "output_type": "stream",
     "text": [
      "dict_values([0.6690540618241507, 0.07569693774715719, 0.09718900513760367])\n"
     ]
    },
    {
     "name": "stderr",
     "output_type": "stream",
     "text": [
      "Default metric period is 5 because MAE, R2 is/are not implemented for GPU\n",
      "Metric R2 is not implemented on GPU. Will use CPU for metric computation, this could significantly affect learning time\n",
      "[I 2024-04-25 07:36:25,550] Trial 62 finished with values: {'R2': 0.5002011512123488, 'MAE': 0.09584612868294341, 'RMSE': 0.11943627076678212} and parameters: {'n_estimators': 102, 'learning_rate': 0.006228106995021186, 'depth': 9, 'l2_leaf_reg': 3.6585720155962353}. \n"
     ]
    },
    {
     "name": "stdout",
     "output_type": "stream",
     "text": [
      "dict_values([0.5002011512123488, 0.09584612868294341, 0.11943627076678212])\n"
     ]
    },
    {
     "name": "stderr",
     "output_type": "stream",
     "text": [
      "Default metric period is 5 because MAE, R2 is/are not implemented for GPU\n",
      "Metric R2 is not implemented on GPU. Will use CPU for metric computation, this could significantly affect learning time\n",
      "[I 2024-04-25 07:36:29,146] Trial 63 finished with values: {'R2': 0.6211999197870894, 'MAE': 0.08190243597706029, 'RMSE': 0.10397852205399305} and parameters: {'n_estimators': 169, 'learning_rate': 0.005928057949518627, 'depth': 11, 'l2_leaf_reg': 3.1020607657223565}. \n"
     ]
    },
    {
     "name": "stdout",
     "output_type": "stream",
     "text": [
      "dict_values([0.6211999197870894, 0.08190243597706029, 0.10397852205399305])\n"
     ]
    },
    {
     "name": "stderr",
     "output_type": "stream",
     "text": [
      "Default metric period is 5 because MAE, R2 is/are not implemented for GPU\n",
      "Metric R2 is not implemented on GPU. Will use CPU for metric computation, this could significantly affect learning time\n",
      "[I 2024-04-25 07:36:32,653] Trial 64 finished with values: {'R2': 0.7933667692990237, 'MAE': 0.055655721346153396, 'RMSE': 0.07679601626385887} and parameters: {'n_estimators': 100, 'learning_rate': 0.08569498903860184, 'depth': 12, 'l2_leaf_reg': 1.16124756637532}. \n"
     ]
    },
    {
     "name": "stdout",
     "output_type": "stream",
     "text": [
      "dict_values([0.7933667692990237, 0.055655721346153396, 0.07679601626385887])\n"
     ]
    },
    {
     "name": "stderr",
     "output_type": "stream",
     "text": [
      "Default metric period is 5 because MAE, R2 is/are not implemented for GPU\n",
      "Metric R2 is not implemented on GPU. Will use CPU for metric computation, this could significantly affect learning time\n",
      "[I 2024-04-25 07:36:34,380] Trial 65 finished with values: {'R2': 0.7327301075824942, 'MAE': 0.06623687070920364, 'RMSE': 0.0873400886457161} and parameters: {'n_estimators': 125, 'learning_rate': 0.04121440718995026, 'depth': 4, 'l2_leaf_reg': 0.5793598854157899}. \n"
     ]
    },
    {
     "name": "stdout",
     "output_type": "stream",
     "text": [
      "dict_values([0.7327301075824942, 0.06623687070920364, 0.0873400886457161])\n"
     ]
    },
    {
     "name": "stderr",
     "output_type": "stream",
     "text": [
      "Default metric period is 5 because MAE, R2 is/are not implemented for GPU\n",
      "Metric R2 is not implemented on GPU. Will use CPU for metric computation, this could significantly affect learning time\n",
      "[I 2024-04-25 07:37:15,018] Trial 66 finished with values: {'R2': 0.39209192220144873, 'MAE': 0.10647470739444365, 'RMSE': 0.13172177249057704} and parameters: {'n_estimators': 155, 'learning_rate': 0.002554262366028365, 'depth': 16, 'l2_leaf_reg': 0.5793598854157899}. \n"
     ]
    },
    {
     "name": "stdout",
     "output_type": "stream",
     "text": [
      "dict_values([0.39209192220144873, 0.10647470739444365, 0.13172177249057704])\n"
     ]
    },
    {
     "name": "stderr",
     "output_type": "stream",
     "text": [
      "Default metric period is 5 because MAE, R2 is/are not implemented for GPU\n",
      "Metric R2 is not implemented on GPU. Will use CPU for metric computation, this could significantly affect learning time\n",
      "[I 2024-04-25 07:37:16,947] Trial 67 finished with values: {'R2': 0.7754253257860232, 'MAE': 0.058888033948277886, 'RMSE': 0.08006062905165612} and parameters: {'n_estimators': 167, 'learning_rate': 0.04030594250806866, 'depth': 8, 'l2_leaf_reg': 3.864889892232164}. \n"
     ]
    },
    {
     "name": "stdout",
     "output_type": "stream",
     "text": [
      "dict_values([0.7754253257860232, 0.058888033948277886, 0.08006062905165612])\n"
     ]
    },
    {
     "name": "stderr",
     "output_type": "stream",
     "text": [
      "Default metric period is 5 because MAE, R2 is/are not implemented for GPU\n",
      "Metric R2 is not implemented on GPU. Will use CPU for metric computation, this could significantly affect learning time\n",
      "[I 2024-04-25 07:37:18,720] Trial 68 finished with values: {'R2': 0.715239162708251, 'MAE': 0.06918484272929039, 'RMSE': 0.09015270032191887} and parameters: {'n_estimators': 147, 'learning_rate': 0.024801370188845415, 'depth': 4, 'l2_leaf_reg': 4.949404289646627}. \n"
     ]
    },
    {
     "name": "stdout",
     "output_type": "stream",
     "text": [
      "dict_values([0.715239162708251, 0.06918484272929039, 0.09015270032191887])\n"
     ]
    },
    {
     "name": "stderr",
     "output_type": "stream",
     "text": [
      "Default metric period is 5 because MAE, R2 is/are not implemented for GPU\n",
      "Metric R2 is not implemented on GPU. Will use CPU for metric computation, this could significantly affect learning time\n",
      "[I 2024-04-25 07:37:21,386] Trial 69 finished with values: {'R2': 0.6919678847442372, 'MAE': 0.07275316218553668, 'RMSE': 0.09376410402726423} and parameters: {'n_estimators': 131, 'learning_rate': 0.0105537055678642, 'depth': 10, 'l2_leaf_reg': 1.6148615149530487}. \n"
     ]
    },
    {
     "name": "stdout",
     "output_type": "stream",
     "text": [
      "dict_values([0.6919678847442372, 0.07275316218553668, 0.09376410402726423])\n"
     ]
    },
    {
     "name": "stderr",
     "output_type": "stream",
     "text": [
      "Default metric period is 5 because MAE, R2 is/are not implemented for GPU\n",
      "Metric R2 is not implemented on GPU. Will use CPU for metric computation, this could significantly affect learning time\n",
      "[I 2024-04-25 07:37:22,965] Trial 70 finished with values: {'R2': 0.6984059856431316, 'MAE': 0.07173498309015824, 'RMSE': 0.09277905996379975} and parameters: {'n_estimators': 85, 'learning_rate': 0.049450248148496356, 'depth': 3, 'l2_leaf_reg': 1.4471348622041806}. \n"
     ]
    },
    {
     "name": "stdout",
     "output_type": "stream",
     "text": [
      "dict_values([0.6984059856431316, 0.07173498309015824, 0.09277905996379975])\n"
     ]
    },
    {
     "name": "stderr",
     "output_type": "stream",
     "text": [
      "Default metric period is 5 because MAE, R2 is/are not implemented for GPU\n",
      "Metric R2 is not implemented on GPU. Will use CPU for metric computation, this could significantly affect learning time\n",
      "[I 2024-04-25 07:37:25,164] Trial 71 finished with values: {'R2': 0.6413441866709189, 'MAE': 0.07957101653924087, 'RMSE': 0.10117600947725706} and parameters: {'n_estimators': 99, 'learning_rate': 0.011005801574384104, 'depth': 9, 'l2_leaf_reg': 1.603852712582497}. \n"
     ]
    },
    {
     "name": "stdout",
     "output_type": "stream",
     "text": [
      "dict_values([0.6413441866709189, 0.07957101653924087, 0.10117600947725706])\n"
     ]
    },
    {
     "name": "stderr",
     "output_type": "stream",
     "text": [
      "Default metric period is 5 because MAE, R2 is/are not implemented for GPU\n",
      "Metric R2 is not implemented on GPU. Will use CPU for metric computation, this could significantly affect learning time\n",
      "[I 2024-04-25 07:37:28,961] Trial 72 finished with values: {'R2': 0.6215451511983356, 'MAE': 0.0818510716159991, 'RMSE': 0.10393112919902889} and parameters: {'n_estimators': 169, 'learning_rate': 0.005928057949518627, 'depth': 11, 'l2_leaf_reg': 2.95680362995145}. \n"
     ]
    },
    {
     "name": "stdout",
     "output_type": "stream",
     "text": [
      "dict_values([0.6215451511983356, 0.0818510716159991, 0.10393112919902889])\n"
     ]
    },
    {
     "name": "stderr",
     "output_type": "stream",
     "text": [
      "Default metric period is 5 because MAE, R2 is/are not implemented for GPU\n",
      "Metric R2 is not implemented on GPU. Will use CPU for metric computation, this could significantly affect learning time\n",
      "[I 2024-04-25 07:37:30,777] Trial 73 finished with values: {'R2': 0.7061272535987118, 'MAE': 0.06993843950785268, 'RMSE': 0.09158371680151504} and parameters: {'n_estimators': 198, 'learning_rate': 0.05769074917937022, 'depth': 2, 'l2_leaf_reg': 1.16124756637532}. \n"
     ]
    },
    {
     "name": "stdout",
     "output_type": "stream",
     "text": [
      "dict_values([0.7061272535987118, 0.06993843950785268, 0.09158371680151504])\n"
     ]
    },
    {
     "name": "stderr",
     "output_type": "stream",
     "text": [
      "Default metric period is 5 because MAE, R2 is/are not implemented for GPU\n",
      "Metric R2 is not implemented on GPU. Will use CPU for metric computation, this could significantly affect learning time\n",
      "[I 2024-04-25 07:37:35,524] Trial 74 finished with values: {'R2': 0.6841062670836012, 'MAE': 0.07370785818184339, 'RMSE': 0.0949530925438503} and parameters: {'n_estimators': 155, 'learning_rate': 0.008962556025615555, 'depth': 12, 'l2_leaf_reg': 3.8683839340557533}. \n"
     ]
    },
    {
     "name": "stdout",
     "output_type": "stream",
     "text": [
      "dict_values([0.6841062670836012, 0.07370785818184339, 0.0949530925438503])\n"
     ]
    },
    {
     "name": "stderr",
     "output_type": "stream",
     "text": [
      "Default metric period is 5 because MAE, R2 is/are not implemented for GPU\n",
      "Metric R2 is not implemented on GPU. Will use CPU for metric computation, this could significantly affect learning time\n",
      "[I 2024-04-25 07:37:37,334] Trial 75 finished with values: {'R2': 0.2222606934253053, 'MAE': 0.1222209909739181, 'RMSE': 0.14898948989192717} and parameters: {'n_estimators': 134, 'learning_rate': 0.0016318020045120627, 'depth': 5, 'l2_leaf_reg': 2.110806315701688}. \n"
     ]
    },
    {
     "name": "stdout",
     "output_type": "stream",
     "text": [
      "dict_values([0.2222606934253053, 0.1222209909739181, 0.14898948989192717])\n"
     ]
    },
    {
     "name": "stderr",
     "output_type": "stream",
     "text": [
      "Default metric period is 5 because MAE, R2 is/are not implemented for GPU\n",
      "Metric R2 is not implemented on GPU. Will use CPU for metric computation, this could significantly affect learning time\n",
      "[I 2024-04-25 07:37:39,046] Trial 76 finished with values: {'R2': 0.44316488720974123, 'MAE': 0.10208655807429645, 'RMSE': 0.1260671443858588} and parameters: {'n_estimators': 63, 'learning_rate': 0.008379410351309825, 'depth': 7, 'l2_leaf_reg': 3.149012616455851}. \n"
     ]
    },
    {
     "name": "stdout",
     "output_type": "stream",
     "text": [
      "dict_values([0.44316488720974123, 0.10208655807429645, 0.1260671443858588])\n"
     ]
    },
    {
     "name": "stderr",
     "output_type": "stream",
     "text": [
      "Default metric period is 5 because MAE, R2 is/are not implemented for GPU\n",
      "Metric R2 is not implemented on GPU. Will use CPU for metric computation, this could significantly affect learning time\n",
      "[I 2024-04-25 07:37:40,921] Trial 77 finished with values: {'R2': 0.6923600247126798, 'MAE': 0.0726738091577482, 'RMSE': 0.09370440187203234} and parameters: {'n_estimators': 160, 'learning_rate': 0.015503783459309584, 'depth': 4, 'l2_leaf_reg': 0.3994008071215469}. \n"
     ]
    },
    {
     "name": "stdout",
     "output_type": "stream",
     "text": [
      "dict_values([0.6923600247126798, 0.0726738091577482, 0.09370440187203234])\n"
     ]
    },
    {
     "name": "stderr",
     "output_type": "stream",
     "text": [
      "Default metric period is 5 because MAE, R2 is/are not implemented for GPU\n",
      "Metric R2 is not implemented on GPU. Will use CPU for metric computation, this could significantly affect learning time\n",
      "[I 2024-04-25 07:38:13,734] Trial 78 finished with values: {'R2': 0.7747036547558687, 'MAE': 0.05939791372520251, 'RMSE': 0.08018916334499805} and parameters: {'n_estimators': 120, 'learning_rate': 0.03812894701717096, 'depth': 16, 'l2_leaf_reg': 4.395394412269662}. \n"
     ]
    },
    {
     "name": "stdout",
     "output_type": "stream",
     "text": [
      "dict_values([0.7747036547558687, 0.05939791372520251, 0.08018916334499805])\n"
     ]
    },
    {
     "name": "stderr",
     "output_type": "stream",
     "text": [
      "Default metric period is 5 because MAE, R2 is/are not implemented for GPU\n",
      "Metric R2 is not implemented on GPU. Will use CPU for metric computation, this could significantly affect learning time\n",
      "[I 2024-04-25 07:38:15,702] Trial 79 finished with values: {'R2': 0.3547082736521022, 'MAE': 0.11029116053655273, 'RMSE': 0.13571150207409827} and parameters: {'n_estimators': 167, 'learning_rate': 0.0022170734187787837, 'depth': 8, 'l2_leaf_reg': 3.399125589327392}. \n"
     ]
    },
    {
     "name": "stdout",
     "output_type": "stream",
     "text": [
      "dict_values([0.3547082736521022, 0.11029116053655273, 0.13571150207409827])\n"
     ]
    },
    {
     "name": "stderr",
     "output_type": "stream",
     "text": [
      "Default metric period is 5 because MAE, R2 is/are not implemented for GPU\n",
      "Metric R2 is not implemented on GPU. Will use CPU for metric computation, this could significantly affect learning time\n",
      "[I 2024-04-25 07:38:18,108] Trial 80 finished with values: {'R2': 0.6950485930843304, 'MAE': 0.0722934673710891, 'RMSE': 0.09329404633239698} and parameters: {'n_estimators': 145, 'learning_rate': 0.0105537055678642, 'depth': 8, 'l2_leaf_reg': 1.6148615149530487}. \n"
     ]
    },
    {
     "name": "stdout",
     "output_type": "stream",
     "text": [
      "dict_values([0.6950485930843304, 0.0722934673710891, 0.09329404633239698])\n"
     ]
    },
    {
     "name": "stderr",
     "output_type": "stream",
     "text": [
      "Default metric period is 5 because MAE, R2 is/are not implemented for GPU\n",
      "Metric R2 is not implemented on GPU. Will use CPU for metric computation, this could significantly affect learning time\n",
      "[I 2024-04-25 07:38:32,193] Trial 81 finished with values: {'R2': 0.3682149132270026, 'MAE': 0.10869030940900697, 'RMSE': 0.1342836984346216} and parameters: {'n_estimators': 99, 'learning_rate': 0.0037644401949386043, 'depth': 15, 'l2_leaf_reg': 1.603852712582497}. \n"
     ]
    },
    {
     "name": "stdout",
     "output_type": "stream",
     "text": [
      "dict_values([0.3682149132270026, 0.10869030940900697, 0.1342836984346216])\n"
     ]
    },
    {
     "name": "stderr",
     "output_type": "stream",
     "text": [
      "Default metric period is 5 because MAE, R2 is/are not implemented for GPU\n",
      "Metric R2 is not implemented on GPU. Will use CPU for metric computation, this could significantly affect learning time\n",
      "[I 2024-04-25 07:38:33,870] Trial 82 finished with values: {'R2': 0.7100786348471266, 'MAE': 0.07008135644105169, 'RMSE': 0.09096592067985047} and parameters: {'n_estimators': 148, 'learning_rate': 0.02247729326121411, 'depth': 4, 'l2_leaf_reg': 4.608429235692682}. \n"
     ]
    },
    {
     "name": "stdout",
     "output_type": "stream",
     "text": [
      "dict_values([0.7100786348471266, 0.07008135644105169, 0.09096592067985047])\n"
     ]
    },
    {
     "name": "stderr",
     "output_type": "stream",
     "text": [
      "Default metric period is 5 because MAE, R2 is/are not implemented for GPU\n",
      "Metric R2 is not implemented on GPU. Will use CPU for metric computation, this could significantly affect learning time\n",
      "[I 2024-04-25 07:38:36,100] Trial 83 finished with values: {'R2': 0.6408180871642404, 'MAE': 0.07983274290672047, 'RMSE': 0.10125018803674893} and parameters: {'n_estimators': 143, 'learning_rate': 0.00809933439464442, 'depth': 8, 'l2_leaf_reg': 4.419338946900076}. \n"
     ]
    },
    {
     "name": "stdout",
     "output_type": "stream",
     "text": [
      "dict_values([0.6408180871642404, 0.07983274290672047, 0.10125018803674893])\n"
     ]
    },
    {
     "name": "stderr",
     "output_type": "stream",
     "text": [
      "Default metric period is 5 because MAE, R2 is/are not implemented for GPU\n",
      "Metric R2 is not implemented on GPU. Will use CPU for metric computation, this could significantly affect learning time\n",
      "[I 2024-04-25 07:38:38,127] Trial 84 finished with values: {'R2': 0.7575654586846452, 'MAE': 0.062043965477635174, 'RMSE': 0.0831832448205082} and parameters: {'n_estimators': 167, 'learning_rate': 0.05772747288675077, 'depth': 5, 'l2_leaf_reg': 3.864889892232164}. \n"
     ]
    },
    {
     "name": "stdout",
     "output_type": "stream",
     "text": [
      "dict_values([0.7575654586846452, 0.062043965477635174, 0.0831832448205082])\n"
     ]
    },
    {
     "name": "stderr",
     "output_type": "stream",
     "text": [
      "Default metric period is 5 because MAE, R2 is/are not implemented for GPU\n",
      "Metric R2 is not implemented on GPU. Will use CPU for metric computation, this could significantly affect learning time\n",
      "[I 2024-04-25 07:38:54,603] Trial 85 finished with values: {'R2': 0.23582267580271787, 'MAE': 0.1204629094430462, 'RMSE': 0.14768476021644375} and parameters: {'n_estimators': 117, 'learning_rate': 0.0018017199268167484, 'depth': 15, 'l2_leaf_reg': 2.077410368876285}. \n"
     ]
    },
    {
     "name": "stdout",
     "output_type": "stream",
     "text": [
      "dict_values([0.23582267580271787, 0.1204629094430462, 0.14768476021644375])\n"
     ]
    },
    {
     "name": "stderr",
     "output_type": "stream",
     "text": [
      "Default metric period is 5 because MAE, R2 is/are not implemented for GPU\n",
      "Metric R2 is not implemented on GPU. Will use CPU for metric computation, this could significantly affect learning time\n",
      "[I 2024-04-25 07:38:58,068] Trial 86 finished with values: {'R2': 0.626584630903897, 'MAE': 0.0812735532776546, 'RMSE': 0.10323684015937501} and parameters: {'n_estimators': 169, 'learning_rate': 0.005928057949518627, 'depth': 11, 'l2_leaf_reg': 2.077063482929477}. \n"
     ]
    },
    {
     "name": "stdout",
     "output_type": "stream",
     "text": [
      "dict_values([0.626584630903897, 0.0812735532776546, 0.10323684015937501])\n"
     ]
    },
    {
     "name": "stderr",
     "output_type": "stream",
     "text": [
      "Default metric period is 5 because MAE, R2 is/are not implemented for GPU\n",
      "Metric R2 is not implemented on GPU. Will use CPU for metric computation, this could significantly affect learning time\n",
      "[I 2024-04-25 07:39:00,013] Trial 87 finished with values: {'R2': 0.6776206972430667, 'MAE': 0.07484163761672638, 'RMSE': 0.09592287451922668} and parameters: {'n_estimators': 112, 'learning_rate': 0.012987845314891795, 'depth': 7, 'l2_leaf_reg': 3.468719104162803}. \n"
     ]
    },
    {
     "name": "stdout",
     "output_type": "stream",
     "text": [
      "dict_values([0.6776206972430667, 0.07484163761672638, 0.09592287451922668])\n"
     ]
    },
    {
     "name": "stderr",
     "output_type": "stream",
     "text": [
      "Default metric period is 5 because MAE, R2 is/are not implemented for GPU\n",
      "Metric R2 is not implemented on GPU. Will use CPU for metric computation, this could significantly affect learning time\n",
      "[I 2024-04-25 07:39:51,768] Trial 88 finished with values: {'R2': 0.5339634378203766, 'MAE': 0.09196751485737512, 'RMSE': 0.1153316761792781} and parameters: {'n_estimators': 198, 'learning_rate': 0.0035879626617611026, 'depth': 16, 'l2_leaf_reg': 2.980289884992481}. \n"
     ]
    },
    {
     "name": "stdout",
     "output_type": "stream",
     "text": [
      "dict_values([0.5339634378203766, 0.09196751485737512, 0.1153316761792781])\n"
     ]
    },
    {
     "name": "stderr",
     "output_type": "stream",
     "text": [
      "Default metric period is 5 because MAE, R2 is/are not implemented for GPU\n",
      "Metric R2 is not implemented on GPU. Will use CPU for metric computation, this could significantly affect learning time\n",
      "[I 2024-04-25 07:40:00,530] Trial 89 finished with values: {'R2': 0.7779603447338028, 'MAE': 0.05856311797377699, 'RMSE': 0.0796074808682238} and parameters: {'n_estimators': 120, 'learning_rate': 0.04030594250806866, 'depth': 14, 'l2_leaf_reg': 2.652510287283958}. \n"
     ]
    },
    {
     "name": "stdout",
     "output_type": "stream",
     "text": [
      "dict_values([0.7779603447338028, 0.05856311797377699, 0.0796074808682238])\n"
     ]
    },
    {
     "name": "stderr",
     "output_type": "stream",
     "text": [
      "Default metric period is 5 because MAE, R2 is/are not implemented for GPU\n",
      "Metric R2 is not implemented on GPU. Will use CPU for metric computation, this could significantly affect learning time\n",
      "[I 2024-04-25 07:40:02,177] Trial 90 finished with values: {'R2': 0.5294689324021715, 'MAE': 0.09299677203057677, 'RMSE': 0.11588647713172102} and parameters: {'n_estimators': 50, 'learning_rate': 0.013743969528320596, 'depth': 8, 'l2_leaf_reg': 0.14406638225224097}. \n"
     ]
    },
    {
     "name": "stdout",
     "output_type": "stream",
     "text": [
      "dict_values([0.5294689324021715, 0.09299677203057677, 0.11588647713172102])\n"
     ]
    },
    {
     "name": "stderr",
     "output_type": "stream",
     "text": [
      "Default metric period is 5 because MAE, R2 is/are not implemented for GPU\n",
      "Metric R2 is not implemented on GPU. Will use CPU for metric computation, this could significantly affect learning time\n",
      "[I 2024-04-25 07:40:03,999] Trial 91 finished with values: {'R2': 0.5624296632929483, 'MAE': 0.09005566145097109, 'RMSE': 0.11175386330008523} and parameters: {'n_estimators': 147, 'learning_rate': 0.006926491493699856, 'depth': 4, 'l2_leaf_reg': 0.1604511124764173}. \n"
     ]
    },
    {
     "name": "stdout",
     "output_type": "stream",
     "text": [
      "dict_values([0.5624296632929483, 0.09005566145097109, 0.11175386330008523])\n"
     ]
    },
    {
     "name": "stderr",
     "output_type": "stream",
     "text": [
      "Default metric period is 5 because MAE, R2 is/are not implemented for GPU\n",
      "Metric R2 is not implemented on GPU. Will use CPU for metric computation, this could significantly affect learning time\n",
      "[I 2024-04-25 07:40:07,060] Trial 92 finished with values: {'R2': 0.7815950973124357, 'MAE': 0.0576439175043502, 'RMSE': 0.07895321157585698} and parameters: {'n_estimators': 120, 'learning_rate': 0.0512809620771159, 'depth': 11, 'l2_leaf_reg': 3.6585720155962353}. \n"
     ]
    },
    {
     "name": "stdout",
     "output_type": "stream",
     "text": [
      "dict_values([0.7815950973124357, 0.0576439175043502, 0.07895321157585698])\n"
     ]
    },
    {
     "name": "stderr",
     "output_type": "stream",
     "text": [
      "Default metric period is 5 because MAE, R2 is/are not implemented for GPU\n",
      "Metric R2 is not implemented on GPU. Will use CPU for metric computation, this could significantly affect learning time\n",
      "[I 2024-04-25 07:40:14,000] Trial 93 finished with values: {'R2': 0.777320634373871, 'MAE': 0.05729732012195464, 'RMSE': 0.07972207549515178} and parameters: {'n_estimators': 145, 'learning_rate': 0.08463090760069215, 'depth': 13, 'l2_leaf_reg': 3.171725470180467}. \n"
     ]
    },
    {
     "name": "stdout",
     "output_type": "stream",
     "text": [
      "dict_values([0.777320634373871, 0.05729732012195464, 0.07972207549515178])\n"
     ]
    },
    {
     "name": "stderr",
     "output_type": "stream",
     "text": [
      "Default metric period is 5 because MAE, R2 is/are not implemented for GPU\n",
      "Metric R2 is not implemented on GPU. Will use CPU for metric computation, this could significantly affect learning time\n",
      "[I 2024-04-25 07:40:56,588] Trial 94 finished with values: {'R2': 0.779432222130171, 'MAE': 0.058420750892451634, 'RMSE': 0.07934318736002019} and parameters: {'n_estimators': 160, 'learning_rate': 0.036241464563626834, 'depth': 16, 'l2_leaf_reg': 4.567636220354249}. \n"
     ]
    },
    {
     "name": "stdout",
     "output_type": "stream",
     "text": [
      "dict_values([0.779432222130171, 0.058420750892451634, 0.07934318736002019])\n"
     ]
    },
    {
     "name": "stderr",
     "output_type": "stream",
     "text": [
      "Default metric period is 5 because MAE, R2 is/are not implemented for GPU\n",
      "Metric R2 is not implemented on GPU. Will use CPU for metric computation, this could significantly affect learning time\n",
      "[I 2024-04-25 07:41:10,131] Trial 95 finished with values: {'R2': 0.5393109373177405, 'MAE': 0.09141614255543308, 'RMSE': 0.11466808502959804} and parameters: {'n_estimators': 50, 'learning_rate': 0.013743969528320596, 'depth': 16, 'l2_leaf_reg': 0.8772756698216004}. \n"
     ]
    },
    {
     "name": "stdout",
     "output_type": "stream",
     "text": [
      "dict_values([0.5393109373177405, 0.09141614255543308, 0.11466808502959804])\n"
     ]
    },
    {
     "name": "stderr",
     "output_type": "stream",
     "text": [
      "Default metric period is 5 because MAE, R2 is/are not implemented for GPU\n",
      "Metric R2 is not implemented on GPU. Will use CPU for metric computation, this could significantly affect learning time\n",
      "[I 2024-04-25 07:41:13,498] Trial 96 finished with values: {'R2': 0.7669734552700411, 'MAE': 0.06094606934587145, 'RMSE': 0.08155325635482955} and parameters: {'n_estimators': 96, 'learning_rate': 0.0268742000508456, 'depth': 12, 'l2_leaf_reg': 0.5259261537577501}. \n"
     ]
    },
    {
     "name": "stdout",
     "output_type": "stream",
     "text": [
      "dict_values([0.7669734552700411, 0.06094606934587145, 0.08155325635482955])\n"
     ]
    },
    {
     "name": "stderr",
     "output_type": "stream",
     "text": [
      "Default metric period is 5 because MAE, R2 is/are not implemented for GPU\n",
      "Metric R2 is not implemented on GPU. Will use CPU for metric computation, this could significantly affect learning time\n",
      "[I 2024-04-25 07:41:15,283] Trial 97 finished with values: {'R2': 0.365300048296614, 'MAE': 0.11040494018640253, 'RMSE': 0.1345931141030015} and parameters: {'n_estimators': 125, 'learning_rate': 0.0036445785384441776, 'depth': 4, 'l2_leaf_reg': 3.2483282390636763}. \n"
     ]
    },
    {
     "name": "stdout",
     "output_type": "stream",
     "text": [
      "dict_values([0.365300048296614, 0.11040494018640253, 0.1345931141030015])\n"
     ]
    },
    {
     "name": "stderr",
     "output_type": "stream",
     "text": [
      "Default metric period is 5 because MAE, R2 is/are not implemented for GPU\n",
      "Metric R2 is not implemented on GPU. Will use CPU for metric computation, this could significantly affect learning time\n",
      "[I 2024-04-25 07:41:17,039] Trial 98 finished with values: {'R2': 0.34112577496228325, 'MAE': 0.11370586308308304, 'RMSE': 0.13713233411627834} and parameters: {'n_estimators': 160, 'learning_rate': 0.0035879626617611026, 'depth': 2, 'l2_leaf_reg': 4.899171255004723}. \n"
     ]
    },
    {
     "name": "stdout",
     "output_type": "stream",
     "text": [
      "dict_values([0.34112577496228325, 0.11370586308308304, 0.13713233411627834])\n"
     ]
    },
    {
     "name": "stderr",
     "output_type": "stream",
     "text": [
      "Default metric period is 5 because MAE, R2 is/are not implemented for GPU\n",
      "Metric R2 is not implemented on GPU. Will use CPU for metric computation, this could significantly affect learning time\n",
      "[I 2024-04-25 07:41:26,479] Trial 99 finished with values: {'R2': 0.635956196355826, 'MAE': 0.07988531624915236, 'RMSE': 0.10193314656926694} and parameters: {'n_estimators': 121, 'learning_rate': 0.009183066002866622, 'depth': 14, 'l2_leaf_reg': 3.149012616455851}. \n",
      "2024/04/25 07:41:26 INFO mlflow.tracking.fluent: Experiment with name 'catboost_2022_1250_scaled' does not exist. Creating a new experiment.\n"
     ]
    },
    {
     "name": "stdout",
     "output_type": "stream",
     "text": [
      "dict_values([0.635956196355826, 0.07988531624915236, 0.10193314656926694])\n",
      "{'n_estimators': 1000, 'learning_rate': 0.08569498903860184, 'depth': 12, 'l2_leaf_reg': 1.16124756637532, 'custom_metric': ['R2', 'MAE', 'RMSE'], 'random_state': 2024, 'task_type': 'GPU', 'devices': '0-3'}\n",
      "interval columns not set, guessing: ['BlockP', 'BlockT', 'C1P', 'C1T', 'C1L', 'C2P', 'C2T', 'C2interfacial_L', 'С2petrol_L', 'OH1T', 'OH1interfacial_L', 'OH1P', 'C3T', 'C3L', 'P1Tinput', 'P1Toutput', 'P1Pinput', 'P1Poutput', 'P1Тcoolant', 'P1Tgases', 'P1Рburner', 'P2Tinput', 'P2Toutput', 'P2Pinput', 'P2Poutput', 'P2Tcoolant', 'P2Tgases', 'P2Pburner', 'Water', 'Vlagomer']\n"
     ]
    }
   ],
   "source": [
    "df_2022 = Dataset(verbose=False)\n",
    "df_2022.load(join(DATA, 'preprocessed', '2022_1250_scaled.csv'), parse_dates=['Date'])\n",
    "\n",
    "train = Train(df_2022,  model_name='catboost', metrics=['R2','MAE', 'RMSE'], directions=['maximize', 'minimize','minimize'], test_size=0.2)\n",
    "train.optimize('catboost_2022_1250_scaled', 100) # дашборд запускается $ optuna-dashboard sqlite:///db.sqlite3\n",
    "# train.try_all_trials(100)\n",
    "train.train_with_trial(train.best_trials[0], 1000)\n",
    "# train.plot_preds()"
   ]
  },
  {
   "cell_type": "code",
   "execution_count": 3,
   "metadata": {},
   "outputs": [
    {
     "name": "stdout",
     "output_type": "stream",
     "text": [
      "{'n_estimators': 1000, 'learning_rate': 0.08569498903860184, 'depth': 12, 'l2_leaf_reg': 1.16124756637532, 'custom_metric': ['R2', 'MAE', 'RMSE'], 'random_state': 2024, 'task_type': 'GPU', 'devices': '0-3'}\n",
      "interval columns not set, guessing: ['BlockP', 'BlockT', 'C1P', 'C1T', 'C1L', 'C2P', 'C2T', 'C2interfacial_L', 'С2petrol_L', 'OH1T', 'OH1interfacial_L', 'OH1P', 'C3T', 'C3L', 'P1Tinput', 'P1Toutput', 'P1Pinput', 'P1Poutput', 'P1Тcoolant', 'P1Tgases', 'P1Рburner', 'P2Tinput', 'P2Toutput', 'P2Pinput', 'P2Poutput', 'P2Tcoolant', 'P2Tgases', 'P2Pburner', 'Water', 'Vlagomer']\n"
     ]
    }
   ],
   "source": [
    "train.train_with_trial(train.best_trials[0], 1000)"
   ]
  },
  {
   "cell_type": "markdown",
   "metadata": {},
   "source": [
    "# Обработка 2022 (2500) (data_2022.csv уже перезаписан)"
   ]
  },
  {
   "cell_type": "code",
   "execution_count": null,
   "metadata": {},
   "outputs": [],
   "source": [
    "df = Dataset(verbose=True)\n",
    "df.load(join(DATA, 'preprocessed', 'data_2022.csv'), parse_dates=['Дата'])\n",
    "df.drop(['Unnamed: 0'])\n",
    "\n",
    "# df.df[df.df['ОН-1/2,P отс. ,кгс/см²'].isin([0])].iloc[:,14:]\n",
    "\n",
    "alerts = ['2022-05-17 10:00:00', '2022-06-06 08:00:00', '2022-07-28 14:00:00', '2022-12-25 12:00:00', '2022-09-03 16:00:00']\n",
    "df.df[df.df['Дата'].isin(alerts)] # аномальные дни\n",
    "\n",
    "df.df.drop(df.df[df.df['Дата'].isin(alerts)].index, inplace=True)\n",
    "\n",
    "# df.time_series(df.cols[1:], time_axis='Дата', filepath=join(PLOTS, 'time_series', \"2022_all\"))\n",
    "# df.corr_matrix(df.cols[1:], target='Добыча воды за 2 ч', filepath=join(PLOTS, 'correlation', \"2022_all\"), show=True)"
   ]
  },
  {
   "cell_type": "markdown",
   "metadata": {},
   "source": [
    "# Идеи"
   ]
  },
  {
   "cell_type": "code",
   "execution_count": null,
   "metadata": {},
   "outputs": [],
   "source": [
    "cols = df.cols[1:-2]\n",
    "for col in cols:\n",
    "    df.df[col] = df.zscore(df.df[col], window=300, thresh=3.0, coeff=1.0)\n",
    "    # plot(df.df[col], df.df[col + '_cleaned'], max, min)\n"
   ]
  },
  {
   "cell_type": "code",
   "execution_count": null,
   "metadata": {},
   "outputs": [],
   "source": [
    "cols = ['Water_2hours', 'Vlagomer']\n",
    "for col in cols:\n",
    "    df.df[col] = df.zscore(df.df[col], window=300, thresh=3.0, coeff=1.0)\n",
    "    # plot(df.df[col], df.df[col + '_cleaned'], max, min)\n",
    "df.corr_matrix(df.cols[1:], target='Vlagomer', show=True)"
   ]
  }
 ],
 "metadata": {
  "kernelspec": {
   "display_name": "petrol-j8nzVRxz-py3.10",
   "language": "python",
   "name": "python3"
  },
  "language_info": {
   "codemirror_mode": {
    "name": "ipython",
    "version": 3
   },
   "file_extension": ".py",
   "mimetype": "text/x-python",
   "name": "python",
   "nbconvert_exporter": "python",
   "pygments_lexer": "ipython3",
   "version": "3.10.12"
  }
 },
 "nbformat": 4,
 "nbformat_minor": 2
}
